{
 "cells": [
  {
   "cell_type": "code",
   "execution_count": null,
   "id": "9402a66a",
   "metadata": {},
   "outputs": [],
   "source": [
    "from IPython.display import display, Image"
   ]
  },
  {
   "cell_type": "markdown",
   "id": "308521a5",
   "metadata": {},
   "source": [
    "### Cambiamento: 2024-11-06 09:16:20\n",
    "- **PID**: <0.174.0>\n",
    "- **Color**: red\n",
    "- **Image Path**: `static/matrix_20241106_091620.png`"
   ]
  },
  {
   "cell_type": "code",
   "execution_count": null,
   "id": "45767b5d",
   "metadata": {},
   "outputs": [],
   "source": [
    "display(Image(filename='static/matrix_20241106_091620.png'))"
   ]
  },
  {
   "cell_type": "markdown",
   "id": "28f6250d",
   "metadata": {},
   "source": [
    "### Cambiamento: 2024-11-06 09:18:48\n",
    "- **PID**: <0.175.0>\n",
    "- **Color**: red\n",
    "- **Image Path**: `static/matrix_20241106_091848.png`"
   ]
  },
  {
   "cell_type": "code",
   "execution_count": null,
   "id": "19e9e7a7",
   "metadata": {},
   "outputs": [],
   "source": [
    "display(Image(filename='static/matrix_20241106_091848.png'))"
   ]
  },
  {
   "cell_type": "markdown",
   "id": "65234642",
   "metadata": {},
   "source": [
    "### Cambiamento: 2024-11-06 09:18:58\n",
    "- **PID**: <0.175.0>\n",
    "- **Color**: red\n",
    "- **Image Path**: `static/matrix_20241106_091858.png`"
   ]
  },
  {
   "cell_type": "code",
   "execution_count": null,
   "id": "cfcc43bc",
   "metadata": {},
   "outputs": [],
   "source": [
    "display(Image(filename='static/matrix_20241106_091858.png'))"
   ]
  },
  {
   "cell_type": "markdown",
   "id": "e1445af4",
   "metadata": {},
   "source": [
    "### Cambiamento: 2024-11-06 09:20:41\n",
    "- **PID**: <0.182.0>\n",
    "- **Color**: red\n",
    "- **Image Path**: `static/matrix_20241106_092041.png`"
   ]
  },
  {
   "cell_type": "code",
   "execution_count": null,
   "id": "982dfc5b",
   "metadata": {},
   "outputs": [],
   "source": [
    "display(Image(filename='static/matrix_20241106_092041.png'))"
   ]
  },
  {
   "cell_type": "markdown",
   "id": "1cccc3fb",
   "metadata": {},
   "source": [
    "### Cambiamento: 2024-11-06 09:23:46\n",
    "- **PID**: <0.152.0>\n",
    "- **Color**: red\n",
    "- **Image Path**: `static/matrix_20241106_092345.png`"
   ]
  },
  {
   "cell_type": "code",
   "execution_count": null,
   "id": "9e8aa103",
   "metadata": {},
   "outputs": [],
   "source": [
    "display(Image(filename='static/matrix_20241106_092345.png'))"
   ]
  },
  {
   "cell_type": "markdown",
   "id": "64368659",
   "metadata": {},
   "source": [
    "### Cambiamento: 2024-11-06 09:25:47\n",
    "- **PID**: <0.165.0>\n",
    "- **Color**: red\n",
    "- **Image Path**: `static/matrix_20241106_092546.png`"
   ]
  },
  {
   "cell_type": "code",
   "execution_count": null,
   "id": "26fc339c",
   "metadata": {},
   "outputs": [],
   "source": [
    "display(Image(filename='static/matrix_20241106_092546.png'))"
   ]
  },
  {
   "cell_type": "markdown",
   "id": "08591a39",
   "metadata": {},
   "source": [
    "### Cambiamento: 2024-11-06 09:32:08\n",
    "- **PID**: <0.175.0>\n",
    "- **Color**: red\n",
    "- **Image Path**: `static/matrix_20241106_093208.png`"
   ]
  },
  {
   "cell_type": "code",
   "execution_count": null,
   "id": "53e6fefc",
   "metadata": {},
   "outputs": [],
   "source": [
    "display(Image(filename='static/matrix_20241106_093208.png'))"
   ]
  },
  {
   "cell_type": "markdown",
   "id": "b5550da1",
   "metadata": {},
   "source": [
    "### Cambiamento: 2024-11-06 09:34:37\n",
    "- **PID**: <0.144.0>\n",
    "- **Color**: red\n",
    "- **Image Path**: `static/matrix_20241106_093437.png`"
   ]
  },
  {
   "cell_type": "code",
   "execution_count": null,
   "id": "9b28ea89",
   "metadata": {},
   "outputs": [],
   "source": [
    "display(Image(filename='static/matrix_20241106_093437.png'))"
   ]
  },
  {
   "cell_type": "markdown",
   "id": "6456c95b",
   "metadata": {},
   "source": [
    "### Cambiamento: 2024-11-06 09:39:49\n",
    "- **PID**: <0.176.0>\n",
    "- **Color**: red\n",
    "- **Image Path**: `static/matrix_20241106_093948.png`"
   ]
  },
  {
   "cell_type": "code",
   "execution_count": null,
   "id": "f4236a35",
   "metadata": {},
   "outputs": [],
   "source": [
    "display(Image(filename='static/matrix_20241106_093948.png'))"
   ]
  },
  {
   "cell_type": "markdown",
   "id": "0f8b6291",
   "metadata": {},
   "source": [
    "### Cambiamento: 2024-11-06 09:41:07\n",
    "- **PID**: <0.146.0>\n",
    "- **Color**: red\n",
    "- **Image Path**: `static/matrix_20241106_094106.png`"
   ]
  },
  {
   "cell_type": "code",
   "execution_count": null,
   "id": "1f461e0b",
   "metadata": {},
   "outputs": [],
   "source": [
    "display(Image(filename='static/matrix_20241106_094106.png'))"
   ]
  },
  {
   "cell_type": "markdown",
   "id": "bcd31b33",
   "metadata": {},
   "source": [
    "### Cambiamento: 2024-11-06 09:41:14\n",
    "- **PID**: <0.147.0>\n",
    "- **Color**: red\n",
    "- **Image Path**: `static/matrix_20241106_094114.png`"
   ]
  },
  {
   "cell_type": "code",
   "execution_count": null,
   "id": "f1a3596b",
   "metadata": {},
   "outputs": [],
   "source": [
    "display(Image(filename='static/matrix_20241106_094114.png'))"
   ]
  },
  {
   "cell_type": "markdown",
   "id": "5db48f60",
   "metadata": {},
   "source": [
    "### Cambiamento: 2024-11-06 09:41:21\n",
    "- **PID**: <0.148.0>\n",
    "- **Color**: red\n",
    "- **Image Path**: `static/matrix_20241106_094121.png`"
   ]
  },
  {
   "cell_type": "code",
   "execution_count": null,
   "id": "658901a2",
   "metadata": {},
   "outputs": [],
   "source": [
    "display(Image(filename='static/matrix_20241106_094121.png'))"
   ]
  },
  {
   "cell_type": "markdown",
   "id": "5d42deea",
   "metadata": {},
   "source": [
    "### Cambiamento: 2024-11-06 09:41:27\n",
    "- **PID**: <0.182.0>\n",
    "- **Color**: red\n",
    "- **Image Path**: `static/matrix_20241106_094127.png`"
   ]
  },
  {
   "cell_type": "code",
   "execution_count": null,
   "id": "a7042872",
   "metadata": {},
   "outputs": [],
   "source": [
    "display(Image(filename='static/matrix_20241106_094127.png'))"
   ]
  },
  {
   "cell_type": "markdown",
   "id": "4544cb0b",
   "metadata": {},
   "source": [
    "### Cambiamento: 2024-11-06 09:41:34\n",
    "- **PID**: <0.184.0>\n",
    "- **Color**: red\n",
    "- **Image Path**: `static/matrix_20241106_094133.png`"
   ]
  },
  {
   "cell_type": "code",
   "execution_count": null,
   "id": "dad7d316",
   "metadata": {},
   "outputs": [],
   "source": [
    "display(Image(filename='static/matrix_20241106_094133.png'))"
   ]
  },
  {
   "cell_type": "markdown",
   "id": "46a56e9e",
   "metadata": {},
   "source": [
    "### Cambiamento: 2024-11-06 09:42:50\n",
    "- **PID**: <0.145.0>\n",
    "- **Color**: red\n",
    "- **Image Path**: `static/matrix_20241106_094249.png`"
   ]
  },
  {
   "cell_type": "code",
   "execution_count": null,
   "id": "101d2ae8",
   "metadata": {},
   "outputs": [],
   "source": [
    "display(Image(filename='static/matrix_20241106_094249.png'))"
   ]
  },
  {
   "cell_type": "markdown",
   "id": "2b6a6db2",
   "metadata": {},
   "source": [
    "### Cambiamento: 2024-11-06 09:43:14\n",
    "- **PID**: <0.146.0>\n",
    "- **Color**: red\n",
    "- **Image Path**: `static/matrix_20241106_094313.png`"
   ]
  },
  {
   "cell_type": "code",
   "execution_count": null,
   "id": "9a60df5e",
   "metadata": {},
   "outputs": [],
   "source": [
    "display(Image(filename='static/matrix_20241106_094313.png'))"
   ]
  },
  {
   "cell_type": "markdown",
   "id": "deb621e2",
   "metadata": {},
   "source": [
    "### Cambiamento: 2024-11-06 09:44:25\n",
    "- **PID**: <0.147.0>\n",
    "- **Color**: black\n",
    "- **Image Path**: `static/matrix_20241106_094424.png`"
   ]
  },
  {
   "cell_type": "code",
   "execution_count": null,
   "id": "70c75576",
   "metadata": {},
   "outputs": [],
   "source": [
    "display(Image(filename='static/matrix_20241106_094424.png'))"
   ]
  },
  {
   "cell_type": "markdown",
   "id": "93f61792",
   "metadata": {},
   "source": [
    "### Cambiamento: 2024-11-06 09:47:38\n",
    "- **PID**: <0.162.0>\n",
    "- **Color**: red\n",
    "- **Image Path**: `static/matrix_20241106_094737.png`"
   ]
  },
  {
   "cell_type": "code",
   "execution_count": null,
   "id": "4a3a6e22",
   "metadata": {},
   "outputs": [],
   "source": [
    "display(Image(filename='static/matrix_20241106_094737.png'))"
   ]
  },
  {
   "cell_type": "markdown",
   "id": "c0f37b15",
   "metadata": {},
   "source": [
    "### Cambiamento: 2024-11-06 09:51:27\n",
    "- **PID**: <0.155.0>\n",
    "- **Color**: red\n",
    "- **Image Path**: `static/matrix_20241106_095127.png`"
   ]
  },
  {
   "cell_type": "code",
   "execution_count": null,
   "id": "2eb18be9",
   "metadata": {},
   "outputs": [],
   "source": [
    "display(Image(filename='static/matrix_20241106_095127.png'))"
   ]
  },
  {
   "cell_type": "markdown",
   "id": "9366ab62",
   "metadata": {},
   "source": [
    "### Cambiamento: 2024-11-06 09:51:43\n",
    "- **PID**: <0.162.0>\n",
    "- **Color**: red\n",
    "- **Image Path**: `static/matrix_20241106_095142.png`"
   ]
  },
  {
   "cell_type": "code",
   "execution_count": null,
   "id": "ef5cf646",
   "metadata": {},
   "outputs": [],
   "source": [
    "display(Image(filename='static/matrix_20241106_095142.png'))"
   ]
  },
  {
   "cell_type": "markdown",
   "id": "d0670823",
   "metadata": {},
   "source": [
    "### Cambiamento: 2024-11-06 09:53:41\n",
    "- **PID**: <0.188.0>\n",
    "- **Color**: red\n",
    "- **Image Path**: `static/matrix_20241106_095340.png`"
   ]
  },
  {
   "cell_type": "code",
   "execution_count": null,
   "id": "ffd9d8a7",
   "metadata": {},
   "outputs": [],
   "source": [
    "display(Image(filename='static/matrix_20241106_095340.png'))"
   ]
  }
 ],
 "metadata": {},
 "nbformat": 4,
 "nbformat_minor": 5
}
