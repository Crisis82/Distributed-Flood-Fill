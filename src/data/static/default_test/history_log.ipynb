{
 "cells": [
  {
   "cell_type": "code",
   "execution_count": null,
   "id": "54c2bc46",
   "metadata": {},
   "outputs": [],
   "source": [
    "from IPython.display import display, Image"
   ]
  },
  {
   "cell_type": "markdown",
   "id": "fe4e8a46",
   "metadata": {},
   "source": [
    "### Cambiamento: 2024-11-06 16:00:53\n",
    "- **PID**: <0.152.0>\n",
    "- **Color**: red\n",
    "- **Image Path**: `../../static/default_test/snapshots/matrix_20241106_160051.png`"
   ]
  },
  {
   "cell_type": "code",
   "execution_count": null,
   "id": "66477f51",
   "metadata": {},
   "outputs": [],
   "source": [
    "display(Image(filename='../../static/default_test/snapshots/matrix_20241106_160051.png'))"
   ]
  },
  {
   "cell_type": "markdown",
   "id": "adcfbcd5",
   "metadata": {},
   "source": [
    "### Cambiamento: 2024-11-06 16:02:32\n",
    "- **PID**: <0.107.0>\n",
    "- **Color**: red\n",
    "- **Image Path**: `../../static/default_test/snapshots/matrix_20241106_160231.png`"
   ]
  },
  {
   "cell_type": "code",
   "execution_count": null,
   "id": "11c715b7",
   "metadata": {},
   "outputs": [],
   "source": [
    "display(Image(filename='../../static/default_test/snapshots/matrix_20241106_160231.png'))"
   ]
  },
  {
   "cell_type": "markdown",
   "id": "fbc8022f",
   "metadata": {},
   "source": [
    "### Cambiamento: 2024-11-06 16:06:50\n",
    "- **PID**: <0.171.0>\n",
    "- **Color**: red\n",
    "- **Image Path**: `../../static/default_test/snapshots/matrix_20241106_160649.png`"
   ]
  },
  {
   "cell_type": "code",
   "execution_count": null,
   "id": "c7ae3ded",
   "metadata": {},
   "outputs": [],
   "source": [
    "display(Image(filename='../../static/default_test/snapshots/matrix_20241106_160649.png'))"
   ]
  },
  {
   "cell_type": "markdown",
   "id": "96275871",
   "metadata": {},
   "source": [
    "### Cambiamento: 2024-11-06 16:08:33\n",
    "- **PID**: <0.129.0>\n",
    "- **Color**: red\n",
    "- **Image Path**: `../../static/default_test/snapshots/matrix_20241106_160832.png`"
   ]
  },
  {
   "cell_type": "code",
   "execution_count": null,
   "id": "5686426b",
   "metadata": {},
   "outputs": [],
   "source": [
    "display(Image(filename='../../static/default_test/snapshots/matrix_20241106_160832.png'))"
   ]
  },
  {
   "cell_type": "markdown",
   "id": "1b0be40f",
   "metadata": {},
   "source": [
    "### Cambiamento: 2024-11-06 16:09:03\n",
    "- **PID**: <0.183.0>\n",
    "- **Color**: red\n",
    "- **Image Path**: `../../static/default_test/snapshots/matrix_20241106_160901.png`"
   ]
  },
  {
   "cell_type": "code",
   "execution_count": null,
   "id": "90753f45",
   "metadata": {},
   "outputs": [],
   "source": [
    "display(Image(filename='../../static/default_test/snapshots/matrix_20241106_160901.png'))"
   ]
  },
  {
   "cell_type": "markdown",
   "id": "f3981aae",
   "metadata": {},
   "source": [
    "### Cambiamento: 2024-11-06 16:22:15\n",
    "- **PID**: <0.151.0>\n",
    "- **Color**: red\n",
    "- **Image Path**: `../../static/default_test/snapshots/matrix_20241106_162214.png`"
   ]
  },
  {
   "cell_type": "code",
   "execution_count": null,
   "id": "fcff195d",
   "metadata": {},
   "outputs": [],
   "source": [
    "display(Image(filename='../../static/default_test/snapshots/matrix_20241106_162214.png'))"
   ]
  },
  {
   "cell_type": "markdown",
   "id": "3f38594e",
   "metadata": {},
   "source": [
    "### Cambiamento: 2024-11-06 16:37:14\n",
    "- **PID**: <0.85.0>\n",
    "- **Color**: red\n",
    "- **Image Path**: `../../static/default_test/snapshots/matrix_20241106_163714.png`"
   ]
  },
  {
   "cell_type": "code",
   "execution_count": null,
   "id": "488317b5",
   "metadata": {},
   "outputs": [],
   "source": [
    "display(Image(filename='../../static/default_test/snapshots/matrix_20241106_163714.png'))"
   ]
  },
  {
   "cell_type": "markdown",
   "id": "d35a2f42",
   "metadata": {},
   "source": [
    "### Cambiamento: 2024-11-06 16:37:29\n",
    "- **PID**: <0.125.0>\n",
    "- **Color**: red\n",
    "- **Image Path**: `../../static/default_test/snapshots/matrix_20241106_163729.png`"
   ]
  },
  {
   "cell_type": "code",
   "execution_count": null,
   "id": "50113914",
   "metadata": {},
   "outputs": [],
   "source": [
    "display(Image(filename='../../static/default_test/snapshots/matrix_20241106_163729.png'))"
   ]
  },
  {
   "cell_type": "markdown",
   "id": "ddd3030c",
   "metadata": {},
   "source": [
    "### Cambiamento: 2024-11-06 16:37:41\n",
    "- **PID**: <0.96.0>\n",
    "- **Color**: red\n",
    "- **Image Path**: `../../static/default_test/snapshots/matrix_20241106_163741.png`"
   ]
  },
  {
   "cell_type": "code",
   "execution_count": null,
   "id": "e9f1e5b2",
   "metadata": {},
   "outputs": [],
   "source": [
    "display(Image(filename='../../static/default_test/snapshots/matrix_20241106_163741.png'))"
   ]
  },
  {
   "cell_type": "markdown",
   "id": "4587b9e1",
   "metadata": {},
   "source": [
    "### Cambiamento: 2024-11-06 16:37:47\n",
    "- **PID**: <0.92.0>\n",
    "- **Color**: red\n",
    "- **Image Path**: `../../static/default_test/snapshots/matrix_20241106_163747.png`"
   ]
  },
  {
   "cell_type": "code",
   "execution_count": null,
   "id": "c556e08c",
   "metadata": {},
   "outputs": [],
   "source": [
    "display(Image(filename='../../static/default_test/snapshots/matrix_20241106_163747.png'))"
   ]
  },
  {
   "cell_type": "markdown",
   "id": "afdf7df6",
   "metadata": {},
   "source": [
    "### Cambiamento: 2024-11-06 16:38:02\n",
    "- **PID**: <0.149.0>\n",
    "- **Color**: red\n",
    "- **Image Path**: `../../static/default_test/snapshots/matrix_20241106_163802.png`"
   ]
  },
  {
   "cell_type": "code",
   "execution_count": null,
   "id": "c2a27687",
   "metadata": {},
   "outputs": [],
   "source": [
    "display(Image(filename='../../static/default_test/snapshots/matrix_20241106_163802.png'))"
   ]
  },
  {
   "cell_type": "markdown",
   "id": "7cfb5e56",
   "metadata": {},
   "source": [
    "### Cambiamento: 2024-11-06 16:41:32\n",
    "- **PID**: <0.91.0>\n",
    "- **Color**: red\n",
    "- **Image Path**: `../../static/default_test/snapshots/matrix_20241106_164132.png`"
   ]
  },
  {
   "cell_type": "code",
   "execution_count": null,
   "id": "9d637966",
   "metadata": {},
   "outputs": [],
   "source": [
    "display(Image(filename='../../static/default_test/snapshots/matrix_20241106_164132.png'))"
   ]
  },
  {
   "cell_type": "markdown",
   "id": "82124259",
   "metadata": {},
   "source": [
    "### Cambiamento: 2024-11-06 16:41:35\n",
    "- **PID**: <0.158.0>\n",
    "- **Color**: red\n",
    "- **Image Path**: `../../static/default_test/snapshots/matrix_20241106_164135.png`"
   ]
  },
  {
   "cell_type": "code",
   "execution_count": null,
   "id": "cc0b9f62",
   "metadata": {},
   "outputs": [],
   "source": [
    "display(Image(filename='../../static/default_test/snapshots/matrix_20241106_164135.png'))"
   ]
  },
  {
   "cell_type": "markdown",
   "id": "e8b49926",
   "metadata": {},
   "source": [
    "### Cambiamento: 2024-11-06 16:41:43\n",
    "- **PID**: <0.121.0>\n",
    "- **Color**: red\n",
    "- **Image Path**: `../../static/default_test/snapshots/matrix_20241106_164143.png`"
   ]
  },
  {
   "cell_type": "code",
   "execution_count": null,
   "id": "8b6721d1",
   "metadata": {},
   "outputs": [],
   "source": [
    "display(Image(filename='../../static/default_test/snapshots/matrix_20241106_164143.png'))"
   ]
  },
  {
   "cell_type": "markdown",
   "id": "0117f486",
   "metadata": {},
   "source": [
    "### Cambiamento: 2024-11-06 16:44:29\n",
    "- **PID**: <0.126.0>\n",
    "- **Color**: red\n",
    "- **Image Path**: `../../static/default_test/snapshots/matrix_20241106_164429.png`"
   ]
  },
  {
   "cell_type": "code",
   "execution_count": null,
   "id": "b570969c",
   "metadata": {},
   "outputs": [],
   "source": [
    "display(Image(filename='../../static/default_test/snapshots/matrix_20241106_164429.png'))"
   ]
  },
  {
   "cell_type": "markdown",
   "id": "d2600669",
   "metadata": {},
   "source": [
    "### Cambiamento: 2024-11-06 16:45:52\n",
    "- **PID**: <0.92.0>\n",
    "- **Color**: red\n",
    "- **Image Path**: `../../static/default_test/snapshots/matrix_20241106_164551.png`"
   ]
  },
  {
   "cell_type": "code",
   "execution_count": null,
   "id": "5481facc",
   "metadata": {},
   "outputs": [],
   "source": [
    "display(Image(filename='../../static/default_test/snapshots/matrix_20241106_164551.png'))"
   ]
  },
  {
   "cell_type": "markdown",
   "id": "3001e04d",
   "metadata": {},
   "source": [
    "### Cambiamento: 2024-11-06 16:48:40\n",
    "- **PID**: <0.101.0>\n",
    "- **Color**: red\n",
    "- **Image Path**: `../../static/default_test/snapshots/matrix_20241106_164839.png`"
   ]
  },
  {
   "cell_type": "code",
   "execution_count": null,
   "id": "1c736761",
   "metadata": {},
   "outputs": [],
   "source": [
    "display(Image(filename='../../static/default_test/snapshots/matrix_20241106_164839.png'))"
   ]
  },
  {
   "cell_type": "markdown",
   "id": "9cccbe08",
   "metadata": {},
   "source": [
    "### Cambiamento: 2024-11-06 16:49:13\n",
    "- **PID**: <0.84.0>\n",
    "- **Color**: red\n",
    "- **Image Path**: `../../static/default_test/snapshots/matrix_20241106_164912.png`"
   ]
  },
  {
   "cell_type": "code",
   "execution_count": null,
   "id": "7e9c2fec",
   "metadata": {},
   "outputs": [],
   "source": [
    "display(Image(filename='../../static/default_test/snapshots/matrix_20241106_164912.png'))"
   ]
  },
  {
   "cell_type": "markdown",
   "id": "0d0f2437",
   "metadata": {},
   "source": [
    "### Cambiamento: 2024-11-06 16:53:01\n",
    "- **PID**: <0.86.0>\n",
    "- **Color**: blue\n",
    "- **Image Path**: `../../static/default_test/snapshots/matrix_20241106_165301.png`"
   ]
  },
  {
   "cell_type": "code",
   "execution_count": null,
   "id": "e492c037",
   "metadata": {},
   "outputs": [],
   "source": [
    "display(Image(filename='../../static/default_test/snapshots/matrix_20241106_165301.png'))"
   ]
  },
  {
   "cell_type": "markdown",
   "id": "dba23013",
   "metadata": {},
   "source": [
    "### Cambiamento: 2024-11-06 16:53:22\n",
    "- **PID**: <0.119.0>\n",
    "- **Color**: blue\n",
    "- **Image Path**: `../../static/default_test/snapshots/matrix_20241106_165321.png`"
   ]
  },
  {
   "cell_type": "code",
   "execution_count": null,
   "id": "47e07293",
   "metadata": {},
   "outputs": [],
   "source": [
    "display(Image(filename='../../static/default_test/snapshots/matrix_20241106_165321.png'))"
   ]
  },
  {
   "cell_type": "markdown",
   "id": "6cc8bd4d",
   "metadata": {},
   "source": [
    "### Cambiamento: 2024-11-06 16:58:36\n",
    "- **PID**: <0.82.0>\n",
    "- **Color**: red\n",
    "- **Image Path**: `../../static/default_test/snapshots/matrix_20241106_165835.png`"
   ]
  },
  {
   "cell_type": "code",
   "execution_count": null,
   "id": "83f93213",
   "metadata": {},
   "outputs": [],
   "source": [
    "display(Image(filename='../../static/default_test/snapshots/matrix_20241106_165835.png'))"
   ]
  },
  {
   "cell_type": "markdown",
   "id": "452c064b",
   "metadata": {},
   "source": [
    "### Cambiamento: 2024-11-06 17:02:03\n",
    "- **PID**: <0.87.0>\n",
    "- **Color**: red\n",
    "- **Image Path**: `../../static/default_test/snapshots/matrix_20241106_170203.png`"
   ]
  },
  {
   "cell_type": "code",
   "execution_count": null,
   "id": "a0fec9ae",
   "metadata": {},
   "outputs": [],
   "source": [
    "display(Image(filename='../../static/default_test/snapshots/matrix_20241106_170203.png'))"
   ]
  },
  {
   "cell_type": "markdown",
   "id": "94495ced",
   "metadata": {},
   "source": [
    "### Cambiamento: 2024-11-06 17:03:50\n",
    "- **PID**: <0.104.0>\n",
    "- **Color**: red\n",
    "- **Image Path**: `../../static/default_test/snapshots/matrix_20241106_170350.png`"
   ]
  },
  {
   "cell_type": "code",
   "execution_count": null,
   "id": "755d734b",
   "metadata": {},
   "outputs": [],
   "source": [
    "display(Image(filename='../../static/default_test/snapshots/matrix_20241106_170350.png'))"
   ]
  },
  {
   "cell_type": "markdown",
   "id": "9c29922d",
   "metadata": {},
   "source": [
    "### Cambiamento: 2024-11-06 17:04:05\n",
    "- **PID**: <0.94.0>\n",
    "- **Color**: red\n",
    "- **Image Path**: `../../static/default_test/snapshots/matrix_20241106_170404.png`"
   ]
  },
  {
   "cell_type": "code",
   "execution_count": null,
   "id": "fa23aa84",
   "metadata": {},
   "outputs": [],
   "source": [
    "display(Image(filename='../../static/default_test/snapshots/matrix_20241106_170404.png'))"
   ]
  },
  {
   "cell_type": "markdown",
   "id": "e56d49c0",
   "metadata": {},
   "source": [
    "### Cambiamento: 2024-11-06 17:04:23\n",
    "- **PID**: <0.97.0>\n",
    "- **Color**: red\n",
    "- **Image Path**: `../../static/default_test/snapshots/matrix_20241106_170422.png`"
   ]
  },
  {
   "cell_type": "code",
   "execution_count": null,
   "id": "be41b467",
   "metadata": {},
   "outputs": [],
   "source": [
    "display(Image(filename='../../static/default_test/snapshots/matrix_20241106_170422.png'))"
   ]
  },
  {
   "cell_type": "markdown",
   "id": "fdeaae73",
   "metadata": {},
   "source": [
    "### Cambiamento: 2024-11-06 17:05:33\n",
    "- **PID**: <0.117.0>\n",
    "- **Color**: red\n",
    "- **Image Path**: `../../static/default_test/snapshots/matrix_20241106_170533.png`"
   ]
  },
  {
   "cell_type": "code",
   "execution_count": null,
   "id": "a0e6795e",
   "metadata": {},
   "outputs": [],
   "source": [
    "display(Image(filename='../../static/default_test/snapshots/matrix_20241106_170533.png'))"
   ]
  },
  {
   "cell_type": "markdown",
   "id": "a0b24038",
   "metadata": {},
   "source": [
    "### Cambiamento: 2024-11-06 17:05:43\n",
    "- **PID**: <0.135.0>\n",
    "- **Color**: red\n",
    "- **Image Path**: `../../static/default_test/snapshots/matrix_20241106_170543.png`"
   ]
  },
  {
   "cell_type": "code",
   "execution_count": null,
   "id": "a8fdecc3",
   "metadata": {},
   "outputs": [],
   "source": [
    "display(Image(filename='../../static/default_test/snapshots/matrix_20241106_170543.png'))"
   ]
  },
  {
   "cell_type": "markdown",
   "id": "30c211cf",
   "metadata": {},
   "source": [
    "### Cambiamento: 2024-11-06 17:05:51\n",
    "- **PID**: <0.132.0>\n",
    "- **Color**: red\n",
    "- **Image Path**: `../../static/default_test/snapshots/matrix_20241106_170550.png`"
   ]
  },
  {
   "cell_type": "code",
   "execution_count": null,
   "id": "b97d20f0",
   "metadata": {},
   "outputs": [],
   "source": [
    "display(Image(filename='../../static/default_test/snapshots/matrix_20241106_170550.png'))"
   ]
  },
  {
   "cell_type": "markdown",
   "id": "0ff4b346",
   "metadata": {},
   "source": [
    "### Cambiamento: 2024-11-06 17:05:55\n",
    "- **PID**: <0.124.0>\n",
    "- **Color**: red\n",
    "- **Image Path**: `../../static/default_test/snapshots/matrix_20241106_170555.png`"
   ]
  },
  {
   "cell_type": "code",
   "execution_count": null,
   "id": "6786adf1",
   "metadata": {},
   "outputs": [],
   "source": [
    "display(Image(filename='../../static/default_test/snapshots/matrix_20241106_170555.png'))"
   ]
  },
  {
   "cell_type": "markdown",
   "id": "96c9fef4",
   "metadata": {},
   "source": [
    "### Cambiamento: 2024-11-06 17:06:10\n",
    "- **PID**: <0.96.0>\n",
    "- **Color**: red\n",
    "- **Image Path**: `../../static/default_test/snapshots/matrix_20241106_170610.png`"
   ]
  },
  {
   "cell_type": "code",
   "execution_count": null,
   "id": "3a92b9e6",
   "metadata": {},
   "outputs": [],
   "source": [
    "display(Image(filename='../../static/default_test/snapshots/matrix_20241106_170610.png'))"
   ]
  }
 ],
 "metadata": {},
 "nbformat": 4,
 "nbformat_minor": 5
}
