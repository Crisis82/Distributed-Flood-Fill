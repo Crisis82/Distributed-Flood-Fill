{
 "cells": [
  {
   "cell_type": "code",
   "execution_count": null,
   "id": "036bedb7",
   "metadata": {},
   "outputs": [],
   "source": [
    "from IPython.display import display, Image"
   ]
  },
  {
   "cell_type": "markdown",
   "id": "007bba8f",
   "metadata": {},
   "source": [
    "### Cambiamento: 2024-11-06 17:13:47\n",
    "- **PID**: <0.106.0>\n",
    "- **Color**: red\n",
    "- **Image Path**: `static/matrix_20241106_171347.png`"
   ]
  },
  {
   "cell_type": "code",
   "execution_count": null,
   "id": "61528c58",
   "metadata": {},
   "outputs": [],
   "source": [
    "display(Image(filename='static/matrix_20241106_171347.png'))"
   ]
  },
  {
   "cell_type": "markdown",
   "id": "c80d043e",
   "metadata": {},
   "source": [
    "### Cambiamento: 2024-11-06 17:13:56\n",
    "- **PID**: <0.97.0>\n",
    "- **Color**: red\n",
    "- **Image Path**: `static/matrix_20241106_171356.png`"
   ]
  },
  {
   "cell_type": "code",
   "execution_count": null,
   "id": "13573585",
   "metadata": {},
   "outputs": [],
   "source": [
    "display(Image(filename='static/matrix_20241106_171356.png'))"
   ]
  },
  {
   "cell_type": "markdown",
   "id": "d1966620",
   "metadata": {},
   "source": [
    "### Cambiamento: 2024-11-06 17:14:04\n",
    "- **PID**: <0.109.0>\n",
    "- **Color**: red\n",
    "- **Image Path**: `static/matrix_20241106_171404.png`"
   ]
  },
  {
   "cell_type": "code",
   "execution_count": null,
   "id": "de9d54cd",
   "metadata": {},
   "outputs": [],
   "source": [
    "display(Image(filename='static/matrix_20241106_171404.png'))"
   ]
  },
  {
   "cell_type": "markdown",
   "id": "f22f10e3",
   "metadata": {},
   "source": [
    "### Cambiamento: 2024-11-06 17:14:10\n",
    "- **PID**: <0.141.0>\n",
    "- **Color**: red\n",
    "- **Image Path**: `static/matrix_20241106_171410.png`"
   ]
  },
  {
   "cell_type": "code",
   "execution_count": null,
   "id": "3a2fad5d",
   "metadata": {},
   "outputs": [],
   "source": [
    "display(Image(filename='static/matrix_20241106_171410.png'))"
   ]
  },
  {
   "cell_type": "markdown",
   "id": "ae9aa9dc",
   "metadata": {},
   "source": [
    "### Cambiamento: 2024-11-06 17:22:32\n",
    "- **PID**: <0.89.0>\n",
    "- **Color**: red\n",
    "- **Image Path**: `static/matrix_20241106_172232.png`"
   ]
  },
  {
   "cell_type": "code",
   "execution_count": null,
   "id": "6875d3eb",
   "metadata": {},
   "outputs": [],
   "source": [
    "display(Image(filename='static/matrix_20241106_172232.png'))"
   ]
  },
  {
   "cell_type": "markdown",
   "id": "ce84669e",
   "metadata": {},
   "source": [
    "### Cambiamento: 2024-11-06 17:23:49\n",
    "- **PID**: <0.113.0>\n",
    "- **Color**: red\n",
    "- **Image Path**: `static/matrix_20241106_172349.png`"
   ]
  },
  {
   "cell_type": "code",
   "execution_count": null,
   "id": "cb577f3e",
   "metadata": {},
   "outputs": [],
   "source": [
    "display(Image(filename='static/matrix_20241106_172349.png'))"
   ]
  },
  {
   "cell_type": "markdown",
   "id": "60db38e5",
   "metadata": {},
   "source": [
    "### Cambiamento: 2024-11-06 17:24:05\n",
    "- **PID**: <0.130.0>\n",
    "- **Color**: red\n",
    "- **Image Path**: `static/matrix_20241106_172404.png`"
   ]
  },
  {
   "cell_type": "code",
   "execution_count": null,
   "id": "281caf9c",
   "metadata": {},
   "outputs": [],
   "source": [
    "display(Image(filename='static/matrix_20241106_172404.png'))"
   ]
  },
  {
   "cell_type": "markdown",
   "id": "a901244c",
   "metadata": {},
   "source": [
    "### Cambiamento: 2024-11-06 17:31:36\n",
    "- **PID**: <0.125.0>\n",
    "- **Color**: red\n",
    "- **Image Path**: `static/matrix_20241106_173135.png`"
   ]
  },
  {
   "cell_type": "code",
   "execution_count": null,
   "id": "8321ee80",
   "metadata": {},
   "outputs": [],
   "source": [
    "display(Image(filename='static/matrix_20241106_173135.png'))"
   ]
  },
  {
   "cell_type": "markdown",
   "id": "cb55ce48",
   "metadata": {},
   "source": [
    "### Cambiamento: 2024-11-06 17:34:52\n",
    "- **PID**: <0.93.0>\n",
    "- **Color**: red\n",
    "- **Image Path**: `static/matrix_20241106_173452.png`"
   ]
  },
  {
   "cell_type": "code",
   "execution_count": null,
   "id": "c2df5ddf",
   "metadata": {},
   "outputs": [],
   "source": [
    "display(Image(filename='static/matrix_20241106_173452.png'))"
   ]
  },
  {
   "cell_type": "markdown",
   "id": "ac188791",
   "metadata": {},
   "source": [
    "### Cambiamento: 2024-11-06 17:35:07\n",
    "- **PID**: <0.95.0>\n",
    "- **Color**: blue\n",
    "- **Image Path**: `static/matrix_20241106_173507.png`"
   ]
  },
  {
   "cell_type": "code",
   "execution_count": null,
   "id": "e2b56626",
   "metadata": {},
   "outputs": [],
   "source": [
    "display(Image(filename='static/matrix_20241106_173507.png'))"
   ]
  },
  {
   "cell_type": "markdown",
   "id": "ecba196b",
   "metadata": {},
   "source": [
    "### Cambiamento: 2024-11-06 17:43:49\n",
    "- **PID**: <0.93.0>\n",
    "- **Color**: red\n",
    "- **Image Path**: `static/matrix_20241106_174349.png`"
   ]
  },
  {
   "cell_type": "code",
   "execution_count": null,
   "id": "529eefa6",
   "metadata": {},
   "outputs": [],
   "source": [
    "display(Image(filename='static/matrix_20241106_174349.png'))"
   ]
  },
  {
   "cell_type": "markdown",
   "id": "0276137d",
   "metadata": {},
   "source": [
    "### Cambiamento: 2024-11-06 17:47:29\n",
    "- **PID**: <0.93.0>\n",
    "- **Color**: red\n",
    "- **Image Path**: `static/matrix_20241106_174729.png`"
   ]
  },
  {
   "cell_type": "code",
   "execution_count": null,
   "id": "6f88e4f6",
   "metadata": {},
   "outputs": [],
   "source": [
    "display(Image(filename='static/matrix_20241106_174729.png'))"
   ]
  },
  {
   "cell_type": "markdown",
   "id": "70f68a9b",
   "metadata": {},
   "source": [
    "### Cambiamento: 2024-11-06 17:48:19\n",
    "- **PID**: <0.103.0>\n",
    "- **Color**: red\n",
    "- **Image Path**: `static/matrix_20241106_174819.png`"
   ]
  },
  {
   "cell_type": "code",
   "execution_count": null,
   "id": "a6e00296",
   "metadata": {},
   "outputs": [],
   "source": [
    "display(Image(filename='static/matrix_20241106_174819.png'))"
   ]
  },
  {
   "cell_type": "markdown",
   "id": "91c2e0b0",
   "metadata": {},
   "source": [
    "### Cambiamento: 2024-11-06 17:49:54\n",
    "- **PID**: <0.103.0>\n",
    "- **Color**: yellow\n",
    "- **Image Path**: `static/matrix_20241106_174954.png`"
   ]
  },
  {
   "cell_type": "code",
   "execution_count": null,
   "id": "0c63d996",
   "metadata": {},
   "outputs": [],
   "source": [
    "display(Image(filename='static/matrix_20241106_174954.png'))"
   ]
  },
  {
   "cell_type": "markdown",
   "id": "f7639d2a",
   "metadata": {},
   "source": [
    "### Cambiamento: 2024-11-06 17:50:03\n",
    "- **PID**: <0.97.0>\n",
    "- **Color**: yellow\n",
    "- **Image Path**: `static/matrix_20241106_175002.png`"
   ]
  },
  {
   "cell_type": "code",
   "execution_count": null,
   "id": "e7cf05e1",
   "metadata": {},
   "outputs": [],
   "source": [
    "display(Image(filename='static/matrix_20241106_175002.png'))"
   ]
  },
  {
   "cell_type": "markdown",
   "id": "a4e29371",
   "metadata": {},
   "source": [
    "### Cambiamento: 2024-11-06 17:51:22\n",
    "- **PID**: <0.97.0>\n",
    "- **Color**: yellow\n",
    "- **Image Path**: `static/matrix_20241106_175121.png`"
   ]
  },
  {
   "cell_type": "code",
   "execution_count": null,
   "id": "26555c48",
   "metadata": {},
   "outputs": [],
   "source": [
    "display(Image(filename='static/matrix_20241106_175121.png'))"
   ]
  },
  {
   "cell_type": "markdown",
   "id": "467734f0",
   "metadata": {},
   "source": [
    "### Cambiamento: 2024-11-06 17:51:32\n",
    "- **PID**: <0.103.0>\n",
    "- **Color**: yellow\n",
    "- **Image Path**: `static/matrix_20241106_175131.png`"
   ]
  },
  {
   "cell_type": "code",
   "execution_count": null,
   "id": "877456e4",
   "metadata": {},
   "outputs": [],
   "source": [
    "display(Image(filename='static/matrix_20241106_175131.png'))"
   ]
  },
  {
   "cell_type": "markdown",
   "id": "fb5f2417",
   "metadata": {},
   "source": [
    "### Cambiamento: 2024-11-06 17:52:47\n",
    "- **PID**: <0.103.0>\n",
    "- **Color**: yellow\n",
    "- **Image Path**: `static/matrix_20241106_175246.png`"
   ]
  },
  {
   "cell_type": "code",
   "execution_count": null,
   "id": "2ff7bbf1",
   "metadata": {},
   "outputs": [],
   "source": [
    "display(Image(filename='static/matrix_20241106_175246.png'))"
   ]
  },
  {
   "cell_type": "markdown",
   "id": "ded7162e",
   "metadata": {},
   "source": [
    "### Cambiamento: 2024-11-06 17:55:21\n",
    "- **PID**: <0.97.0>\n",
    "- **Color**: yellow\n",
    "- **Image Path**: `static/matrix_20241106_175520.png`"
   ]
  },
  {
   "cell_type": "code",
   "execution_count": null,
   "id": "dc7fcbb6",
   "metadata": {},
   "outputs": [],
   "source": [
    "display(Image(filename='static/matrix_20241106_175520.png'))"
   ]
  },
  {
   "cell_type": "markdown",
   "id": "bbce152a",
   "metadata": {},
   "source": [
    "### Cambiamento: 2024-11-06 18:08:35\n",
    "- **PID**: <0.97.0>\n",
    "- **Color**: yellow\n",
    "- **Image Path**: `static/matrix_20241106_180835.png`"
   ]
  },
  {
   "cell_type": "code",
   "execution_count": null,
   "id": "d9955a88",
   "metadata": {},
   "outputs": [],
   "source": [
    "display(Image(filename='static/matrix_20241106_180835.png'))"
   ]
  },
  {
   "cell_type": "markdown",
   "id": "9c5b60ee",
   "metadata": {},
   "source": [
    "### Cambiamento: 2024-11-06 18:08:49\n",
    "- **PID**: <0.97.0>\n",
    "- **Color**: red\n",
    "- **Image Path**: `static/matrix_20241106_180848.png`"
   ]
  },
  {
   "cell_type": "code",
   "execution_count": null,
   "id": "7a284ead",
   "metadata": {},
   "outputs": [],
   "source": [
    "display(Image(filename='static/matrix_20241106_180848.png'))"
   ]
  },
  {
   "cell_type": "markdown",
   "id": "e0ef5fd2",
   "metadata": {},
   "source": [
    "### Cambiamento: 2024-11-06 18:11:08\n",
    "- **PID**: <0.101.0>\n",
    "- **Color**: yellow\n",
    "- **Image Path**: `static/matrix_20241106_181107.png`"
   ]
  },
  {
   "cell_type": "code",
   "execution_count": null,
   "id": "9120cbd8",
   "metadata": {},
   "outputs": [],
   "source": [
    "display(Image(filename='static/matrix_20241106_181107.png'))"
   ]
  },
  {
   "cell_type": "markdown",
   "id": "47758288",
   "metadata": {},
   "source": [
    "### Cambiamento: 2024-11-06 18:11:15\n",
    "- **PID**: <0.95.0>\n",
    "- **Color**: yellow\n",
    "- **Image Path**: `static/matrix_20241106_181114.png`"
   ]
  },
  {
   "cell_type": "code",
   "execution_count": null,
   "id": "64d585a8",
   "metadata": {},
   "outputs": [],
   "source": [
    "display(Image(filename='static/matrix_20241106_181114.png'))"
   ]
  },
  {
   "cell_type": "markdown",
   "id": "d1bbc2b1",
   "metadata": {},
   "source": [
    "### Cambiamento: 2024-11-06 18:17:22\n",
    "- **PID**: <0.103.0>\n",
    "- **Color**: yellow\n",
    "- **Image Path**: `static/matrix_20241106_181722.png`"
   ]
  },
  {
   "cell_type": "code",
   "execution_count": null,
   "id": "3f252ff2",
   "metadata": {},
   "outputs": [],
   "source": [
    "display(Image(filename='static/matrix_20241106_181722.png'))"
   ]
  },
  {
   "cell_type": "markdown",
   "id": "04ef57c4",
   "metadata": {},
   "source": [
    "### Cambiamento: 2024-11-06 18:18:48\n",
    "- **PID**: <0.103.0>\n",
    "- **Color**: yellow\n",
    "- **Image Path**: `static/matrix_20241106_181848.png`"
   ]
  },
  {
   "cell_type": "code",
   "execution_count": null,
   "id": "fb3403a7",
   "metadata": {},
   "outputs": [],
   "source": [
    "display(Image(filename='static/matrix_20241106_181848.png'))"
   ]
  },
  {
   "cell_type": "markdown",
   "id": "07e0b451",
   "metadata": {},
   "source": [
    "### Cambiamento: 2024-11-06 18:18:56\n",
    "- **PID**: <0.97.0>\n",
    "- **Color**: yellow\n",
    "- **Image Path**: `static/matrix_20241106_181856.png`"
   ]
  },
  {
   "cell_type": "code",
   "execution_count": null,
   "id": "f73b1aa5",
   "metadata": {},
   "outputs": [],
   "source": [
    "display(Image(filename='static/matrix_20241106_181856.png'))"
   ]
  },
  {
   "cell_type": "markdown",
   "id": "043d44c8",
   "metadata": {},
   "source": [
    "### Cambiamento: 2024-11-06 18:22:49\n",
    "- **PID**: <0.103.0>\n",
    "- **Color**: yellow\n",
    "- **Image Path**: `static/matrix_20241106_182249.png`"
   ]
  },
  {
   "cell_type": "code",
   "execution_count": null,
   "id": "b285b425",
   "metadata": {},
   "outputs": [],
   "source": [
    "display(Image(filename='static/matrix_20241106_182249.png'))"
   ]
  },
  {
   "cell_type": "markdown",
   "id": "4bb9f629",
   "metadata": {},
   "source": [
    "### Cambiamento: 2024-11-06 18:26:42\n",
    "- **PID**: <0.103.0>\n",
    "- **Color**: yellow\n",
    "- **Image Path**: `static/matrix_20241106_182642.png`"
   ]
  },
  {
   "cell_type": "code",
   "execution_count": null,
   "id": "13c4b435",
   "metadata": {},
   "outputs": [],
   "source": [
    "display(Image(filename='static/matrix_20241106_182642.png'))"
   ]
  },
  {
   "cell_type": "markdown",
   "id": "749dd4e3",
   "metadata": {},
   "source": [
    "### Cambiamento: 2024-11-06 18:26:49\n",
    "- **PID**: <0.97.0>\n",
    "- **Color**: yellow\n",
    "- **Image Path**: `static/matrix_20241106_182649.png`"
   ]
  },
  {
   "cell_type": "code",
   "execution_count": null,
   "id": "99809e49",
   "metadata": {},
   "outputs": [],
   "source": [
    "display(Image(filename='static/matrix_20241106_182649.png'))"
   ]
  },
  {
   "cell_type": "markdown",
   "id": "a4ea5fc5",
   "metadata": {},
   "source": [
    "### Cambiamento: 2024-11-06 18:28:32\n",
    "- **PID**: <0.103.0>\n",
    "- **Color**: yellow\n",
    "- **Image Path**: `static/matrix_20241106_182832.png`"
   ]
  },
  {
   "cell_type": "code",
   "execution_count": null,
   "id": "d6509c5a",
   "metadata": {},
   "outputs": [],
   "source": [
    "display(Image(filename='static/matrix_20241106_182832.png'))"
   ]
  },
  {
   "cell_type": "markdown",
   "id": "b8ec41ea",
   "metadata": {},
   "source": [
    "### Cambiamento: 2024-11-06 18:29:39\n",
    "- **PID**: <0.101.0>\n",
    "- **Color**: yellow\n",
    "- **Image Path**: `static/matrix_20241106_182939.png`"
   ]
  },
  {
   "cell_type": "code",
   "execution_count": null,
   "id": "a048facc",
   "metadata": {},
   "outputs": [],
   "source": [
    "display(Image(filename='static/matrix_20241106_182939.png'))"
   ]
  },
  {
   "cell_type": "markdown",
   "id": "aa53fc15",
   "metadata": {},
   "source": [
    "### Cambiamento: 2024-11-06 18:32:33\n",
    "- **PID**: <0.103.0>\n",
    "- **Color**: yellow\n",
    "- **Image Path**: `static/matrix_20241106_183233.png`"
   ]
  },
  {
   "cell_type": "code",
   "execution_count": null,
   "id": "e44b00bc",
   "metadata": {},
   "outputs": [],
   "source": [
    "display(Image(filename='static/matrix_20241106_183233.png'))"
   ]
  },
  {
   "cell_type": "markdown",
   "id": "261f0bd6",
   "metadata": {},
   "source": [
    "### Cambiamento: 2024-11-06 18:36:43\n",
    "- **PID**: <0.103.0>\n",
    "- **Color**: yellow\n",
    "- **Image Path**: `static/matrix_20241106_183643.png`"
   ]
  },
  {
   "cell_type": "code",
   "execution_count": null,
   "id": "9f55082a",
   "metadata": {},
   "outputs": [],
   "source": [
    "display(Image(filename='static/matrix_20241106_183643.png'))"
   ]
  },
  {
   "cell_type": "markdown",
   "id": "f8ef46bc",
   "metadata": {},
   "source": [
    "### Cambiamento: 2024-11-06 18:38:12\n",
    "- **PID**: <0.101.0>\n",
    "- **Color**: yellow\n",
    "- **Image Path**: `static/matrix_20241106_183812.png`"
   ]
  },
  {
   "cell_type": "code",
   "execution_count": null,
   "id": "56aa9007",
   "metadata": {},
   "outputs": [],
   "source": [
    "display(Image(filename='static/matrix_20241106_183812.png'))"
   ]
  },
  {
   "cell_type": "markdown",
   "id": "f5e8896d",
   "metadata": {},
   "source": [
    "### Cambiamento: 2024-11-06 18:45:22\n",
    "- **PID**: <0.103.0>\n",
    "- **Color**: yellow\n",
    "- **Image Path**: `static/matrix_20241106_184521.png`"
   ]
  },
  {
   "cell_type": "code",
   "execution_count": null,
   "id": "b40bd47f",
   "metadata": {},
   "outputs": [],
   "source": [
    "display(Image(filename='static/matrix_20241106_184521.png'))"
   ]
  },
  {
   "cell_type": "markdown",
   "id": "5889bc6e",
   "metadata": {},
   "source": [
    "### Cambiamento: 2024-11-06 18:48:32\n",
    "- **PID**: <0.103.0>\n",
    "- **Color**: yellow\n",
    "- **Image Path**: `static/matrix_20241106_184832.png`"
   ]
  },
  {
   "cell_type": "code",
   "execution_count": null,
   "id": "127a1ec6",
   "metadata": {},
   "outputs": [],
   "source": [
    "display(Image(filename='static/matrix_20241106_184832.png'))"
   ]
  },
  {
   "cell_type": "markdown",
   "id": "5835269d",
   "metadata": {},
   "source": [
    "### Cambiamento: 2024-11-06 18:49:11\n",
    "- **PID**: <0.97.0>\n",
    "- **Color**: yellow\n",
    "- **Image Path**: `static/matrix_20241106_184911.png`"
   ]
  },
  {
   "cell_type": "code",
   "execution_count": null,
   "id": "00687f38",
   "metadata": {},
   "outputs": [],
   "source": [
    "display(Image(filename='static/matrix_20241106_184911.png'))"
   ]
  },
  {
   "cell_type": "markdown",
   "id": "8ac3f0dc",
   "metadata": {},
   "source": [
    "### Cambiamento: 2024-11-06 18:49:29\n",
    "- **PID**: <0.102.0>\n",
    "- **Color**: green\n",
    "- **Image Path**: `static/matrix_20241106_184929.png`"
   ]
  },
  {
   "cell_type": "code",
   "execution_count": null,
   "id": "77eb1b9c",
   "metadata": {},
   "outputs": [],
   "source": [
    "display(Image(filename='static/matrix_20241106_184929.png'))"
   ]
  },
  {
   "cell_type": "markdown",
   "id": "6f712642",
   "metadata": {},
   "source": [
    "### Cambiamento: 2024-11-06 18:49:36\n",
    "- **PID**: <0.96.0>\n",
    "- **Color**: red\n",
    "- **Image Path**: `static/matrix_20241106_184935.png`"
   ]
  },
  {
   "cell_type": "code",
   "execution_count": null,
   "id": "6f2c386e",
   "metadata": {},
   "outputs": [],
   "source": [
    "display(Image(filename='static/matrix_20241106_184935.png'))"
   ]
  }
 ],
 "metadata": {},
 "nbformat": 4,
 "nbformat_minor": 5
}
