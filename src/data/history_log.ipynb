{
 "cells": [
  {
   "cell_type": "code",
   "execution_count": null,
   "id": "9200e14b",
   "metadata": {},
   "outputs": [],
   "source": [
    "from IPython.display import display, Image"
   ]
  },
  {
   "cell_type": "markdown",
   "id": "ff023955",
   "metadata": {},
   "source": [
    "### Cambiamento: 2024-11-12 16:39:54\n",
    "- **PID**: leader_pid\n",
    "- **Color**: color\n",
    "- **Image Path**: `static/default_test/snapshots/matrix_20241112_163954.png`"
   ]
  },
  {
   "cell_type": "code",
   "execution_count": null,
   "id": "e46c5185",
   "metadata": {},
   "outputs": [],
   "source": [
    "display(Image(filename='static/default_test/snapshots/matrix_20241112_163954.png'))"
   ]
  },
  {
   "cell_type": "markdown",
   "id": "bcd8af0c",
   "metadata": {},
   "source": [
    "### Cambiamento: 2024-11-12 16:40:08\n",
    "- **PID**: leader_pid\n",
    "- **Color**: color\n",
    "- **Image Path**: `static/default_test/snapshots/matrix_20241112_164008.png`"
   ]
  },
  {
   "cell_type": "code",
   "execution_count": null,
   "id": "3a362000",
   "metadata": {},
   "outputs": [],
   "source": [
    "display(Image(filename='static/default_test/snapshots/matrix_20241112_164008.png'))"
   ]
  },
  {
   "cell_type": "markdown",
   "id": "74c54b09",
   "metadata": {},
   "source": [
    "### Cambiamento: 2024-11-12 16:40:09\n",
    "- **PID**: leader_pid\n",
    "- **Color**: color\n",
    "- **Image Path**: `static/default_test/snapshots/matrix_20241112_164008.png`"
   ]
  },
  {
   "cell_type": "code",
   "execution_count": null,
   "id": "b5781f3c",
   "metadata": {},
   "outputs": [],
   "source": [
    "display(Image(filename='static/default_test/snapshots/matrix_20241112_164008.png'))"
   ]
  },
  {
   "cell_type": "markdown",
   "id": "d045d403",
   "metadata": {},
   "source": [
    "### Cambiamento: 2024-11-12 16:40:11\n",
    "- **PID**: leader_pid\n",
    "- **Color**: color\n",
    "- **Image Path**: `static/default_test/snapshots/matrix_20241112_164011.png`"
   ]
  },
  {
   "cell_type": "code",
   "execution_count": null,
   "id": "9c5e020d",
   "metadata": {},
   "outputs": [],
   "source": [
    "display(Image(filename='static/default_test/snapshots/matrix_20241112_164011.png'))"
   ]
  },
  {
   "cell_type": "markdown",
   "id": "88cbe49e",
   "metadata": {},
   "source": [
    "### Cambiamento: 2024-11-12 16:40:12\n",
    "- **PID**: leader_pid\n",
    "- **Color**: color\n",
    "- **Image Path**: `static/default_test/snapshots/matrix_20241112_164011.png`"
   ]
  },
  {
   "cell_type": "code",
   "execution_count": null,
   "id": "5219b1d6",
   "metadata": {},
   "outputs": [],
   "source": [
    "display(Image(filename='static/default_test/snapshots/matrix_20241112_164011.png'))"
   ]
  },
  {
   "cell_type": "markdown",
   "id": "f44166fb",
   "metadata": {},
   "source": [
    "### Cambiamento: 2024-11-12 16:40:12\n",
    "- **PID**: leader_pid\n",
    "- **Color**: color\n",
    "- **Image Path**: `static/default_test/snapshots/matrix_20241112_164012.png`"
   ]
  },
  {
   "cell_type": "code",
   "execution_count": null,
   "id": "7842782f",
   "metadata": {},
   "outputs": [],
   "source": [
    "display(Image(filename='static/default_test/snapshots/matrix_20241112_164012.png'))"
   ]
  },
  {
   "cell_type": "markdown",
   "id": "6f78ad18",
   "metadata": {},
   "source": [
    "### Cambiamento: 2024-11-12 16:40:13\n",
    "- **PID**: leader_pid\n",
    "- **Color**: color\n",
    "- **Image Path**: `static/default_test/snapshots/matrix_20241112_164012.png`"
   ]
  },
  {
   "cell_type": "code",
   "execution_count": null,
   "id": "24c176fb",
   "metadata": {},
   "outputs": [],
   "source": [
    "display(Image(filename='static/default_test/snapshots/matrix_20241112_164012.png'))"
   ]
  },
  {
   "cell_type": "markdown",
   "id": "38472d47",
   "metadata": {},
   "source": [
    "### Cambiamento: 2024-11-12 16:40:14\n",
    "- **PID**: leader_pid\n",
    "- **Color**: color\n",
    "- **Image Path**: `static/default_test/snapshots/matrix_20241112_164014.png`"
   ]
  },
  {
   "cell_type": "code",
   "execution_count": null,
   "id": "f5f3c8b4",
   "metadata": {},
   "outputs": [],
   "source": [
    "display(Image(filename='static/default_test/snapshots/matrix_20241112_164014.png'))"
   ]
  },
  {
   "cell_type": "markdown",
   "id": "49e7b1eb",
   "metadata": {},
   "source": [
    "### Cambiamento: 2024-11-12 16:40:15\n",
    "- **PID**: leader_pid\n",
    "- **Color**: color\n",
    "- **Image Path**: `static/default_test/snapshots/matrix_20241112_164014.png`"
   ]
  },
  {
   "cell_type": "code",
   "execution_count": null,
   "id": "04971684",
   "metadata": {},
   "outputs": [],
   "source": [
    "display(Image(filename='static/default_test/snapshots/matrix_20241112_164014.png'))"
   ]
  },
  {
   "cell_type": "markdown",
   "id": "57f262da",
   "metadata": {},
   "source": [
    "### Cambiamento: 2024-11-12 16:40:19\n",
    "- **PID**: leader_pid\n",
    "- **Color**: color\n",
    "- **Image Path**: `static/default_test/snapshots/matrix_20241112_164019.png`"
   ]
  },
  {
   "cell_type": "code",
   "execution_count": null,
   "id": "10b42e9e",
   "metadata": {},
   "outputs": [],
   "source": [
    "display(Image(filename='static/default_test/snapshots/matrix_20241112_164019.png'))"
   ]
  },
  {
   "cell_type": "markdown",
   "id": "1d8729f4",
   "metadata": {},
   "source": [
    "### Cambiamento: 2024-11-12 16:40:20\n",
    "- **PID**: leader_pid\n",
    "- **Color**: color\n",
    "- **Image Path**: `static/default_test/snapshots/matrix_20241112_164019.png`"
   ]
  },
  {
   "cell_type": "code",
   "execution_count": null,
   "id": "8f1ad3bc",
   "metadata": {},
   "outputs": [],
   "source": [
    "display(Image(filename='static/default_test/snapshots/matrix_20241112_164019.png'))"
   ]
  },
  {
   "cell_type": "markdown",
   "id": "7629ba68",
   "metadata": {},
   "source": [
    "### Cambiamento: 2024-11-12 16:40:24\n",
    "- **PID**: leader_pid\n",
    "- **Color**: color\n",
    "- **Image Path**: `static/default_test/snapshots/matrix_20241112_164024.png`"
   ]
  },
  {
   "cell_type": "code",
   "execution_count": null,
   "id": "2c49b952",
   "metadata": {},
   "outputs": [],
   "source": [
    "display(Image(filename='static/default_test/snapshots/matrix_20241112_164024.png'))"
   ]
  },
  {
   "cell_type": "markdown",
   "id": "3af0bdee",
   "metadata": {},
   "source": [
    "### Cambiamento: 2024-11-12 16:40:25\n",
    "- **PID**: leader_pid\n",
    "- **Color**: color\n",
    "- **Image Path**: `static/default_test/snapshots/matrix_20241112_164024.png`"
   ]
  },
  {
   "cell_type": "code",
   "execution_count": null,
   "id": "23a55437",
   "metadata": {},
   "outputs": [],
   "source": [
    "display(Image(filename='static/default_test/snapshots/matrix_20241112_164024.png'))"
   ]
  },
  {
   "cell_type": "markdown",
   "id": "26cdb0ff",
   "metadata": {},
   "source": [
    "### Cambiamento: 2024-11-12 16:40:47\n",
    "- **PID**: leader_pid\n",
    "- **Color**: color\n",
    "- **Image Path**: `static/default_test/snapshots/matrix_20241112_164047.png`"
   ]
  },
  {
   "cell_type": "code",
   "execution_count": null,
   "id": "fc89c77b",
   "metadata": {},
   "outputs": [],
   "source": [
    "display(Image(filename='static/default_test/snapshots/matrix_20241112_164047.png'))"
   ]
  },
  {
   "cell_type": "markdown",
   "id": "db051ce6",
   "metadata": {},
   "source": [
    "### Cambiamento: 2024-11-12 16:40:47\n",
    "- **PID**: leader_pid\n",
    "- **Color**: color\n",
    "- **Image Path**: `static/default_test/snapshots/matrix_20241112_164047.png`"
   ]
  },
  {
   "cell_type": "code",
   "execution_count": null,
   "id": "e8462e2a",
   "metadata": {},
   "outputs": [],
   "source": [
    "display(Image(filename='static/default_test/snapshots/matrix_20241112_164047.png'))"
   ]
  },
  {
   "cell_type": "markdown",
   "id": "fe937212",
   "metadata": {},
   "source": [
    "### Cambiamento: 2024-11-12 16:40:54\n",
    "- **PID**: leader_pid\n",
    "- **Color**: color\n",
    "- **Image Path**: `static/default_test/snapshots/matrix_20241112_164054.png`"
   ]
  },
  {
   "cell_type": "code",
   "execution_count": null,
   "id": "8c76c28d",
   "metadata": {},
   "outputs": [],
   "source": [
    "display(Image(filename='static/default_test/snapshots/matrix_20241112_164054.png'))"
   ]
  },
  {
   "cell_type": "markdown",
   "id": "0457d315",
   "metadata": {},
   "source": [
    "### Cambiamento: 2024-11-12 16:40:56\n",
    "- **PID**: leader_pid\n",
    "- **Color**: color\n",
    "- **Image Path**: `static/default_test/snapshots/matrix_20241112_164056.png`"
   ]
  },
  {
   "cell_type": "code",
   "execution_count": null,
   "id": "986d722e",
   "metadata": {},
   "outputs": [],
   "source": [
    "display(Image(filename='static/default_test/snapshots/matrix_20241112_164056.png'))"
   ]
  },
  {
   "cell_type": "markdown",
   "id": "59e1ae00",
   "metadata": {},
   "source": [
    "### Cambiamento: 2024-11-12 16:40:58\n",
    "- **PID**: leader_pid\n",
    "- **Color**: color\n",
    "- **Image Path**: `static/default_test/snapshots/matrix_20241112_164058.png`"
   ]
  },
  {
   "cell_type": "code",
   "execution_count": null,
   "id": "5d9b5151",
   "metadata": {},
   "outputs": [],
   "source": [
    "display(Image(filename='static/default_test/snapshots/matrix_20241112_164058.png'))"
   ]
  },
  {
   "cell_type": "markdown",
   "id": "bbc34f4d",
   "metadata": {},
   "source": [
    "### Cambiamento: 2024-11-12 16:41:00\n",
    "- **PID**: leader_pid\n",
    "- **Color**: color\n",
    "- **Image Path**: `static/default_test/snapshots/matrix_20241112_164100.png`"
   ]
  },
  {
   "cell_type": "code",
   "execution_count": null,
   "id": "3366380b",
   "metadata": {},
   "outputs": [],
   "source": [
    "display(Image(filename='static/default_test/snapshots/matrix_20241112_164100.png'))"
   ]
  },
  {
   "cell_type": "markdown",
   "id": "e7b38d16",
   "metadata": {},
   "source": [
    "### Cambiamento: 2024-11-12 16:41:02\n",
    "- **PID**: leader_pid\n",
    "- **Color**: color\n",
    "- **Image Path**: `static/default_test/snapshots/matrix_20241112_164102.png`"
   ]
  },
  {
   "cell_type": "code",
   "execution_count": null,
   "id": "31562276",
   "metadata": {},
   "outputs": [],
   "source": [
    "display(Image(filename='static/default_test/snapshots/matrix_20241112_164102.png'))"
   ]
  },
  {
   "cell_type": "markdown",
   "id": "2c48330a",
   "metadata": {},
   "source": [
    "### Cambiamento: 2024-11-12 16:41:03\n",
    "- **PID**: leader_pid\n",
    "- **Color**: color\n",
    "- **Image Path**: `static/default_test/snapshots/matrix_20241112_164103.png`"
   ]
  },
  {
   "cell_type": "code",
   "execution_count": null,
   "id": "4410482b",
   "metadata": {},
   "outputs": [],
   "source": [
    "display(Image(filename='static/default_test/snapshots/matrix_20241112_164103.png'))"
   ]
  }
 ],
 "metadata": {},
 "nbformat": 4,
 "nbformat_minor": 5
}
