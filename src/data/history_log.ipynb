{
 "cells": [
  {
   "cell_type": "code",
   "execution_count": null,
   "id": "19ace77f",
   "metadata": {},
   "outputs": [],
   "source": [
    "from IPython.display import display, Image"
   ]
  },
  {
   "cell_type": "markdown",
   "id": "8c967dbc",
   "metadata": {},
   "source": [
    "### Cambiamento: 2024-11-08 16:15:28\n",
    "- **PID**: leader_pid\n",
    "- **Color**: color\n",
    "- **Image Path**: `static/default_test/snapshots/matrix_20241108_161527.png`"
   ]
  },
  {
   "cell_type": "code",
   "execution_count": null,
   "id": "72d05ef1",
   "metadata": {},
   "outputs": [],
   "source": [
    "display(Image(filename='static/default_test/snapshots/matrix_20241108_161527.png'))"
   ]
  },
  {
   "cell_type": "markdown",
   "id": "5950443a",
   "metadata": {},
   "source": [
    "### Cambiamento: 2024-11-08 16:15:35\n",
    "- **PID**: leader_pid\n",
    "- **Color**: color\n",
    "- **Image Path**: `static/default_test/snapshots/matrix_20241108_161534.png`"
   ]
  },
  {
   "cell_type": "code",
   "execution_count": null,
   "id": "752d6f60",
   "metadata": {},
   "outputs": [],
   "source": [
    "display(Image(filename='static/default_test/snapshots/matrix_20241108_161534.png'))"
   ]
  },
  {
   "cell_type": "markdown",
   "id": "5e503b9e",
   "metadata": {},
   "source": [
    "### Cambiamento: 2024-11-08 16:15:36\n",
    "- **PID**: leader_pid\n",
    "- **Color**: color\n",
    "- **Image Path**: `static/default_test/snapshots/matrix_20241108_161535.png`"
   ]
  },
  {
   "cell_type": "code",
   "execution_count": null,
   "id": "8d394a26",
   "metadata": {},
   "outputs": [],
   "source": [
    "display(Image(filename='static/default_test/snapshots/matrix_20241108_161535.png'))"
   ]
  },
  {
   "cell_type": "markdown",
   "id": "190e8622",
   "metadata": {},
   "source": [
    "### Cambiamento: 2024-11-08 16:15:37\n",
    "- **PID**: leader_pid\n",
    "- **Color**: color\n",
    "- **Image Path**: `static/default_test/snapshots/matrix_20241108_161536.png`"
   ]
  },
  {
   "cell_type": "code",
   "execution_count": null,
   "id": "2f09f28e",
   "metadata": {},
   "outputs": [],
   "source": [
    "display(Image(filename='static/default_test/snapshots/matrix_20241108_161536.png'))"
   ]
  },
  {
   "cell_type": "markdown",
   "id": "e5ad9c86",
   "metadata": {},
   "source": [
    "### Cambiamento: 2024-11-08 16:15:38\n",
    "- **PID**: leader_pid\n",
    "- **Color**: color\n",
    "- **Image Path**: `static/default_test/snapshots/matrix_20241108_161537.png`"
   ]
  },
  {
   "cell_type": "code",
   "execution_count": null,
   "id": "e1c7221b",
   "metadata": {},
   "outputs": [],
   "source": [
    "display(Image(filename='static/default_test/snapshots/matrix_20241108_161537.png'))"
   ]
  },
  {
   "cell_type": "markdown",
   "id": "c9494115",
   "metadata": {},
   "source": [
    "### Cambiamento: 2024-11-08 16:15:39\n",
    "- **PID**: leader_pid\n",
    "- **Color**: color\n",
    "- **Image Path**: `static/default_test/snapshots/matrix_20241108_161538.png`"
   ]
  },
  {
   "cell_type": "code",
   "execution_count": null,
   "id": "a7b82682",
   "metadata": {},
   "outputs": [],
   "source": [
    "display(Image(filename='static/default_test/snapshots/matrix_20241108_161538.png'))"
   ]
  },
  {
   "cell_type": "markdown",
   "id": "e74eee69",
   "metadata": {},
   "source": [
    "### Cambiamento: 2024-11-08 16:15:43\n",
    "- **PID**: leader_pid\n",
    "- **Color**: color\n",
    "- **Image Path**: `static/default_test/snapshots/matrix_20241108_161542.png`"
   ]
  },
  {
   "cell_type": "code",
   "execution_count": null,
   "id": "4009509c",
   "metadata": {},
   "outputs": [],
   "source": [
    "display(Image(filename='static/default_test/snapshots/matrix_20241108_161542.png'))"
   ]
  },
  {
   "cell_type": "markdown",
   "id": "eec1b23c",
   "metadata": {},
   "source": [
    "### Cambiamento: 2024-11-08 16:15:43\n",
    "- **PID**: leader_pid\n",
    "- **Color**: color\n",
    "- **Image Path**: `static/default_test/snapshots/matrix_20241108_161543.png`"
   ]
  },
  {
   "cell_type": "code",
   "execution_count": null,
   "id": "2086a4d4",
   "metadata": {},
   "outputs": [],
   "source": [
    "display(Image(filename='static/default_test/snapshots/matrix_20241108_161543.png'))"
   ]
  },
  {
   "cell_type": "markdown",
   "id": "be10ae98",
   "metadata": {},
   "source": [
    "### Cambiamento: 2024-11-08 16:15:57\n",
    "- **PID**: leader_pid\n",
    "- **Color**: color\n",
    "- **Image Path**: `static/default_test/snapshots/matrix_20241108_161556.png`"
   ]
  },
  {
   "cell_type": "code",
   "execution_count": null,
   "id": "d6d0ecfd",
   "metadata": {},
   "outputs": [],
   "source": [
    "display(Image(filename='static/default_test/snapshots/matrix_20241108_161556.png'))"
   ]
  },
  {
   "cell_type": "markdown",
   "id": "4909ca8f",
   "metadata": {},
   "source": [
    "### Cambiamento: 2024-11-08 16:19:32\n",
    "- **PID**: leader_pid\n",
    "- **Color**: color\n",
    "- **Image Path**: `static/default_test/snapshots/matrix_20241108_161932.png`"
   ]
  },
  {
   "cell_type": "code",
   "execution_count": null,
   "id": "75ce9ff7",
   "metadata": {},
   "outputs": [],
   "source": [
    "display(Image(filename='static/default_test/snapshots/matrix_20241108_161932.png'))"
   ]
  },
  {
   "cell_type": "markdown",
   "id": "a00ab6da",
   "metadata": {},
   "source": [
    "### Cambiamento: 2024-11-08 16:19:49\n",
    "- **PID**: leader_pid\n",
    "- **Color**: color\n",
    "- **Image Path**: `static/default_test/snapshots/matrix_20241108_161948.png`"
   ]
  },
  {
   "cell_type": "code",
   "execution_count": null,
   "id": "27dbc94e",
   "metadata": {},
   "outputs": [],
   "source": [
    "display(Image(filename='static/default_test/snapshots/matrix_20241108_161948.png'))"
   ]
  },
  {
   "cell_type": "markdown",
   "id": "7efa7776",
   "metadata": {},
   "source": [
    "### Cambiamento: 2024-11-08 16:19:51\n",
    "- **PID**: leader_pid\n",
    "- **Color**: color\n",
    "- **Image Path**: `static/default_test/snapshots/matrix_20241108_161951.png`"
   ]
  },
  {
   "cell_type": "code",
   "execution_count": null,
   "id": "ec1e12f6",
   "metadata": {},
   "outputs": [],
   "source": [
    "display(Image(filename='static/default_test/snapshots/matrix_20241108_161951.png'))"
   ]
  },
  {
   "cell_type": "markdown",
   "id": "42775502",
   "metadata": {},
   "source": [
    "### Cambiamento: 2024-11-08 16:19:52\n",
    "- **PID**: leader_pid\n",
    "- **Color**: color\n",
    "- **Image Path**: `static/default_test/snapshots/matrix_20241108_161951.png`"
   ]
  },
  {
   "cell_type": "code",
   "execution_count": null,
   "id": "d67a4998",
   "metadata": {},
   "outputs": [],
   "source": [
    "display(Image(filename='static/default_test/snapshots/matrix_20241108_161951.png'))"
   ]
  },
  {
   "cell_type": "markdown",
   "id": "08ede248",
   "metadata": {},
   "source": [
    "### Cambiamento: 2024-11-08 16:19:54\n",
    "- **PID**: leader_pid\n",
    "- **Color**: color\n",
    "- **Image Path**: `static/default_test/snapshots/matrix_20241108_161954.png`"
   ]
  },
  {
   "cell_type": "code",
   "execution_count": null,
   "id": "95f2ce19",
   "metadata": {},
   "outputs": [],
   "source": [
    "display(Image(filename='static/default_test/snapshots/matrix_20241108_161954.png'))"
   ]
  },
  {
   "cell_type": "markdown",
   "id": "d2fa6b7f",
   "metadata": {},
   "source": [
    "### Cambiamento: 2024-11-08 16:19:56\n",
    "- **PID**: leader_pid\n",
    "- **Color**: color\n",
    "- **Image Path**: `static/default_test/snapshots/matrix_20241108_161956.png`"
   ]
  },
  {
   "cell_type": "code",
   "execution_count": null,
   "id": "cd1e0462",
   "metadata": {},
   "outputs": [],
   "source": [
    "display(Image(filename='static/default_test/snapshots/matrix_20241108_161956.png'))"
   ]
  },
  {
   "cell_type": "markdown",
   "id": "6181f6eb",
   "metadata": {},
   "source": [
    "### Cambiamento: 2024-11-08 16:19:57\n",
    "- **PID**: leader_pid\n",
    "- **Color**: color\n",
    "- **Image Path**: `static/default_test/snapshots/matrix_20241108_161956.png`"
   ]
  },
  {
   "cell_type": "code",
   "execution_count": null,
   "id": "322263f2",
   "metadata": {},
   "outputs": [],
   "source": [
    "display(Image(filename='static/default_test/snapshots/matrix_20241108_161956.png'))"
   ]
  },
  {
   "cell_type": "markdown",
   "id": "57e3d338",
   "metadata": {},
   "source": [
    "### Cambiamento: 2024-11-08 16:19:58\n",
    "- **PID**: leader_pid\n",
    "- **Color**: color\n",
    "- **Image Path**: `static/default_test/snapshots/matrix_20241108_161957.png`"
   ]
  },
  {
   "cell_type": "code",
   "execution_count": null,
   "id": "0f3cfe63",
   "metadata": {},
   "outputs": [],
   "source": [
    "display(Image(filename='static/default_test/snapshots/matrix_20241108_161957.png'))"
   ]
  },
  {
   "cell_type": "markdown",
   "id": "0f797ab3",
   "metadata": {},
   "source": [
    "### Cambiamento: 2024-11-08 16:19:58\n",
    "- **PID**: leader_pid\n",
    "- **Color**: color\n",
    "- **Image Path**: `static/default_test/snapshots/matrix_20241108_161958.png`"
   ]
  },
  {
   "cell_type": "code",
   "execution_count": null,
   "id": "9ed7860b",
   "metadata": {},
   "outputs": [],
   "source": [
    "display(Image(filename='static/default_test/snapshots/matrix_20241108_161958.png'))"
   ]
  },
  {
   "cell_type": "markdown",
   "id": "5c4ce614",
   "metadata": {},
   "source": [
    "### Cambiamento: 2024-11-08 16:20:00\n",
    "- **PID**: leader_pid\n",
    "- **Color**: color\n",
    "- **Image Path**: `static/default_test/snapshots/matrix_20241108_162000.png`"
   ]
  },
  {
   "cell_type": "code",
   "execution_count": null,
   "id": "978a05e5",
   "metadata": {},
   "outputs": [],
   "source": [
    "display(Image(filename='static/default_test/snapshots/matrix_20241108_162000.png'))"
   ]
  },
  {
   "cell_type": "markdown",
   "id": "5e400c01",
   "metadata": {},
   "source": [
    "### Cambiamento: 2024-11-08 16:20:01\n",
    "- **PID**: leader_pid\n",
    "- **Color**: color\n",
    "- **Image Path**: `static/default_test/snapshots/matrix_20241108_162001.png`"
   ]
  },
  {
   "cell_type": "code",
   "execution_count": null,
   "id": "9ff422fc",
   "metadata": {},
   "outputs": [],
   "source": [
    "display(Image(filename='static/default_test/snapshots/matrix_20241108_162001.png'))"
   ]
  },
  {
   "cell_type": "markdown",
   "id": "a1bd4ba0",
   "metadata": {},
   "source": [
    "### Cambiamento: 2024-11-08 16:20:02\n",
    "- **PID**: leader_pid\n",
    "- **Color**: color\n",
    "- **Image Path**: `static/default_test/snapshots/matrix_20241108_162001.png`"
   ]
  },
  {
   "cell_type": "code",
   "execution_count": null,
   "id": "460c6758",
   "metadata": {},
   "outputs": [],
   "source": [
    "display(Image(filename='static/default_test/snapshots/matrix_20241108_162001.png'))"
   ]
  },
  {
   "cell_type": "markdown",
   "id": "efa90e15",
   "metadata": {},
   "source": [
    "### Cambiamento: 2024-11-08 16:22:47\n",
    "- **PID**: leader_pid\n",
    "- **Color**: color\n",
    "- **Image Path**: `static/default_test/snapshots/matrix_20241108_162247.png`"
   ]
  },
  {
   "cell_type": "code",
   "execution_count": null,
   "id": "009875a1",
   "metadata": {},
   "outputs": [],
   "source": [
    "display(Image(filename='static/default_test/snapshots/matrix_20241108_162247.png'))"
   ]
  },
  {
   "cell_type": "markdown",
   "id": "f62693d0",
   "metadata": {},
   "source": [
    "### Cambiamento: 2024-11-08 16:22:52\n",
    "- **PID**: leader_pid\n",
    "- **Color**: color\n",
    "- **Image Path**: `static/default_test/snapshots/matrix_20241108_162251.png`"
   ]
  },
  {
   "cell_type": "code",
   "execution_count": null,
   "id": "d66f1442",
   "metadata": {},
   "outputs": [],
   "source": [
    "display(Image(filename='static/default_test/snapshots/matrix_20241108_162251.png'))"
   ]
  },
  {
   "cell_type": "markdown",
   "id": "d695f0ed",
   "metadata": {},
   "source": [
    "### Cambiamento: 2024-11-08 16:22:53\n",
    "- **PID**: leader_pid\n",
    "- **Color**: color\n",
    "- **Image Path**: `static/default_test/snapshots/matrix_20241108_162252.png`"
   ]
  },
  {
   "cell_type": "code",
   "execution_count": null,
   "id": "388bb435",
   "metadata": {},
   "outputs": [],
   "source": [
    "display(Image(filename='static/default_test/snapshots/matrix_20241108_162252.png'))"
   ]
  },
  {
   "cell_type": "markdown",
   "id": "e569ad38",
   "metadata": {},
   "source": [
    "### Cambiamento: 2024-11-08 16:22:54\n",
    "- **PID**: leader_pid\n",
    "- **Color**: color\n",
    "- **Image Path**: `static/default_test/snapshots/matrix_20241108_162253.png`"
   ]
  },
  {
   "cell_type": "code",
   "execution_count": null,
   "id": "32751742",
   "metadata": {},
   "outputs": [],
   "source": [
    "display(Image(filename='static/default_test/snapshots/matrix_20241108_162253.png'))"
   ]
  },
  {
   "cell_type": "markdown",
   "id": "3d9d0820",
   "metadata": {},
   "source": [
    "### Cambiamento: 2024-11-08 16:22:55\n",
    "- **PID**: leader_pid\n",
    "- **Color**: color\n",
    "- **Image Path**: `static/default_test/snapshots/matrix_20241108_162254.png`"
   ]
  },
  {
   "cell_type": "code",
   "execution_count": null,
   "id": "e3be681e",
   "metadata": {},
   "outputs": [],
   "source": [
    "display(Image(filename='static/default_test/snapshots/matrix_20241108_162254.png'))"
   ]
  },
  {
   "cell_type": "markdown",
   "id": "be8a318c",
   "metadata": {},
   "source": [
    "### Cambiamento: 2024-11-08 16:22:56\n",
    "- **PID**: leader_pid\n",
    "- **Color**: color\n",
    "- **Image Path**: `static/default_test/snapshots/matrix_20241108_162255.png`"
   ]
  },
  {
   "cell_type": "code",
   "execution_count": null,
   "id": "de3542b1",
   "metadata": {},
   "outputs": [],
   "source": [
    "display(Image(filename='static/default_test/snapshots/matrix_20241108_162255.png'))"
   ]
  },
  {
   "cell_type": "markdown",
   "id": "1d42d7ca",
   "metadata": {},
   "source": [
    "### Cambiamento: 2024-11-08 16:22:58\n",
    "- **PID**: leader_pid\n",
    "- **Color**: color\n",
    "- **Image Path**: `static/default_test/snapshots/matrix_20241108_162257.png`"
   ]
  },
  {
   "cell_type": "code",
   "execution_count": null,
   "id": "b9f51c71",
   "metadata": {},
   "outputs": [],
   "source": [
    "display(Image(filename='static/default_test/snapshots/matrix_20241108_162257.png'))"
   ]
  },
  {
   "cell_type": "markdown",
   "id": "6376e85e",
   "metadata": {},
   "source": [
    "### Cambiamento: 2024-11-08 16:22:59\n",
    "- **PID**: leader_pid\n",
    "- **Color**: color\n",
    "- **Image Path**: `static/default_test/snapshots/matrix_20241108_162258.png`"
   ]
  },
  {
   "cell_type": "code",
   "execution_count": null,
   "id": "a48835eb",
   "metadata": {},
   "outputs": [],
   "source": [
    "display(Image(filename='static/default_test/snapshots/matrix_20241108_162258.png'))"
   ]
  },
  {
   "cell_type": "markdown",
   "id": "3f061b83",
   "metadata": {},
   "source": [
    "### Cambiamento: 2024-11-08 16:22:59\n",
    "- **PID**: leader_pid\n",
    "- **Color**: color\n",
    "- **Image Path**: `static/default_test/snapshots/matrix_20241108_162259.png`"
   ]
  },
  {
   "cell_type": "code",
   "execution_count": null,
   "id": "4a7532c7",
   "metadata": {},
   "outputs": [],
   "source": [
    "display(Image(filename='static/default_test/snapshots/matrix_20241108_162259.png'))"
   ]
  },
  {
   "cell_type": "markdown",
   "id": "f4c42877",
   "metadata": {},
   "source": [
    "### Cambiamento: 2024-11-08 16:23:00\n",
    "- **PID**: leader_pid\n",
    "- **Color**: color\n",
    "- **Image Path**: `static/default_test/snapshots/matrix_20241108_162259.png`"
   ]
  },
  {
   "cell_type": "code",
   "execution_count": null,
   "id": "ab7e761c",
   "metadata": {},
   "outputs": [],
   "source": [
    "display(Image(filename='static/default_test/snapshots/matrix_20241108_162259.png'))"
   ]
  },
  {
   "cell_type": "markdown",
   "id": "4cdda6c3",
   "metadata": {},
   "source": [
    "### Cambiamento: 2024-11-08 16:23:02\n",
    "- **PID**: leader_pid\n",
    "- **Color**: color\n",
    "- **Image Path**: `static/default_test/snapshots/matrix_20241108_162301.png`"
   ]
  },
  {
   "cell_type": "code",
   "execution_count": null,
   "id": "4b9266b5",
   "metadata": {},
   "outputs": [],
   "source": [
    "display(Image(filename='static/default_test/snapshots/matrix_20241108_162301.png'))"
   ]
  },
  {
   "cell_type": "markdown",
   "id": "d2c2df79",
   "metadata": {},
   "source": [
    "### Cambiamento: 2024-11-08 16:23:02\n",
    "- **PID**: leader_pid\n",
    "- **Color**: color\n",
    "- **Image Path**: `static/default_test/snapshots/matrix_20241108_162302.png`"
   ]
  },
  {
   "cell_type": "code",
   "execution_count": null,
   "id": "618750ef",
   "metadata": {},
   "outputs": [],
   "source": [
    "display(Image(filename='static/default_test/snapshots/matrix_20241108_162302.png'))"
   ]
  },
  {
   "cell_type": "markdown",
   "id": "f68508da",
   "metadata": {},
   "source": [
    "### Cambiamento: 2024-11-08 16:23:03\n",
    "- **PID**: leader_pid\n",
    "- **Color**: color\n",
    "- **Image Path**: `static/default_test/snapshots/matrix_20241108_162303.png`"
   ]
  },
  {
   "cell_type": "code",
   "execution_count": null,
   "id": "59ec456b",
   "metadata": {},
   "outputs": [],
   "source": [
    "display(Image(filename='static/default_test/snapshots/matrix_20241108_162303.png'))"
   ]
  },
  {
   "cell_type": "markdown",
   "id": "7a92479f",
   "metadata": {},
   "source": [
    "### Cambiamento: 2024-11-08 16:23:04\n",
    "- **PID**: leader_pid\n",
    "- **Color**: color\n",
    "- **Image Path**: `static/default_test/snapshots/matrix_20241108_162303.png`"
   ]
  },
  {
   "cell_type": "code",
   "execution_count": null,
   "id": "051af1f9",
   "metadata": {},
   "outputs": [],
   "source": [
    "display(Image(filename='static/default_test/snapshots/matrix_20241108_162303.png'))"
   ]
  },
  {
   "cell_type": "markdown",
   "id": "ee2e983a",
   "metadata": {},
   "source": [
    "### Cambiamento: 2024-11-08 16:23:05\n",
    "- **PID**: leader_pid\n",
    "- **Color**: color\n",
    "- **Image Path**: `static/default_test/snapshots/matrix_20241108_162305.png`"
   ]
  },
  {
   "cell_type": "code",
   "execution_count": null,
   "id": "9bbf3a92",
   "metadata": {},
   "outputs": [],
   "source": [
    "display(Image(filename='static/default_test/snapshots/matrix_20241108_162305.png'))"
   ]
  },
  {
   "cell_type": "markdown",
   "id": "6c6632d2",
   "metadata": {},
   "source": [
    "### Cambiamento: 2024-11-08 16:23:08\n",
    "- **PID**: leader_pid\n",
    "- **Color**: color\n",
    "- **Image Path**: `static/default_test/snapshots/matrix_20241108_162307.png`"
   ]
  },
  {
   "cell_type": "code",
   "execution_count": null,
   "id": "491730d5",
   "metadata": {},
   "outputs": [],
   "source": [
    "display(Image(filename='static/default_test/snapshots/matrix_20241108_162307.png'))"
   ]
  },
  {
   "cell_type": "markdown",
   "id": "57a1aa89",
   "metadata": {},
   "source": [
    "### Cambiamento: 2024-11-08 16:23:08\n",
    "- **PID**: leader_pid\n",
    "- **Color**: color\n",
    "- **Image Path**: `static/default_test/snapshots/matrix_20241108_162308.png`"
   ]
  },
  {
   "cell_type": "code",
   "execution_count": null,
   "id": "03b09813",
   "metadata": {},
   "outputs": [],
   "source": [
    "display(Image(filename='static/default_test/snapshots/matrix_20241108_162308.png'))"
   ]
  },
  {
   "cell_type": "markdown",
   "id": "58012d84",
   "metadata": {},
   "source": [
    "### Cambiamento: 2024-11-08 16:23:10\n",
    "- **PID**: leader_pid\n",
    "- **Color**: color\n",
    "- **Image Path**: `static/default_test/snapshots/matrix_20241108_162310.png`"
   ]
  },
  {
   "cell_type": "code",
   "execution_count": null,
   "id": "43eeba23",
   "metadata": {},
   "outputs": [],
   "source": [
    "display(Image(filename='static/default_test/snapshots/matrix_20241108_162310.png'))"
   ]
  },
  {
   "cell_type": "markdown",
   "id": "0c339fd2",
   "metadata": {},
   "source": [
    "### Cambiamento: 2024-11-08 16:23:15\n",
    "- **PID**: leader_pid\n",
    "- **Color**: color\n",
    "- **Image Path**: `static/default_test/snapshots/matrix_20241108_162315.png`"
   ]
  },
  {
   "cell_type": "code",
   "execution_count": null,
   "id": "dc165fff",
   "metadata": {},
   "outputs": [],
   "source": [
    "display(Image(filename='static/default_test/snapshots/matrix_20241108_162315.png'))"
   ]
  },
  {
   "cell_type": "markdown",
   "id": "f71dd980",
   "metadata": {},
   "source": [
    "### Cambiamento: 2024-11-08 16:24:34\n",
    "- **PID**: leader_pid\n",
    "- **Color**: color\n",
    "- **Image Path**: `static/default_test/snapshots/matrix_20241108_162433.png`"
   ]
  },
  {
   "cell_type": "code",
   "execution_count": null,
   "id": "a03b6b8e",
   "metadata": {},
   "outputs": [],
   "source": [
    "display(Image(filename='static/default_test/snapshots/matrix_20241108_162433.png'))"
   ]
  },
  {
   "cell_type": "markdown",
   "id": "a44b90f9",
   "metadata": {},
   "source": [
    "### Cambiamento: 2024-11-08 16:24:39\n",
    "- **PID**: leader_pid\n",
    "- **Color**: color\n",
    "- **Image Path**: `static/default_test/snapshots/matrix_20241108_162439.png`"
   ]
  },
  {
   "cell_type": "code",
   "execution_count": null,
   "id": "aaa15b8c",
   "metadata": {},
   "outputs": [],
   "source": [
    "display(Image(filename='static/default_test/snapshots/matrix_20241108_162439.png'))"
   ]
  },
  {
   "cell_type": "markdown",
   "id": "bde8fb3a",
   "metadata": {},
   "source": [
    "### Cambiamento: 2024-11-08 16:24:40\n",
    "- **PID**: leader_pid\n",
    "- **Color**: color\n",
    "- **Image Path**: `static/default_test/snapshots/matrix_20241108_162439.png`"
   ]
  },
  {
   "cell_type": "code",
   "execution_count": null,
   "id": "c11424cd",
   "metadata": {},
   "outputs": [],
   "source": [
    "display(Image(filename='static/default_test/snapshots/matrix_20241108_162439.png'))"
   ]
  },
  {
   "cell_type": "markdown",
   "id": "b7c96e02",
   "metadata": {},
   "source": [
    "### Cambiamento: 2024-11-08 16:24:41\n",
    "- **PID**: leader_pid\n",
    "- **Color**: color\n",
    "- **Image Path**: `static/default_test/snapshots/matrix_20241108_162441.png`"
   ]
  },
  {
   "cell_type": "code",
   "execution_count": null,
   "id": "8984179e",
   "metadata": {},
   "outputs": [],
   "source": [
    "display(Image(filename='static/default_test/snapshots/matrix_20241108_162441.png'))"
   ]
  },
  {
   "cell_type": "markdown",
   "id": "e2689417",
   "metadata": {},
   "source": [
    "### Cambiamento: 2024-11-08 16:24:42\n",
    "- **PID**: leader_pid\n",
    "- **Color**: color\n",
    "- **Image Path**: `static/default_test/snapshots/matrix_20241108_162441.png`"
   ]
  },
  {
   "cell_type": "code",
   "execution_count": null,
   "id": "b362741f",
   "metadata": {},
   "outputs": [],
   "source": [
    "display(Image(filename='static/default_test/snapshots/matrix_20241108_162441.png'))"
   ]
  },
  {
   "cell_type": "markdown",
   "id": "7887417d",
   "metadata": {},
   "source": [
    "### Cambiamento: 2024-11-08 16:24:44\n",
    "- **PID**: leader_pid\n",
    "- **Color**: color\n",
    "- **Image Path**: `static/default_test/snapshots/matrix_20241108_162443.png`"
   ]
  },
  {
   "cell_type": "code",
   "execution_count": null,
   "id": "063664ac",
   "metadata": {},
   "outputs": [],
   "source": [
    "display(Image(filename='static/default_test/snapshots/matrix_20241108_162443.png'))"
   ]
  },
  {
   "cell_type": "markdown",
   "id": "7ca9fe19",
   "metadata": {},
   "source": [
    "### Cambiamento: 2024-11-08 16:24:44\n",
    "- **PID**: leader_pid\n",
    "- **Color**: color\n",
    "- **Image Path**: `static/default_test/snapshots/matrix_20241108_162444.png`"
   ]
  },
  {
   "cell_type": "code",
   "execution_count": null,
   "id": "562207a1",
   "metadata": {},
   "outputs": [],
   "source": [
    "display(Image(filename='static/default_test/snapshots/matrix_20241108_162444.png'))"
   ]
  },
  {
   "cell_type": "markdown",
   "id": "064ef2a7",
   "metadata": {},
   "source": [
    "### Cambiamento: 2024-11-08 16:24:45\n",
    "- **PID**: leader_pid\n",
    "- **Color**: color\n",
    "- **Image Path**: `static/default_test/snapshots/matrix_20241108_162445.png`"
   ]
  },
  {
   "cell_type": "code",
   "execution_count": null,
   "id": "12fdc049",
   "metadata": {},
   "outputs": [],
   "source": [
    "display(Image(filename='static/default_test/snapshots/matrix_20241108_162445.png'))"
   ]
  },
  {
   "cell_type": "markdown",
   "id": "22cbf141",
   "metadata": {},
   "source": [
    "### Cambiamento: 2024-11-08 16:25:05\n",
    "- **PID**: leader_pid\n",
    "- **Color**: color\n",
    "- **Image Path**: `static/default_test/snapshots/matrix_20241108_162505.png`"
   ]
  },
  {
   "cell_type": "code",
   "execution_count": null,
   "id": "5eaf0027",
   "metadata": {},
   "outputs": [],
   "source": [
    "display(Image(filename='static/default_test/snapshots/matrix_20241108_162505.png'))"
   ]
  },
  {
   "cell_type": "markdown",
   "id": "17934149",
   "metadata": {},
   "source": [
    "### Cambiamento: 2024-11-08 16:25:13\n",
    "- **PID**: leader_pid\n",
    "- **Color**: color\n",
    "- **Image Path**: `static/default_test/snapshots/matrix_20241108_162513.png`"
   ]
  },
  {
   "cell_type": "code",
   "execution_count": null,
   "id": "3c92d88d",
   "metadata": {},
   "outputs": [],
   "source": [
    "display(Image(filename='static/default_test/snapshots/matrix_20241108_162513.png'))"
   ]
  },
  {
   "cell_type": "markdown",
   "id": "7712a334",
   "metadata": {},
   "source": [
    "### Cambiamento: 2024-11-08 16:25:17\n",
    "- **PID**: leader_pid\n",
    "- **Color**: color\n",
    "- **Image Path**: `static/default_test/snapshots/matrix_20241108_162516.png`"
   ]
  },
  {
   "cell_type": "code",
   "execution_count": null,
   "id": "3ee1ec90",
   "metadata": {},
   "outputs": [],
   "source": [
    "display(Image(filename='static/default_test/snapshots/matrix_20241108_162516.png'))"
   ]
  },
  {
   "cell_type": "markdown",
   "id": "3d74a755",
   "metadata": {},
   "source": [
    "### Cambiamento: 2024-11-08 16:25:21\n",
    "- **PID**: leader_pid\n",
    "- **Color**: color\n",
    "- **Image Path**: `static/default_test/snapshots/matrix_20241108_162521.png`"
   ]
  },
  {
   "cell_type": "code",
   "execution_count": null,
   "id": "b6acec93",
   "metadata": {},
   "outputs": [],
   "source": [
    "display(Image(filename='static/default_test/snapshots/matrix_20241108_162521.png'))"
   ]
  },
  {
   "cell_type": "markdown",
   "id": "692e8a08",
   "metadata": {},
   "source": [
    "### Cambiamento: 2024-11-08 16:25:32\n",
    "- **PID**: leader_pid\n",
    "- **Color**: color\n",
    "- **Image Path**: `static/default_test/snapshots/matrix_20241108_162532.png`"
   ]
  },
  {
   "cell_type": "code",
   "execution_count": null,
   "id": "0c2ff24b",
   "metadata": {},
   "outputs": [],
   "source": [
    "display(Image(filename='static/default_test/snapshots/matrix_20241108_162532.png'))"
   ]
  },
  {
   "cell_type": "markdown",
   "id": "d846e614",
   "metadata": {},
   "source": [
    "### Cambiamento: 2024-11-08 16:25:36\n",
    "- **PID**: leader_pid\n",
    "- **Color**: color\n",
    "- **Image Path**: `static/default_test/snapshots/matrix_20241108_162535.png`"
   ]
  },
  {
   "cell_type": "code",
   "execution_count": null,
   "id": "051e803d",
   "metadata": {},
   "outputs": [],
   "source": [
    "display(Image(filename='static/default_test/snapshots/matrix_20241108_162535.png'))"
   ]
  },
  {
   "cell_type": "markdown",
   "id": "5578c759",
   "metadata": {},
   "source": [
    "### Cambiamento: 2024-11-08 16:25:46\n",
    "- **PID**: leader_pid\n",
    "- **Color**: color\n",
    "- **Image Path**: `static/default_test/snapshots/matrix_20241108_162546.png`"
   ]
  },
  {
   "cell_type": "code",
   "execution_count": null,
   "id": "7240ba4d",
   "metadata": {},
   "outputs": [],
   "source": [
    "display(Image(filename='static/default_test/snapshots/matrix_20241108_162546.png'))"
   ]
  },
  {
   "cell_type": "markdown",
   "id": "18c47a1a",
   "metadata": {},
   "source": [
    "### Cambiamento: 2024-11-08 16:25:49\n",
    "- **PID**: leader_pid\n",
    "- **Color**: color\n",
    "- **Image Path**: `static/default_test/snapshots/matrix_20241108_162549.png`"
   ]
  },
  {
   "cell_type": "code",
   "execution_count": null,
   "id": "76fe6be2",
   "metadata": {},
   "outputs": [],
   "source": [
    "display(Image(filename='static/default_test/snapshots/matrix_20241108_162549.png'))"
   ]
  },
  {
   "cell_type": "markdown",
   "id": "fdd86d94",
   "metadata": {},
   "source": [
    "### Cambiamento: 2024-11-08 16:25:54\n",
    "- **PID**: leader_pid\n",
    "- **Color**: color\n",
    "- **Image Path**: `static/default_test/snapshots/matrix_20241108_162553.png`"
   ]
  },
  {
   "cell_type": "code",
   "execution_count": null,
   "id": "39750910",
   "metadata": {},
   "outputs": [],
   "source": [
    "display(Image(filename='static/default_test/snapshots/matrix_20241108_162553.png'))"
   ]
  },
  {
   "cell_type": "markdown",
   "id": "1efdfc4a",
   "metadata": {},
   "source": [
    "### Cambiamento: 2024-11-08 16:29:12\n",
    "- **PID**: leader_pid\n",
    "- **Color**: color\n",
    "- **Image Path**: `static/default_test/snapshots/matrix_20241108_162911.png`"
   ]
  },
  {
   "cell_type": "code",
   "execution_count": null,
   "id": "811004a5",
   "metadata": {},
   "outputs": [],
   "source": [
    "display(Image(filename='static/default_test/snapshots/matrix_20241108_162911.png'))"
   ]
  },
  {
   "cell_type": "markdown",
   "id": "7b5b9a67",
   "metadata": {},
   "source": [
    "### Cambiamento: 2024-11-08 16:30:22\n",
    "- **PID**: leader_pid\n",
    "- **Color**: color\n",
    "- **Image Path**: `static/default_test/snapshots/matrix_20241108_163022.png`"
   ]
  },
  {
   "cell_type": "code",
   "execution_count": null,
   "id": "fd38b342",
   "metadata": {},
   "outputs": [],
   "source": [
    "display(Image(filename='static/default_test/snapshots/matrix_20241108_163022.png'))"
   ]
  },
  {
   "cell_type": "markdown",
   "id": "164603fb",
   "metadata": {},
   "source": [
    "### Cambiamento: 2024-11-08 16:30:52\n",
    "- **PID**: leader_pid\n",
    "- **Color**: color\n",
    "- **Image Path**: `static/default_test/snapshots/matrix_20241108_163052.png`"
   ]
  },
  {
   "cell_type": "code",
   "execution_count": null,
   "id": "f7cfc90c",
   "metadata": {},
   "outputs": [],
   "source": [
    "display(Image(filename='static/default_test/snapshots/matrix_20241108_163052.png'))"
   ]
  },
  {
   "cell_type": "markdown",
   "id": "60fb5d64",
   "metadata": {},
   "source": [
    "### Cambiamento: 2024-11-08 16:31:01\n",
    "- **PID**: leader_pid\n",
    "- **Color**: color\n",
    "- **Image Path**: `static/default_test/snapshots/matrix_20241108_163101.png`"
   ]
  },
  {
   "cell_type": "code",
   "execution_count": null,
   "id": "39e7dd09",
   "metadata": {},
   "outputs": [],
   "source": [
    "display(Image(filename='static/default_test/snapshots/matrix_20241108_163101.png'))"
   ]
  },
  {
   "cell_type": "markdown",
   "id": "ce91824a",
   "metadata": {},
   "source": [
    "### Cambiamento: 2024-11-08 16:31:01\n",
    "- **PID**: leader_pid\n",
    "- **Color**: color\n",
    "- **Image Path**: `static/default_test/snapshots/matrix_20241108_163101.png`"
   ]
  },
  {
   "cell_type": "code",
   "execution_count": null,
   "id": "fc500ab5",
   "metadata": {},
   "outputs": [],
   "source": [
    "display(Image(filename='static/default_test/snapshots/matrix_20241108_163101.png'))"
   ]
  },
  {
   "cell_type": "markdown",
   "id": "1c7b6cd4",
   "metadata": {},
   "source": [
    "### Cambiamento: 2024-11-08 16:31:03\n",
    "- **PID**: leader_pid\n",
    "- **Color**: color\n",
    "- **Image Path**: `static/default_test/snapshots/matrix_20241108_163103.png`"
   ]
  },
  {
   "cell_type": "code",
   "execution_count": null,
   "id": "3c7ccbb3",
   "metadata": {},
   "outputs": [],
   "source": [
    "display(Image(filename='static/default_test/snapshots/matrix_20241108_163103.png'))"
   ]
  },
  {
   "cell_type": "markdown",
   "id": "ebaa7723",
   "metadata": {},
   "source": [
    "### Cambiamento: 2024-11-08 16:31:03\n",
    "- **PID**: leader_pid\n",
    "- **Color**: color\n",
    "- **Image Path**: `static/default_test/snapshots/matrix_20241108_163103.png`"
   ]
  },
  {
   "cell_type": "code",
   "execution_count": null,
   "id": "11b75b13",
   "metadata": {},
   "outputs": [],
   "source": [
    "display(Image(filename='static/default_test/snapshots/matrix_20241108_163103.png'))"
   ]
  },
  {
   "cell_type": "markdown",
   "id": "bf97b3b1",
   "metadata": {},
   "source": [
    "### Cambiamento: 2024-11-08 16:31:36\n",
    "- **PID**: leader_pid\n",
    "- **Color**: color\n",
    "- **Image Path**: `static/default_test/snapshots/matrix_20241108_163136.png`"
   ]
  },
  {
   "cell_type": "code",
   "execution_count": null,
   "id": "1ec25c3d",
   "metadata": {},
   "outputs": [],
   "source": [
    "display(Image(filename='static/default_test/snapshots/matrix_20241108_163136.png'))"
   ]
  },
  {
   "cell_type": "markdown",
   "id": "35b08083",
   "metadata": {},
   "source": [
    "### Cambiamento: 2024-11-08 16:31:44\n",
    "- **PID**: leader_pid\n",
    "- **Color**: color\n",
    "- **Image Path**: `static/default_test/snapshots/matrix_20241108_163144.png`"
   ]
  },
  {
   "cell_type": "code",
   "execution_count": null,
   "id": "1e33ab45",
   "metadata": {},
   "outputs": [],
   "source": [
    "display(Image(filename='static/default_test/snapshots/matrix_20241108_163144.png'))"
   ]
  },
  {
   "cell_type": "markdown",
   "id": "7bb26df0",
   "metadata": {},
   "source": [
    "### Cambiamento: 2024-11-08 16:31:50\n",
    "- **PID**: leader_pid\n",
    "- **Color**: color\n",
    "- **Image Path**: `static/default_test/snapshots/matrix_20241108_163150.png`"
   ]
  },
  {
   "cell_type": "code",
   "execution_count": null,
   "id": "8bcba5f1",
   "metadata": {},
   "outputs": [],
   "source": [
    "display(Image(filename='static/default_test/snapshots/matrix_20241108_163150.png'))"
   ]
  },
  {
   "cell_type": "markdown",
   "id": "907c96ab",
   "metadata": {},
   "source": [
    "### Cambiamento: 2024-11-08 16:31:53\n",
    "- **PID**: leader_pid\n",
    "- **Color**: color\n",
    "- **Image Path**: `static/default_test/snapshots/matrix_20241108_163152.png`"
   ]
  },
  {
   "cell_type": "code",
   "execution_count": null,
   "id": "cf4e4355",
   "metadata": {},
   "outputs": [],
   "source": [
    "display(Image(filename='static/default_test/snapshots/matrix_20241108_163152.png'))"
   ]
  },
  {
   "cell_type": "markdown",
   "id": "c93b9d54",
   "metadata": {},
   "source": [
    "### Cambiamento: 2024-11-08 16:31:55\n",
    "- **PID**: leader_pid\n",
    "- **Color**: color\n",
    "- **Image Path**: `static/default_test/snapshots/matrix_20241108_163155.png`"
   ]
  },
  {
   "cell_type": "code",
   "execution_count": null,
   "id": "373e8e69",
   "metadata": {},
   "outputs": [],
   "source": [
    "display(Image(filename='static/default_test/snapshots/matrix_20241108_163155.png'))"
   ]
  },
  {
   "cell_type": "markdown",
   "id": "ee48cccb",
   "metadata": {},
   "source": [
    "### Cambiamento: 2024-11-08 16:32:00\n",
    "- **PID**: leader_pid\n",
    "- **Color**: color\n",
    "- **Image Path**: `static/default_test/snapshots/matrix_20241108_163200.png`"
   ]
  },
  {
   "cell_type": "code",
   "execution_count": null,
   "id": "84fec748",
   "metadata": {},
   "outputs": [],
   "source": [
    "display(Image(filename='static/default_test/snapshots/matrix_20241108_163200.png'))"
   ]
  },
  {
   "cell_type": "markdown",
   "id": "e4ea4a0d",
   "metadata": {},
   "source": [
    "### Cambiamento: 2024-11-08 16:32:16\n",
    "- **PID**: leader_pid\n",
    "- **Color**: color\n",
    "- **Image Path**: `static/default_test/snapshots/matrix_20241108_163215.png`"
   ]
  },
  {
   "cell_type": "code",
   "execution_count": null,
   "id": "1ede94f4",
   "metadata": {},
   "outputs": [],
   "source": [
    "display(Image(filename='static/default_test/snapshots/matrix_20241108_163215.png'))"
   ]
  },
  {
   "cell_type": "markdown",
   "id": "3d7e3791",
   "metadata": {},
   "source": [
    "### Cambiamento: 2024-11-08 16:32:16\n",
    "- **PID**: leader_pid\n",
    "- **Color**: color\n",
    "- **Image Path**: `static/default_test/snapshots/matrix_20241108_163216.png`"
   ]
  },
  {
   "cell_type": "code",
   "execution_count": null,
   "id": "1422c9e2",
   "metadata": {},
   "outputs": [],
   "source": [
    "display(Image(filename='static/default_test/snapshots/matrix_20241108_163216.png'))"
   ]
  },
  {
   "cell_type": "markdown",
   "id": "229ff472",
   "metadata": {},
   "source": [
    "### Cambiamento: 2024-11-08 16:32:18\n",
    "- **PID**: leader_pid\n",
    "- **Color**: color\n",
    "- **Image Path**: `static/default_test/snapshots/matrix_20241108_163217.png`"
   ]
  },
  {
   "cell_type": "code",
   "execution_count": null,
   "id": "2b858e10",
   "metadata": {},
   "outputs": [],
   "source": [
    "display(Image(filename='static/default_test/snapshots/matrix_20241108_163217.png'))"
   ]
  },
  {
   "cell_type": "markdown",
   "id": "de5a6fd6",
   "metadata": {},
   "source": [
    "### Cambiamento: 2024-11-08 16:32:18\n",
    "- **PID**: leader_pid\n",
    "- **Color**: color\n",
    "- **Image Path**: `static/default_test/snapshots/matrix_20241108_163218.png`"
   ]
  },
  {
   "cell_type": "code",
   "execution_count": null,
   "id": "04e93667",
   "metadata": {},
   "outputs": [],
   "source": [
    "display(Image(filename='static/default_test/snapshots/matrix_20241108_163218.png'))"
   ]
  },
  {
   "cell_type": "markdown",
   "id": "c70c83ab",
   "metadata": {},
   "source": [
    "### Cambiamento: 2024-11-08 16:33:49\n",
    "- **PID**: leader_pid\n",
    "- **Color**: color\n",
    "- **Image Path**: `static/default_test/snapshots/matrix_20241108_163348.png`"
   ]
  },
  {
   "cell_type": "code",
   "execution_count": null,
   "id": "051b2dc4",
   "metadata": {},
   "outputs": [],
   "source": [
    "display(Image(filename='static/default_test/snapshots/matrix_20241108_163348.png'))"
   ]
  },
  {
   "cell_type": "markdown",
   "id": "2ae66203",
   "metadata": {},
   "source": [
    "### Cambiamento: 2024-11-08 16:33:56\n",
    "- **PID**: leader_pid\n",
    "- **Color**: color\n",
    "- **Image Path**: `static/default_test/snapshots/matrix_20241108_163355.png`"
   ]
  },
  {
   "cell_type": "code",
   "execution_count": null,
   "id": "f61e6cc1",
   "metadata": {},
   "outputs": [],
   "source": [
    "display(Image(filename='static/default_test/snapshots/matrix_20241108_163355.png'))"
   ]
  },
  {
   "cell_type": "markdown",
   "id": "3e4feee3",
   "metadata": {},
   "source": [
    "### Cambiamento: 2024-11-08 16:33:58\n",
    "- **PID**: leader_pid\n",
    "- **Color**: color\n",
    "- **Image Path**: `static/default_test/snapshots/matrix_20241108_163357.png`"
   ]
  },
  {
   "cell_type": "code",
   "execution_count": null,
   "id": "6d63c7e4",
   "metadata": {},
   "outputs": [],
   "source": [
    "display(Image(filename='static/default_test/snapshots/matrix_20241108_163357.png'))"
   ]
  },
  {
   "cell_type": "markdown",
   "id": "86f8b0ba",
   "metadata": {},
   "source": [
    "### Cambiamento: 2024-11-08 16:33:59\n",
    "- **PID**: leader_pid\n",
    "- **Color**: color\n",
    "- **Image Path**: `static/default_test/snapshots/matrix_20241108_163358.png`"
   ]
  },
  {
   "cell_type": "code",
   "execution_count": null,
   "id": "f5e8296f",
   "metadata": {},
   "outputs": [],
   "source": [
    "display(Image(filename='static/default_test/snapshots/matrix_20241108_163358.png'))"
   ]
  },
  {
   "cell_type": "markdown",
   "id": "d342b4bc",
   "metadata": {},
   "source": [
    "### Cambiamento: 2024-11-08 16:34:00\n",
    "- **PID**: leader_pid\n",
    "- **Color**: color\n",
    "- **Image Path**: `static/default_test/snapshots/matrix_20241108_163359.png`"
   ]
  },
  {
   "cell_type": "code",
   "execution_count": null,
   "id": "8b77a674",
   "metadata": {},
   "outputs": [],
   "source": [
    "display(Image(filename='static/default_test/snapshots/matrix_20241108_163359.png'))"
   ]
  },
  {
   "cell_type": "markdown",
   "id": "0bca5681",
   "metadata": {},
   "source": [
    "### Cambiamento: 2024-11-08 16:34:01\n",
    "- **PID**: leader_pid\n",
    "- **Color**: color\n",
    "- **Image Path**: `static/default_test/snapshots/matrix_20241108_163401.png`"
   ]
  },
  {
   "cell_type": "code",
   "execution_count": null,
   "id": "5c1c9ba8",
   "metadata": {},
   "outputs": [],
   "source": [
    "display(Image(filename='static/default_test/snapshots/matrix_20241108_163401.png'))"
   ]
  },
  {
   "cell_type": "markdown",
   "id": "51f5c2f0",
   "metadata": {},
   "source": [
    "### Cambiamento: 2024-11-08 16:34:02\n",
    "- **PID**: leader_pid\n",
    "- **Color**: color\n",
    "- **Image Path**: `static/default_test/snapshots/matrix_20241108_163401.png`"
   ]
  },
  {
   "cell_type": "code",
   "execution_count": null,
   "id": "99c53767",
   "metadata": {},
   "outputs": [],
   "source": [
    "display(Image(filename='static/default_test/snapshots/matrix_20241108_163401.png'))"
   ]
  },
  {
   "cell_type": "markdown",
   "id": "d41115ed",
   "metadata": {},
   "source": [
    "### Cambiamento: 2024-11-08 16:34:07\n",
    "- **PID**: leader_pid\n",
    "- **Color**: color\n",
    "- **Image Path**: `static/default_test/snapshots/matrix_20241108_163406.png`"
   ]
  },
  {
   "cell_type": "code",
   "execution_count": null,
   "id": "268b4dd2",
   "metadata": {},
   "outputs": [],
   "source": [
    "display(Image(filename='static/default_test/snapshots/matrix_20241108_163406.png'))"
   ]
  },
  {
   "cell_type": "markdown",
   "id": "70da6c2b",
   "metadata": {},
   "source": [
    "### Cambiamento: 2024-11-08 16:34:12\n",
    "- **PID**: leader_pid\n",
    "- **Color**: color\n",
    "- **Image Path**: `static/default_test/snapshots/matrix_20241108_163411.png`"
   ]
  },
  {
   "cell_type": "code",
   "execution_count": null,
   "id": "93b355ab",
   "metadata": {},
   "outputs": [],
   "source": [
    "display(Image(filename='static/default_test/snapshots/matrix_20241108_163411.png'))"
   ]
  },
  {
   "cell_type": "markdown",
   "id": "cb9cd9c7",
   "metadata": {},
   "source": [
    "### Cambiamento: 2024-11-08 16:34:17\n",
    "- **PID**: leader_pid\n",
    "- **Color**: color\n",
    "- **Image Path**: `static/default_test/snapshots/matrix_20241108_163416.png`"
   ]
  },
  {
   "cell_type": "code",
   "execution_count": null,
   "id": "25c2721e",
   "metadata": {},
   "outputs": [],
   "source": [
    "display(Image(filename='static/default_test/snapshots/matrix_20241108_163416.png'))"
   ]
  },
  {
   "cell_type": "markdown",
   "id": "d696ced1",
   "metadata": {},
   "source": [
    "### Cambiamento: 2024-11-08 16:35:12\n",
    "- **PID**: leader_pid\n",
    "- **Color**: color\n",
    "- **Image Path**: `static/default_test/snapshots/matrix_20241108_163511.png`"
   ]
  },
  {
   "cell_type": "code",
   "execution_count": null,
   "id": "03f8c7f8",
   "metadata": {},
   "outputs": [],
   "source": [
    "display(Image(filename='static/default_test/snapshots/matrix_20241108_163511.png'))"
   ]
  },
  {
   "cell_type": "markdown",
   "id": "152c5a79",
   "metadata": {},
   "source": [
    "### Cambiamento: 2024-11-08 16:35:13\n",
    "- **PID**: leader_pid\n",
    "- **Color**: color\n",
    "- **Image Path**: `static/default_test/snapshots/matrix_20241108_163512.png`"
   ]
  },
  {
   "cell_type": "code",
   "execution_count": null,
   "id": "e967fdbe",
   "metadata": {},
   "outputs": [],
   "source": [
    "display(Image(filename='static/default_test/snapshots/matrix_20241108_163512.png'))"
   ]
  },
  {
   "cell_type": "markdown",
   "id": "7be21678",
   "metadata": {},
   "source": [
    "### Cambiamento: 2024-11-08 16:35:16\n",
    "- **PID**: leader_pid\n",
    "- **Color**: color\n",
    "- **Image Path**: `static/default_test/snapshots/matrix_20241108_163515.png`"
   ]
  },
  {
   "cell_type": "code",
   "execution_count": null,
   "id": "a869bb9c",
   "metadata": {},
   "outputs": [],
   "source": [
    "display(Image(filename='static/default_test/snapshots/matrix_20241108_163515.png'))"
   ]
  },
  {
   "cell_type": "markdown",
   "id": "fa828bd2",
   "metadata": {},
   "source": [
    "### Cambiamento: 2024-11-08 16:35:17\n",
    "- **PID**: leader_pid\n",
    "- **Color**: color\n",
    "- **Image Path**: `static/default_test/snapshots/matrix_20241108_163516.png`"
   ]
  },
  {
   "cell_type": "code",
   "execution_count": null,
   "id": "bda1585d",
   "metadata": {},
   "outputs": [],
   "source": [
    "display(Image(filename='static/default_test/snapshots/matrix_20241108_163516.png'))"
   ]
  },
  {
   "cell_type": "markdown",
   "id": "9d24e069",
   "metadata": {},
   "source": [
    "### Cambiamento: 2024-11-08 16:35:18\n",
    "- **PID**: leader_pid\n",
    "- **Color**: color\n",
    "- **Image Path**: `static/default_test/snapshots/matrix_20241108_163518.png`"
   ]
  },
  {
   "cell_type": "code",
   "execution_count": null,
   "id": "d1400653",
   "metadata": {},
   "outputs": [],
   "source": [
    "display(Image(filename='static/default_test/snapshots/matrix_20241108_163518.png'))"
   ]
  },
  {
   "cell_type": "markdown",
   "id": "b7b52404",
   "metadata": {},
   "source": [
    "### Cambiamento: 2024-11-08 16:35:19\n",
    "- **PID**: leader_pid\n",
    "- **Color**: color\n",
    "- **Image Path**: `static/default_test/snapshots/matrix_20241108_163519.png`"
   ]
  },
  {
   "cell_type": "code",
   "execution_count": null,
   "id": "54dbda13",
   "metadata": {},
   "outputs": [],
   "source": [
    "display(Image(filename='static/default_test/snapshots/matrix_20241108_163519.png'))"
   ]
  },
  {
   "cell_type": "markdown",
   "id": "5e70543b",
   "metadata": {},
   "source": [
    "### Cambiamento: 2024-11-08 16:35:20\n",
    "- **PID**: leader_pid\n",
    "- **Color**: color\n",
    "- **Image Path**: `static/default_test/snapshots/matrix_20241108_163519.png`"
   ]
  },
  {
   "cell_type": "code",
   "execution_count": null,
   "id": "d6eb6b8c",
   "metadata": {},
   "outputs": [],
   "source": [
    "display(Image(filename='static/default_test/snapshots/matrix_20241108_163519.png'))"
   ]
  },
  {
   "cell_type": "markdown",
   "id": "a8b3c020",
   "metadata": {},
   "source": [
    "### Cambiamento: 2024-11-08 16:35:21\n",
    "- **PID**: leader_pid\n",
    "- **Color**: color\n",
    "- **Image Path**: `static/default_test/snapshots/matrix_20241108_163520.png`"
   ]
  },
  {
   "cell_type": "code",
   "execution_count": null,
   "id": "244f9c97",
   "metadata": {},
   "outputs": [],
   "source": [
    "display(Image(filename='static/default_test/snapshots/matrix_20241108_163520.png'))"
   ]
  },
  {
   "cell_type": "markdown",
   "id": "f6e321a0",
   "metadata": {},
   "source": [
    "### Cambiamento: 2024-11-08 16:35:22\n",
    "- **PID**: leader_pid\n",
    "- **Color**: color\n",
    "- **Image Path**: `static/default_test/snapshots/matrix_20241108_163521.png`"
   ]
  },
  {
   "cell_type": "code",
   "execution_count": null,
   "id": "dcb16177",
   "metadata": {},
   "outputs": [],
   "source": [
    "display(Image(filename='static/default_test/snapshots/matrix_20241108_163521.png'))"
   ]
  },
  {
   "cell_type": "markdown",
   "id": "118b2fd5",
   "metadata": {},
   "source": [
    "### Cambiamento: 2024-11-08 16:35:23\n",
    "- **PID**: leader_pid\n",
    "- **Color**: color\n",
    "- **Image Path**: `static/default_test/snapshots/matrix_20241108_163523.png`"
   ]
  },
  {
   "cell_type": "code",
   "execution_count": null,
   "id": "a940d821",
   "metadata": {},
   "outputs": [],
   "source": [
    "display(Image(filename='static/default_test/snapshots/matrix_20241108_163523.png'))"
   ]
  },
  {
   "cell_type": "markdown",
   "id": "48ce2096",
   "metadata": {},
   "source": [
    "### Cambiamento: 2024-11-08 16:35:28\n",
    "- **PID**: leader_pid\n",
    "- **Color**: color\n",
    "- **Image Path**: `static/default_test/snapshots/matrix_20241108_163528.png`"
   ]
  },
  {
   "cell_type": "code",
   "execution_count": null,
   "id": "7ac4fd4a",
   "metadata": {},
   "outputs": [],
   "source": [
    "display(Image(filename='static/default_test/snapshots/matrix_20241108_163528.png'))"
   ]
  },
  {
   "cell_type": "markdown",
   "id": "c4886e3a",
   "metadata": {},
   "source": [
    "### Cambiamento: 2024-11-08 16:35:33\n",
    "- **PID**: leader_pid\n",
    "- **Color**: color\n",
    "- **Image Path**: `static/default_test/snapshots/matrix_20241108_163533.png`"
   ]
  },
  {
   "cell_type": "code",
   "execution_count": null,
   "id": "142b94aa",
   "metadata": {},
   "outputs": [],
   "source": [
    "display(Image(filename='static/default_test/snapshots/matrix_20241108_163533.png'))"
   ]
  },
  {
   "cell_type": "markdown",
   "id": "8897fbf2",
   "metadata": {},
   "source": [
    "### Cambiamento: 2024-11-08 16:35:41\n",
    "- **PID**: leader_pid\n",
    "- **Color**: color\n",
    "- **Image Path**: `static/default_test/snapshots/matrix_20241108_163541.png`"
   ]
  },
  {
   "cell_type": "code",
   "execution_count": null,
   "id": "3ddcb006",
   "metadata": {},
   "outputs": [],
   "source": [
    "display(Image(filename='static/default_test/snapshots/matrix_20241108_163541.png'))"
   ]
  },
  {
   "cell_type": "markdown",
   "id": "3ee7b85e",
   "metadata": {},
   "source": [
    "### Cambiamento: 2024-11-08 16:36:40\n",
    "- **PID**: leader_pid\n",
    "- **Color**: color\n",
    "- **Image Path**: `static/default_test/snapshots/matrix_20241108_163640.png`"
   ]
  },
  {
   "cell_type": "code",
   "execution_count": null,
   "id": "eb5946e4",
   "metadata": {},
   "outputs": [],
   "source": [
    "display(Image(filename='static/default_test/snapshots/matrix_20241108_163640.png'))"
   ]
  },
  {
   "cell_type": "markdown",
   "id": "483f14a8",
   "metadata": {},
   "source": [
    "### Cambiamento: 2024-11-08 16:36:45\n",
    "- **PID**: leader_pid\n",
    "- **Color**: color\n",
    "- **Image Path**: `static/default_test/snapshots/matrix_20241108_163644.png`"
   ]
  },
  {
   "cell_type": "code",
   "execution_count": null,
   "id": "d56f6b3c",
   "metadata": {},
   "outputs": [],
   "source": [
    "display(Image(filename='static/default_test/snapshots/matrix_20241108_163644.png'))"
   ]
  },
  {
   "cell_type": "markdown",
   "id": "739cac1a",
   "metadata": {},
   "source": [
    "### Cambiamento: 2024-11-08 16:36:49\n",
    "- **PID**: leader_pid\n",
    "- **Color**: color\n",
    "- **Image Path**: `static/default_test/snapshots/matrix_20241108_163645.png`"
   ]
  },
  {
   "cell_type": "code",
   "execution_count": null,
   "id": "8ee58d4d",
   "metadata": {},
   "outputs": [],
   "source": [
    "display(Image(filename='static/default_test/snapshots/matrix_20241108_163645.png'))"
   ]
  },
  {
   "cell_type": "markdown",
   "id": "c6c1cdf8",
   "metadata": {},
   "source": [
    "### Cambiamento: 2024-11-08 16:36:50\n",
    "- **PID**: leader_pid\n",
    "- **Color**: color\n",
    "- **Image Path**: `static/default_test/snapshots/matrix_20241108_163649.png`"
   ]
  },
  {
   "cell_type": "code",
   "execution_count": null,
   "id": "334c174b",
   "metadata": {},
   "outputs": [],
   "source": [
    "display(Image(filename='static/default_test/snapshots/matrix_20241108_163649.png'))"
   ]
  },
  {
   "cell_type": "markdown",
   "id": "3e32d636",
   "metadata": {},
   "source": [
    "### Cambiamento: 2024-11-08 16:36:51\n",
    "- **PID**: leader_pid\n",
    "- **Color**: color\n",
    "- **Image Path**: `static/default_test/snapshots/matrix_20241108_163650.png`"
   ]
  },
  {
   "cell_type": "code",
   "execution_count": null,
   "id": "5e2c61bd",
   "metadata": {},
   "outputs": [],
   "source": [
    "display(Image(filename='static/default_test/snapshots/matrix_20241108_163650.png'))"
   ]
  },
  {
   "cell_type": "markdown",
   "id": "8143816b",
   "metadata": {},
   "source": [
    "### Cambiamento: 2024-11-08 16:36:51\n",
    "- **PID**: leader_pid\n",
    "- **Color**: color\n",
    "- **Image Path**: `static/default_test/snapshots/matrix_20241108_163651.png`"
   ]
  },
  {
   "cell_type": "code",
   "execution_count": null,
   "id": "53a149d0",
   "metadata": {},
   "outputs": [],
   "source": [
    "display(Image(filename='static/default_test/snapshots/matrix_20241108_163651.png'))"
   ]
  },
  {
   "cell_type": "markdown",
   "id": "efc42780",
   "metadata": {},
   "source": [
    "### Cambiamento: 2024-11-08 16:36:52\n",
    "- **PID**: leader_pid\n",
    "- **Color**: color\n",
    "- **Image Path**: `static/default_test/snapshots/matrix_20241108_163652.png`"
   ]
  },
  {
   "cell_type": "code",
   "execution_count": null,
   "id": "9df1e0eb",
   "metadata": {},
   "outputs": [],
   "source": [
    "display(Image(filename='static/default_test/snapshots/matrix_20241108_163652.png'))"
   ]
  },
  {
   "cell_type": "markdown",
   "id": "6928dfb4",
   "metadata": {},
   "source": [
    "### Cambiamento: 2024-11-08 16:36:53\n",
    "- **PID**: leader_pid\n",
    "- **Color**: color\n",
    "- **Image Path**: `static/default_test/snapshots/matrix_20241108_163652.png`"
   ]
  },
  {
   "cell_type": "code",
   "execution_count": null,
   "id": "c8c28c73",
   "metadata": {},
   "outputs": [],
   "source": [
    "display(Image(filename='static/default_test/snapshots/matrix_20241108_163652.png'))"
   ]
  },
  {
   "cell_type": "markdown",
   "id": "2b3256f9",
   "metadata": {},
   "source": [
    "### Cambiamento: 2024-11-08 16:36:54\n",
    "- **PID**: leader_pid\n",
    "- **Color**: color\n",
    "- **Image Path**: `static/default_test/snapshots/matrix_20241108_163653.png`"
   ]
  },
  {
   "cell_type": "code",
   "execution_count": null,
   "id": "2e8cf88b",
   "metadata": {},
   "outputs": [],
   "source": [
    "display(Image(filename='static/default_test/snapshots/matrix_20241108_163653.png'))"
   ]
  },
  {
   "cell_type": "markdown",
   "id": "da618d5e",
   "metadata": {},
   "source": [
    "### Cambiamento: 2024-11-08 16:36:54\n",
    "- **PID**: leader_pid\n",
    "- **Color**: color\n",
    "- **Image Path**: `static/default_test/snapshots/matrix_20241108_163654.png`"
   ]
  },
  {
   "cell_type": "code",
   "execution_count": null,
   "id": "e28fcdd5",
   "metadata": {},
   "outputs": [],
   "source": [
    "display(Image(filename='static/default_test/snapshots/matrix_20241108_163654.png'))"
   ]
  },
  {
   "cell_type": "markdown",
   "id": "ea6d88b4",
   "metadata": {},
   "source": [
    "### Cambiamento: 2024-11-08 16:36:56\n",
    "- **PID**: leader_pid\n",
    "- **Color**: color\n",
    "- **Image Path**: `static/default_test/snapshots/matrix_20241108_163656.png`"
   ]
  },
  {
   "cell_type": "code",
   "execution_count": null,
   "id": "cbd0df7a",
   "metadata": {},
   "outputs": [],
   "source": [
    "display(Image(filename='static/default_test/snapshots/matrix_20241108_163656.png'))"
   ]
  },
  {
   "cell_type": "markdown",
   "id": "2b0ea442",
   "metadata": {},
   "source": [
    "### Cambiamento: 2024-11-08 16:36:57\n",
    "- **PID**: leader_pid\n",
    "- **Color**: color\n",
    "- **Image Path**: `static/default_test/snapshots/matrix_20241108_163656.png`"
   ]
  },
  {
   "cell_type": "code",
   "execution_count": null,
   "id": "2088b2e5",
   "metadata": {},
   "outputs": [],
   "source": [
    "display(Image(filename='static/default_test/snapshots/matrix_20241108_163656.png'))"
   ]
  },
  {
   "cell_type": "markdown",
   "id": "9e52b300",
   "metadata": {},
   "source": [
    "### Cambiamento: 2024-11-08 16:37:02\n",
    "- **PID**: leader_pid\n",
    "- **Color**: color\n",
    "- **Image Path**: `static/default_test/snapshots/matrix_20241108_163701.png`"
   ]
  },
  {
   "cell_type": "code",
   "execution_count": null,
   "id": "dd13c17b",
   "metadata": {},
   "outputs": [],
   "source": [
    "display(Image(filename='static/default_test/snapshots/matrix_20241108_163701.png'))"
   ]
  },
  {
   "cell_type": "markdown",
   "id": "3ec8e939",
   "metadata": {},
   "source": [
    "### Cambiamento: 2024-11-08 16:37:52\n",
    "- **PID**: leader_pid\n",
    "- **Color**: color\n",
    "- **Image Path**: `static/default_test/snapshots/matrix_20241108_163751.png`"
   ]
  },
  {
   "cell_type": "code",
   "execution_count": null,
   "id": "8d9aa68c",
   "metadata": {},
   "outputs": [],
   "source": [
    "display(Image(filename='static/default_test/snapshots/matrix_20241108_163751.png'))"
   ]
  },
  {
   "cell_type": "markdown",
   "id": "5c0f46d7",
   "metadata": {},
   "source": [
    "### Cambiamento: 2024-11-08 16:37:59\n",
    "- **PID**: leader_pid\n",
    "- **Color**: color\n",
    "- **Image Path**: `static/default_test/snapshots/matrix_20241108_163756.png`"
   ]
  },
  {
   "cell_type": "code",
   "execution_count": null,
   "id": "9751f460",
   "metadata": {},
   "outputs": [],
   "source": [
    "display(Image(filename='static/default_test/snapshots/matrix_20241108_163756.png'))"
   ]
  },
  {
   "cell_type": "markdown",
   "id": "ce710331",
   "metadata": {},
   "source": [
    "### Cambiamento: 2024-11-08 16:38:00\n",
    "- **PID**: leader_pid\n",
    "- **Color**: color\n",
    "- **Image Path**: `static/default_test/snapshots/matrix_20241108_163759.png`"
   ]
  },
  {
   "cell_type": "code",
   "execution_count": null,
   "id": "b8457402",
   "metadata": {},
   "outputs": [],
   "source": [
    "display(Image(filename='static/default_test/snapshots/matrix_20241108_163759.png'))"
   ]
  },
  {
   "cell_type": "markdown",
   "id": "eca0496d",
   "metadata": {},
   "source": [
    "### Cambiamento: 2024-11-08 16:38:01\n",
    "- **PID**: leader_pid\n",
    "- **Color**: color\n",
    "- **Image Path**: `static/default_test/snapshots/matrix_20241108_163800.png`"
   ]
  },
  {
   "cell_type": "code",
   "execution_count": null,
   "id": "82a38ac0",
   "metadata": {},
   "outputs": [],
   "source": [
    "display(Image(filename='static/default_test/snapshots/matrix_20241108_163800.png'))"
   ]
  },
  {
   "cell_type": "markdown",
   "id": "f6f0845f",
   "metadata": {},
   "source": [
    "### Cambiamento: 2024-11-08 16:38:01\n",
    "- **PID**: leader_pid\n",
    "- **Color**: color\n",
    "- **Image Path**: `static/default_test/snapshots/matrix_20241108_163801.png`"
   ]
  },
  {
   "cell_type": "code",
   "execution_count": null,
   "id": "409efa9d",
   "metadata": {},
   "outputs": [],
   "source": [
    "display(Image(filename='static/default_test/snapshots/matrix_20241108_163801.png'))"
   ]
  },
  {
   "cell_type": "markdown",
   "id": "93f0331f",
   "metadata": {},
   "source": [
    "### Cambiamento: 2024-11-08 16:38:51\n",
    "- **PID**: leader_pid\n",
    "- **Color**: color\n",
    "- **Image Path**: `static/default_test/snapshots/matrix_20241108_163851.png`"
   ]
  },
  {
   "cell_type": "code",
   "execution_count": null,
   "id": "fa6a9be9",
   "metadata": {},
   "outputs": [],
   "source": [
    "display(Image(filename='static/default_test/snapshots/matrix_20241108_163851.png'))"
   ]
  },
  {
   "cell_type": "markdown",
   "id": "f61f33a2",
   "metadata": {},
   "source": [
    "### Cambiamento: 2024-11-08 16:39:01\n",
    "- **PID**: leader_pid\n",
    "- **Color**: color\n",
    "- **Image Path**: `static/default_test/snapshots/matrix_20241108_163901.png`"
   ]
  },
  {
   "cell_type": "code",
   "execution_count": null,
   "id": "cf148b37",
   "metadata": {},
   "outputs": [],
   "source": [
    "display(Image(filename='static/default_test/snapshots/matrix_20241108_163901.png'))"
   ]
  },
  {
   "cell_type": "markdown",
   "id": "93c73773",
   "metadata": {},
   "source": [
    "### Cambiamento: 2024-11-08 16:39:06\n",
    "- **PID**: leader_pid\n",
    "- **Color**: color\n",
    "- **Image Path**: `static/default_test/snapshots/matrix_20241108_163905.png`"
   ]
  },
  {
   "cell_type": "code",
   "execution_count": null,
   "id": "6e0dc6f7",
   "metadata": {},
   "outputs": [],
   "source": [
    "display(Image(filename='static/default_test/snapshots/matrix_20241108_163905.png'))"
   ]
  },
  {
   "cell_type": "markdown",
   "id": "3d6da92e",
   "metadata": {},
   "source": [
    "### Cambiamento: 2024-11-08 16:39:14\n",
    "- **PID**: leader_pid\n",
    "- **Color**: color\n",
    "- **Image Path**: `static/default_test/snapshots/matrix_20241108_163914.png`"
   ]
  },
  {
   "cell_type": "code",
   "execution_count": null,
   "id": "fb6d1d69",
   "metadata": {},
   "outputs": [],
   "source": [
    "display(Image(filename='static/default_test/snapshots/matrix_20241108_163914.png'))"
   ]
  },
  {
   "cell_type": "markdown",
   "id": "9fa60c73",
   "metadata": {},
   "source": [
    "### Cambiamento: 2024-11-08 16:39:15\n",
    "- **PID**: leader_pid\n",
    "- **Color**: color\n",
    "- **Image Path**: `static/default_test/snapshots/matrix_20241108_163914.png`"
   ]
  },
  {
   "cell_type": "code",
   "execution_count": null,
   "id": "aa2fc621",
   "metadata": {},
   "outputs": [],
   "source": [
    "display(Image(filename='static/default_test/snapshots/matrix_20241108_163914.png'))"
   ]
  },
  {
   "cell_type": "markdown",
   "id": "454c4fa6",
   "metadata": {},
   "source": [
    "### Cambiamento: 2024-11-08 16:39:15\n",
    "- **PID**: leader_pid\n",
    "- **Color**: color\n",
    "- **Image Path**: `static/default_test/snapshots/matrix_20241108_163915.png`"
   ]
  },
  {
   "cell_type": "code",
   "execution_count": null,
   "id": "d0ba8736",
   "metadata": {},
   "outputs": [],
   "source": [
    "display(Image(filename='static/default_test/snapshots/matrix_20241108_163915.png'))"
   ]
  },
  {
   "cell_type": "markdown",
   "id": "1db714a9",
   "metadata": {},
   "source": [
    "### Cambiamento: 2024-11-08 16:39:17\n",
    "- **PID**: leader_pid\n",
    "- **Color**: color\n",
    "- **Image Path**: `static/default_test/snapshots/matrix_20241108_163917.png`"
   ]
  },
  {
   "cell_type": "code",
   "execution_count": null,
   "id": "5a5b73ce",
   "metadata": {},
   "outputs": [],
   "source": [
    "display(Image(filename='static/default_test/snapshots/matrix_20241108_163917.png'))"
   ]
  },
  {
   "cell_type": "markdown",
   "id": "5b5d6fb6",
   "metadata": {},
   "source": [
    "### Cambiamento: 2024-11-08 16:39:18\n",
    "- **PID**: leader_pid\n",
    "- **Color**: color\n",
    "- **Image Path**: `static/default_test/snapshots/matrix_20241108_163917.png`"
   ]
  },
  {
   "cell_type": "code",
   "execution_count": null,
   "id": "23021e6f",
   "metadata": {},
   "outputs": [],
   "source": [
    "display(Image(filename='static/default_test/snapshots/matrix_20241108_163917.png'))"
   ]
  },
  {
   "cell_type": "markdown",
   "id": "2543b278",
   "metadata": {},
   "source": [
    "### Cambiamento: 2024-11-08 16:39:22\n",
    "- **PID**: leader_pid\n",
    "- **Color**: color\n",
    "- **Image Path**: `static/default_test/snapshots/matrix_20241108_163922.png`"
   ]
  },
  {
   "cell_type": "code",
   "execution_count": null,
   "id": "8f258099",
   "metadata": {},
   "outputs": [],
   "source": [
    "display(Image(filename='static/default_test/snapshots/matrix_20241108_163922.png'))"
   ]
  },
  {
   "cell_type": "markdown",
   "id": "cfd8ac00",
   "metadata": {},
   "source": [
    "### Cambiamento: 2024-11-08 16:50:05\n",
    "- **PID**: leader_pid\n",
    "- **Color**: color\n",
    "- **Image Path**: `static/default_test/snapshots/matrix_20241108_165005.png`"
   ]
  },
  {
   "cell_type": "code",
   "execution_count": null,
   "id": "14276088",
   "metadata": {},
   "outputs": [],
   "source": [
    "display(Image(filename='static/default_test/snapshots/matrix_20241108_165005.png'))"
   ]
  },
  {
   "cell_type": "markdown",
   "id": "f071e2e9",
   "metadata": {},
   "source": [
    "### Cambiamento: 2024-11-08 16:50:09\n",
    "- **PID**: leader_pid\n",
    "- **Color**: color\n",
    "- **Image Path**: `static/default_test/snapshots/matrix_20241108_165009.png`"
   ]
  },
  {
   "cell_type": "code",
   "execution_count": null,
   "id": "7f9b1ba1",
   "metadata": {},
   "outputs": [],
   "source": [
    "display(Image(filename='static/default_test/snapshots/matrix_20241108_165009.png'))"
   ]
  },
  {
   "cell_type": "markdown",
   "id": "2a6f88b7",
   "metadata": {},
   "source": [
    "### Cambiamento: 2024-11-08 16:50:11\n",
    "- **PID**: leader_pid\n",
    "- **Color**: color\n",
    "- **Image Path**: `static/default_test/snapshots/matrix_20241108_165011.png`"
   ]
  },
  {
   "cell_type": "code",
   "execution_count": null,
   "id": "5c8433fd",
   "metadata": {},
   "outputs": [],
   "source": [
    "display(Image(filename='static/default_test/snapshots/matrix_20241108_165011.png'))"
   ]
  },
  {
   "cell_type": "markdown",
   "id": "0d7348cb",
   "metadata": {},
   "source": [
    "### Cambiamento: 2024-11-08 16:50:11\n",
    "- **PID**: leader_pid\n",
    "- **Color**: color\n",
    "- **Image Path**: `static/default_test/snapshots/matrix_20241108_165011.png`"
   ]
  },
  {
   "cell_type": "code",
   "execution_count": null,
   "id": "345e4fca",
   "metadata": {},
   "outputs": [],
   "source": [
    "display(Image(filename='static/default_test/snapshots/matrix_20241108_165011.png'))"
   ]
  },
  {
   "cell_type": "markdown",
   "id": "260cd995",
   "metadata": {},
   "source": [
    "### Cambiamento: 2024-11-08 16:50:19\n",
    "- **PID**: leader_pid\n",
    "- **Color**: color\n",
    "- **Image Path**: `static/default_test/snapshots/matrix_20241108_165019.png`"
   ]
  },
  {
   "cell_type": "code",
   "execution_count": null,
   "id": "ff307eae",
   "metadata": {},
   "outputs": [],
   "source": [
    "display(Image(filename='static/default_test/snapshots/matrix_20241108_165019.png'))"
   ]
  },
  {
   "cell_type": "markdown",
   "id": "778d1589",
   "metadata": {},
   "source": [
    "### Cambiamento: 2024-11-08 16:50:24\n",
    "- **PID**: leader_pid\n",
    "- **Color**: color\n",
    "- **Image Path**: `static/default_test/snapshots/matrix_20241108_165024.png`"
   ]
  },
  {
   "cell_type": "code",
   "execution_count": null,
   "id": "0981ff49",
   "metadata": {},
   "outputs": [],
   "source": [
    "display(Image(filename='static/default_test/snapshots/matrix_20241108_165024.png'))"
   ]
  },
  {
   "cell_type": "markdown",
   "id": "74a72a3e",
   "metadata": {},
   "source": [
    "### Cambiamento: 2024-11-08 16:53:06\n",
    "- **PID**: leader_pid\n",
    "- **Color**: color\n",
    "- **Image Path**: `static/default_test/snapshots/matrix_20241108_165306.png`"
   ]
  },
  {
   "cell_type": "code",
   "execution_count": null,
   "id": "dde26475",
   "metadata": {},
   "outputs": [],
   "source": [
    "display(Image(filename='static/default_test/snapshots/matrix_20241108_165306.png'))"
   ]
  },
  {
   "cell_type": "markdown",
   "id": "f16713e2",
   "metadata": {},
   "source": [
    "### Cambiamento: 2024-11-08 16:53:10\n",
    "- **PID**: leader_pid\n",
    "- **Color**: color\n",
    "- **Image Path**: `static/default_test/snapshots/matrix_20241108_165309.png`"
   ]
  },
  {
   "cell_type": "code",
   "execution_count": null,
   "id": "b23a951f",
   "metadata": {},
   "outputs": [],
   "source": [
    "display(Image(filename='static/default_test/snapshots/matrix_20241108_165309.png'))"
   ]
  },
  {
   "cell_type": "markdown",
   "id": "976f0a15",
   "metadata": {},
   "source": [
    "### Cambiamento: 2024-11-08 16:53:10\n",
    "- **PID**: leader_pid\n",
    "- **Color**: color\n",
    "- **Image Path**: `static/default_test/snapshots/matrix_20241108_165310.png`"
   ]
  },
  {
   "cell_type": "code",
   "execution_count": null,
   "id": "4fb08a38",
   "metadata": {},
   "outputs": [],
   "source": [
    "display(Image(filename='static/default_test/snapshots/matrix_20241108_165310.png'))"
   ]
  },
  {
   "cell_type": "markdown",
   "id": "ca0398f6",
   "metadata": {},
   "source": [
    "### Cambiamento: 2024-11-08 16:53:34\n",
    "- **PID**: leader_pid\n",
    "- **Color**: color\n",
    "- **Image Path**: `static/default_test/snapshots/matrix_20241108_165334.png`"
   ]
  },
  {
   "cell_type": "code",
   "execution_count": null,
   "id": "40afbc80",
   "metadata": {},
   "outputs": [],
   "source": [
    "display(Image(filename='static/default_test/snapshots/matrix_20241108_165334.png'))"
   ]
  },
  {
   "cell_type": "markdown",
   "id": "2dda09e4",
   "metadata": {},
   "source": [
    "### Cambiamento: 2024-11-08 16:54:27\n",
    "- **PID**: leader_pid\n",
    "- **Color**: color\n",
    "- **Image Path**: `static/default_test/snapshots/matrix_20241108_165427.png`"
   ]
  },
  {
   "cell_type": "code",
   "execution_count": null,
   "id": "cf896b5c",
   "metadata": {},
   "outputs": [],
   "source": [
    "display(Image(filename='static/default_test/snapshots/matrix_20241108_165427.png'))"
   ]
  },
  {
   "cell_type": "markdown",
   "id": "f2c960d9",
   "metadata": {},
   "source": [
    "### Cambiamento: 2024-11-08 16:54:28\n",
    "- **PID**: leader_pid\n",
    "- **Color**: color\n",
    "- **Image Path**: `static/default_test/snapshots/matrix_20241108_165428.png`"
   ]
  },
  {
   "cell_type": "code",
   "execution_count": null,
   "id": "76f5cab3",
   "metadata": {},
   "outputs": [],
   "source": [
    "display(Image(filename='static/default_test/snapshots/matrix_20241108_165428.png'))"
   ]
  },
  {
   "cell_type": "markdown",
   "id": "86af1857",
   "metadata": {},
   "source": [
    "### Cambiamento: 2024-11-08 16:54:28\n",
    "- **PID**: leader_pid\n",
    "- **Color**: color\n",
    "- **Image Path**: `static/default_test/snapshots/matrix_20241108_165428.png`"
   ]
  },
  {
   "cell_type": "code",
   "execution_count": null,
   "id": "11a50b7f",
   "metadata": {},
   "outputs": [],
   "source": [
    "display(Image(filename='static/default_test/snapshots/matrix_20241108_165428.png'))"
   ]
  },
  {
   "cell_type": "markdown",
   "id": "9e579d74",
   "metadata": {},
   "source": [
    "### Cambiamento: 2024-11-08 16:54:29\n",
    "- **PID**: leader_pid\n",
    "- **Color**: color\n",
    "- **Image Path**: `static/default_test/snapshots/matrix_20241108_165429.png`"
   ]
  },
  {
   "cell_type": "code",
   "execution_count": null,
   "id": "c7854cb0",
   "metadata": {},
   "outputs": [],
   "source": [
    "display(Image(filename='static/default_test/snapshots/matrix_20241108_165429.png'))"
   ]
  },
  {
   "cell_type": "markdown",
   "id": "dfb0a5b7",
   "metadata": {},
   "source": [
    "### Cambiamento: 2024-11-08 16:54:29\n",
    "- **PID**: leader_pid\n",
    "- **Color**: color\n",
    "- **Image Path**: `static/default_test/snapshots/matrix_20241108_165429.png`"
   ]
  },
  {
   "cell_type": "code",
   "execution_count": null,
   "id": "f040025f",
   "metadata": {},
   "outputs": [],
   "source": [
    "display(Image(filename='static/default_test/snapshots/matrix_20241108_165429.png'))"
   ]
  },
  {
   "cell_type": "markdown",
   "id": "37d4bf2a",
   "metadata": {},
   "source": [
    "### Cambiamento: 2024-11-08 16:54:34\n",
    "- **PID**: leader_pid\n",
    "- **Color**: color\n",
    "- **Image Path**: `static/default_test/snapshots/matrix_20241108_165434.png`"
   ]
  },
  {
   "cell_type": "code",
   "execution_count": null,
   "id": "bcb636c8",
   "metadata": {},
   "outputs": [],
   "source": [
    "display(Image(filename='static/default_test/snapshots/matrix_20241108_165434.png'))"
   ]
  },
  {
   "cell_type": "markdown",
   "id": "560ba0cd",
   "metadata": {},
   "source": [
    "### Cambiamento: 2024-11-08 16:57:14\n",
    "- **PID**: leader_pid\n",
    "- **Color**: color\n",
    "- **Image Path**: `static/default_test/snapshots/matrix_20241108_165713.png`"
   ]
  },
  {
   "cell_type": "code",
   "execution_count": null,
   "id": "7a9b23bc",
   "metadata": {},
   "outputs": [],
   "source": [
    "display(Image(filename='static/default_test/snapshots/matrix_20241108_165713.png'))"
   ]
  },
  {
   "cell_type": "markdown",
   "id": "f084bdc0",
   "metadata": {},
   "source": [
    "### Cambiamento: 2024-11-08 16:57:22\n",
    "- **PID**: leader_pid\n",
    "- **Color**: color\n",
    "- **Image Path**: `static/default_test/snapshots/matrix_20241108_165721.png`"
   ]
  },
  {
   "cell_type": "code",
   "execution_count": null,
   "id": "57765425",
   "metadata": {},
   "outputs": [],
   "source": [
    "display(Image(filename='static/default_test/snapshots/matrix_20241108_165721.png'))"
   ]
  },
  {
   "cell_type": "markdown",
   "id": "fb0e9c10",
   "metadata": {},
   "source": [
    "### Cambiamento: 2024-11-08 16:57:22\n",
    "- **PID**: leader_pid\n",
    "- **Color**: color\n",
    "- **Image Path**: `static/default_test/snapshots/matrix_20241108_165722.png`"
   ]
  },
  {
   "cell_type": "code",
   "execution_count": null,
   "id": "57b52650",
   "metadata": {},
   "outputs": [],
   "source": [
    "display(Image(filename='static/default_test/snapshots/matrix_20241108_165722.png'))"
   ]
  },
  {
   "cell_type": "markdown",
   "id": "1966de90",
   "metadata": {},
   "source": [
    "### Cambiamento: 2024-11-08 16:57:24\n",
    "- **PID**: leader_pid\n",
    "- **Color**: color\n",
    "- **Image Path**: `static/default_test/snapshots/matrix_20241108_165723.png`"
   ]
  },
  {
   "cell_type": "code",
   "execution_count": null,
   "id": "a1bdd938",
   "metadata": {},
   "outputs": [],
   "source": [
    "display(Image(filename='static/default_test/snapshots/matrix_20241108_165723.png'))"
   ]
  },
  {
   "cell_type": "markdown",
   "id": "681cbed1",
   "metadata": {},
   "source": [
    "### Cambiamento: 2024-11-08 16:57:24\n",
    "- **PID**: leader_pid\n",
    "- **Color**: color\n",
    "- **Image Path**: `static/default_test/snapshots/matrix_20241108_165724.png`"
   ]
  },
  {
   "cell_type": "code",
   "execution_count": null,
   "id": "582e4a8d",
   "metadata": {},
   "outputs": [],
   "source": [
    "display(Image(filename='static/default_test/snapshots/matrix_20241108_165724.png'))"
   ]
  },
  {
   "cell_type": "markdown",
   "id": "61f350f0",
   "metadata": {},
   "source": [
    "### Cambiamento: 2024-11-08 16:58:12\n",
    "- **PID**: leader_pid\n",
    "- **Color**: color\n",
    "- **Image Path**: `static/default_test/snapshots/matrix_20241108_165812.png`"
   ]
  },
  {
   "cell_type": "code",
   "execution_count": null,
   "id": "8ea79112",
   "metadata": {},
   "outputs": [],
   "source": [
    "display(Image(filename='static/default_test/snapshots/matrix_20241108_165812.png'))"
   ]
  },
  {
   "cell_type": "markdown",
   "id": "fad4d7f9",
   "metadata": {},
   "source": [
    "### Cambiamento: 2024-11-08 16:58:26\n",
    "- **PID**: leader_pid\n",
    "- **Color**: color\n",
    "- **Image Path**: `static/default_test/snapshots/matrix_20241108_165825.png`"
   ]
  },
  {
   "cell_type": "code",
   "execution_count": null,
   "id": "b69cd897",
   "metadata": {},
   "outputs": [],
   "source": [
    "display(Image(filename='static/default_test/snapshots/matrix_20241108_165825.png'))"
   ]
  },
  {
   "cell_type": "markdown",
   "id": "b37af368",
   "metadata": {},
   "source": [
    "### Cambiamento: 2024-11-08 16:58:33\n",
    "- **PID**: leader_pid\n",
    "- **Color**: color\n",
    "- **Image Path**: `static/default_test/snapshots/matrix_20241108_165833.png`"
   ]
  },
  {
   "cell_type": "code",
   "execution_count": null,
   "id": "e1d55b53",
   "metadata": {},
   "outputs": [],
   "source": [
    "display(Image(filename='static/default_test/snapshots/matrix_20241108_165833.png'))"
   ]
  },
  {
   "cell_type": "markdown",
   "id": "f9fe1dba",
   "metadata": {},
   "source": [
    "### Cambiamento: 2024-11-08 16:58:35\n",
    "- **PID**: leader_pid\n",
    "- **Color**: color\n",
    "- **Image Path**: `static/default_test/snapshots/matrix_20241108_165835.png`"
   ]
  },
  {
   "cell_type": "code",
   "execution_count": null,
   "id": "77586e8d",
   "metadata": {},
   "outputs": [],
   "source": [
    "display(Image(filename='static/default_test/snapshots/matrix_20241108_165835.png'))"
   ]
  },
  {
   "cell_type": "markdown",
   "id": "9e6e753d",
   "metadata": {},
   "source": [
    "### Cambiamento: 2024-11-08 16:58:36\n",
    "- **PID**: leader_pid\n",
    "- **Color**: color\n",
    "- **Image Path**: `static/default_test/snapshots/matrix_20241108_165835.png`"
   ]
  },
  {
   "cell_type": "code",
   "execution_count": null,
   "id": "7910b83a",
   "metadata": {},
   "outputs": [],
   "source": [
    "display(Image(filename='static/default_test/snapshots/matrix_20241108_165835.png'))"
   ]
  },
  {
   "cell_type": "markdown",
   "id": "3645981d",
   "metadata": {},
   "source": [
    "### Cambiamento: 2024-11-08 16:58:38\n",
    "- **PID**: leader_pid\n",
    "- **Color**: color\n",
    "- **Image Path**: `static/default_test/snapshots/matrix_20241108_165837.png`"
   ]
  },
  {
   "cell_type": "code",
   "execution_count": null,
   "id": "51530169",
   "metadata": {},
   "outputs": [],
   "source": [
    "display(Image(filename='static/default_test/snapshots/matrix_20241108_165837.png'))"
   ]
  },
  {
   "cell_type": "markdown",
   "id": "5710bfcd",
   "metadata": {},
   "source": [
    "### Cambiamento: 2024-11-08 16:58:38\n",
    "- **PID**: leader_pid\n",
    "- **Color**: color\n",
    "- **Image Path**: `static/default_test/snapshots/matrix_20241108_165838.png`"
   ]
  },
  {
   "cell_type": "code",
   "execution_count": null,
   "id": "7a935fa8",
   "metadata": {},
   "outputs": [],
   "source": [
    "display(Image(filename='static/default_test/snapshots/matrix_20241108_165838.png'))"
   ]
  },
  {
   "cell_type": "markdown",
   "id": "b02ce95e",
   "metadata": {},
   "source": [
    "### Cambiamento: 2024-11-08 16:58:42\n",
    "- **PID**: leader_pid\n",
    "- **Color**: color\n",
    "- **Image Path**: `static/default_test/snapshots/matrix_20241108_165841.png`"
   ]
  },
  {
   "cell_type": "code",
   "execution_count": null,
   "id": "e5c077ef",
   "metadata": {},
   "outputs": [],
   "source": [
    "display(Image(filename='static/default_test/snapshots/matrix_20241108_165841.png'))"
   ]
  },
  {
   "cell_type": "markdown",
   "id": "3ba21490",
   "metadata": {},
   "source": [
    "### Cambiamento: 2024-11-08 16:58:56\n",
    "- **PID**: leader_pid\n",
    "- **Color**: color\n",
    "- **Image Path**: `static/default_test/snapshots/matrix_20241108_165855.png`"
   ]
  },
  {
   "cell_type": "code",
   "execution_count": null,
   "id": "b2b2b0f7",
   "metadata": {},
   "outputs": [],
   "source": [
    "display(Image(filename='static/default_test/snapshots/matrix_20241108_165855.png'))"
   ]
  },
  {
   "cell_type": "markdown",
   "id": "995ba5ae",
   "metadata": {},
   "source": [
    "### Cambiamento: 2024-11-08 17:05:02\n",
    "- **PID**: leader_pid\n",
    "- **Color**: color\n",
    "- **Image Path**: `static/default_test/snapshots/matrix_20241108_170502.png`"
   ]
  },
  {
   "cell_type": "code",
   "execution_count": null,
   "id": "26879dce",
   "metadata": {},
   "outputs": [],
   "source": [
    "display(Image(filename='static/default_test/snapshots/matrix_20241108_170502.png'))"
   ]
  },
  {
   "cell_type": "markdown",
   "id": "4c93b284",
   "metadata": {},
   "source": [
    "### Cambiamento: 2024-11-08 17:05:09\n",
    "- **PID**: leader_pid\n",
    "- **Color**: color\n",
    "- **Image Path**: `static/default_test/snapshots/matrix_20241108_170508.png`"
   ]
  },
  {
   "cell_type": "code",
   "execution_count": null,
   "id": "db5f9405",
   "metadata": {},
   "outputs": [],
   "source": [
    "display(Image(filename='static/default_test/snapshots/matrix_20241108_170508.png'))"
   ]
  },
  {
   "cell_type": "markdown",
   "id": "8122a6c4",
   "metadata": {},
   "source": [
    "### Cambiamento: 2024-11-08 17:05:11\n",
    "- **PID**: leader_pid\n",
    "- **Color**: color\n",
    "- **Image Path**: `static/default_test/snapshots/matrix_20241108_170510.png`"
   ]
  },
  {
   "cell_type": "code",
   "execution_count": null,
   "id": "05c9139a",
   "metadata": {},
   "outputs": [],
   "source": [
    "display(Image(filename='static/default_test/snapshots/matrix_20241108_170510.png'))"
   ]
  },
  {
   "cell_type": "markdown",
   "id": "23988134",
   "metadata": {},
   "source": [
    "### Cambiamento: 2024-11-08 17:05:11\n",
    "- **PID**: leader_pid\n",
    "- **Color**: color\n",
    "- **Image Path**: `static/default_test/snapshots/matrix_20241108_170511.png`"
   ]
  },
  {
   "cell_type": "code",
   "execution_count": null,
   "id": "e0618e68",
   "metadata": {},
   "outputs": [],
   "source": [
    "display(Image(filename='static/default_test/snapshots/matrix_20241108_170511.png'))"
   ]
  },
  {
   "cell_type": "markdown",
   "id": "38d419d6",
   "metadata": {},
   "source": [
    "### Cambiamento: 2024-11-08 17:05:29\n",
    "- **PID**: leader_pid\n",
    "- **Color**: color\n",
    "- **Image Path**: `static/default_test/snapshots/matrix_20241108_170529.png`"
   ]
  },
  {
   "cell_type": "code",
   "execution_count": null,
   "id": "f3f8c78d",
   "metadata": {},
   "outputs": [],
   "source": [
    "display(Image(filename='static/default_test/snapshots/matrix_20241108_170529.png'))"
   ]
  },
  {
   "cell_type": "markdown",
   "id": "93830565",
   "metadata": {},
   "source": [
    "### Cambiamento: 2024-11-08 17:05:36\n",
    "- **PID**: leader_pid\n",
    "- **Color**: color\n",
    "- **Image Path**: `static/default_test/snapshots/matrix_20241108_170536.png`"
   ]
  },
  {
   "cell_type": "code",
   "execution_count": null,
   "id": "194f7cda",
   "metadata": {},
   "outputs": [],
   "source": [
    "display(Image(filename='static/default_test/snapshots/matrix_20241108_170536.png'))"
   ]
  },
  {
   "cell_type": "markdown",
   "id": "1bd350e6",
   "metadata": {},
   "source": [
    "### Cambiamento: 2024-11-08 17:05:39\n",
    "- **PID**: leader_pid\n",
    "- **Color**: color\n",
    "- **Image Path**: `static/default_test/snapshots/matrix_20241108_170539.png`"
   ]
  },
  {
   "cell_type": "code",
   "execution_count": null,
   "id": "ed244bae",
   "metadata": {},
   "outputs": [],
   "source": [
    "display(Image(filename='static/default_test/snapshots/matrix_20241108_170539.png'))"
   ]
  },
  {
   "cell_type": "markdown",
   "id": "67749bd2",
   "metadata": {},
   "source": [
    "### Cambiamento: 2024-11-08 17:05:42\n",
    "- **PID**: leader_pid\n",
    "- **Color**: color\n",
    "- **Image Path**: `static/default_test/snapshots/matrix_20241108_170542.png`"
   ]
  },
  {
   "cell_type": "code",
   "execution_count": null,
   "id": "90367ec5",
   "metadata": {},
   "outputs": [],
   "source": [
    "display(Image(filename='static/default_test/snapshots/matrix_20241108_170542.png'))"
   ]
  },
  {
   "cell_type": "markdown",
   "id": "67356c2e",
   "metadata": {},
   "source": [
    "### Cambiamento: 2024-11-08 17:05:45\n",
    "- **PID**: leader_pid\n",
    "- **Color**: color\n",
    "- **Image Path**: `static/default_test/snapshots/matrix_20241108_170544.png`"
   ]
  },
  {
   "cell_type": "code",
   "execution_count": null,
   "id": "5a59ff79",
   "metadata": {},
   "outputs": [],
   "source": [
    "display(Image(filename='static/default_test/snapshots/matrix_20241108_170544.png'))"
   ]
  },
  {
   "cell_type": "markdown",
   "id": "7a65b9ef",
   "metadata": {},
   "source": [
    "### Cambiamento: 2024-11-08 17:05:47\n",
    "- **PID**: leader_pid\n",
    "- **Color**: color\n",
    "- **Image Path**: `static/default_test/snapshots/matrix_20241108_170547.png`"
   ]
  },
  {
   "cell_type": "code",
   "execution_count": null,
   "id": "a9b8058a",
   "metadata": {},
   "outputs": [],
   "source": [
    "display(Image(filename='static/default_test/snapshots/matrix_20241108_170547.png'))"
   ]
  },
  {
   "cell_type": "markdown",
   "id": "30de2d91",
   "metadata": {},
   "source": [
    "### Cambiamento: 2024-11-08 17:05:53\n",
    "- **PID**: leader_pid\n",
    "- **Color**: color\n",
    "- **Image Path**: `static/default_test/snapshots/matrix_20241108_170552.png`"
   ]
  },
  {
   "cell_type": "code",
   "execution_count": null,
   "id": "a441eb6e",
   "metadata": {},
   "outputs": [],
   "source": [
    "display(Image(filename='static/default_test/snapshots/matrix_20241108_170552.png'))"
   ]
  },
  {
   "cell_type": "markdown",
   "id": "775e4141",
   "metadata": {},
   "source": [
    "### Cambiamento: 2024-11-08 17:05:56\n",
    "- **PID**: leader_pid\n",
    "- **Color**: color\n",
    "- **Image Path**: `static/default_test/snapshots/matrix_20241108_170556.png`"
   ]
  },
  {
   "cell_type": "code",
   "execution_count": null,
   "id": "1ed52032",
   "metadata": {},
   "outputs": [],
   "source": [
    "display(Image(filename='static/default_test/snapshots/matrix_20241108_170556.png'))"
   ]
  },
  {
   "cell_type": "markdown",
   "id": "5de6fc91",
   "metadata": {},
   "source": [
    "### Cambiamento: 2024-11-08 17:06:00\n",
    "- **PID**: leader_pid\n",
    "- **Color**: color\n",
    "- **Image Path**: `static/default_test/snapshots/matrix_20241108_170559.png`"
   ]
  },
  {
   "cell_type": "code",
   "execution_count": null,
   "id": "bb6ea436",
   "metadata": {},
   "outputs": [],
   "source": [
    "display(Image(filename='static/default_test/snapshots/matrix_20241108_170559.png'))"
   ]
  },
  {
   "cell_type": "markdown",
   "id": "f9348201",
   "metadata": {},
   "source": [
    "### Cambiamento: 2024-11-08 17:06:03\n",
    "- **PID**: leader_pid\n",
    "- **Color**: color\n",
    "- **Image Path**: `static/default_test/snapshots/matrix_20241108_170602.png`"
   ]
  },
  {
   "cell_type": "code",
   "execution_count": null,
   "id": "63c3ea9b",
   "metadata": {},
   "outputs": [],
   "source": [
    "display(Image(filename='static/default_test/snapshots/matrix_20241108_170602.png'))"
   ]
  },
  {
   "cell_type": "markdown",
   "id": "c783fa7d",
   "metadata": {},
   "source": [
    "### Cambiamento: 2024-11-08 17:06:09\n",
    "- **PID**: leader_pid\n",
    "- **Color**: color\n",
    "- **Image Path**: `static/default_test/snapshots/matrix_20241108_170609.png`"
   ]
  },
  {
   "cell_type": "code",
   "execution_count": null,
   "id": "102529e8",
   "metadata": {},
   "outputs": [],
   "source": [
    "display(Image(filename='static/default_test/snapshots/matrix_20241108_170609.png'))"
   ]
  },
  {
   "cell_type": "markdown",
   "id": "cabbb63d",
   "metadata": {},
   "source": [
    "### Cambiamento: 2024-11-08 17:06:17\n",
    "- **PID**: leader_pid\n",
    "- **Color**: color\n",
    "- **Image Path**: `static/default_test/snapshots/matrix_20241108_170617.png`"
   ]
  },
  {
   "cell_type": "code",
   "execution_count": null,
   "id": "0adbcb67",
   "metadata": {},
   "outputs": [],
   "source": [
    "display(Image(filename='static/default_test/snapshots/matrix_20241108_170617.png'))"
   ]
  },
  {
   "cell_type": "markdown",
   "id": "b34dc1a2",
   "metadata": {},
   "source": [
    "### Cambiamento: 2024-11-08 17:06:22\n",
    "- **PID**: leader_pid\n",
    "- **Color**: color\n",
    "- **Image Path**: `static/default_test/snapshots/matrix_20241108_170622.png`"
   ]
  },
  {
   "cell_type": "code",
   "execution_count": null,
   "id": "01bd9821",
   "metadata": {},
   "outputs": [],
   "source": [
    "display(Image(filename='static/default_test/snapshots/matrix_20241108_170622.png'))"
   ]
  },
  {
   "cell_type": "markdown",
   "id": "4d36a757",
   "metadata": {},
   "source": [
    "### Cambiamento: 2024-11-08 17:06:24\n",
    "- **PID**: leader_pid\n",
    "- **Color**: color\n",
    "- **Image Path**: `static/default_test/snapshots/matrix_20241108_170624.png`"
   ]
  },
  {
   "cell_type": "code",
   "execution_count": null,
   "id": "5eb8d554",
   "metadata": {},
   "outputs": [],
   "source": [
    "display(Image(filename='static/default_test/snapshots/matrix_20241108_170624.png'))"
   ]
  },
  {
   "cell_type": "markdown",
   "id": "a3befd82",
   "metadata": {},
   "source": [
    "### Cambiamento: 2024-11-08 17:06:29\n",
    "- **PID**: leader_pid\n",
    "- **Color**: color\n",
    "- **Image Path**: `static/default_test/snapshots/matrix_20241108_170628.png`"
   ]
  },
  {
   "cell_type": "code",
   "execution_count": null,
   "id": "ca8ab3e7",
   "metadata": {},
   "outputs": [],
   "source": [
    "display(Image(filename='static/default_test/snapshots/matrix_20241108_170628.png'))"
   ]
  },
  {
   "cell_type": "markdown",
   "id": "9bce91bb",
   "metadata": {},
   "source": [
    "### Cambiamento: 2024-11-08 17:06:36\n",
    "- **PID**: leader_pid\n",
    "- **Color**: color\n",
    "- **Image Path**: `static/default_test/snapshots/matrix_20241108_170636.png`"
   ]
  },
  {
   "cell_type": "code",
   "execution_count": null,
   "id": "7c35c89b",
   "metadata": {},
   "outputs": [],
   "source": [
    "display(Image(filename='static/default_test/snapshots/matrix_20241108_170636.png'))"
   ]
  },
  {
   "cell_type": "markdown",
   "id": "a3057fd5",
   "metadata": {},
   "source": [
    "### Cambiamento: 2024-11-08 17:06:37\n",
    "- **PID**: leader_pid\n",
    "- **Color**: color\n",
    "- **Image Path**: `static/default_test/snapshots/matrix_20241108_170636.png`"
   ]
  },
  {
   "cell_type": "code",
   "execution_count": null,
   "id": "49ef0786",
   "metadata": {},
   "outputs": [],
   "source": [
    "display(Image(filename='static/default_test/snapshots/matrix_20241108_170636.png'))"
   ]
  },
  {
   "cell_type": "markdown",
   "id": "9d6bb1ab",
   "metadata": {},
   "source": [
    "### Cambiamento: 2024-11-08 17:06:38\n",
    "- **PID**: leader_pid\n",
    "- **Color**: color\n",
    "- **Image Path**: `static/default_test/snapshots/matrix_20241108_170638.png`"
   ]
  },
  {
   "cell_type": "code",
   "execution_count": null,
   "id": "f45724be",
   "metadata": {},
   "outputs": [],
   "source": [
    "display(Image(filename='static/default_test/snapshots/matrix_20241108_170638.png'))"
   ]
  },
  {
   "cell_type": "markdown",
   "id": "6861b7f2",
   "metadata": {},
   "source": [
    "### Cambiamento: 2024-11-08 17:06:46\n",
    "- **PID**: leader_pid\n",
    "- **Color**: color\n",
    "- **Image Path**: `static/default_test/snapshots/matrix_20241108_170646.png`"
   ]
  },
  {
   "cell_type": "code",
   "execution_count": null,
   "id": "d00e2d0a",
   "metadata": {},
   "outputs": [],
   "source": [
    "display(Image(filename='static/default_test/snapshots/matrix_20241108_170646.png'))"
   ]
  },
  {
   "cell_type": "markdown",
   "id": "1fbc92f0",
   "metadata": {},
   "source": [
    "### Cambiamento: 2024-11-08 17:06:47\n",
    "- **PID**: leader_pid\n",
    "- **Color**: color\n",
    "- **Image Path**: `static/default_test/snapshots/matrix_20241108_170646.png`"
   ]
  },
  {
   "cell_type": "code",
   "execution_count": null,
   "id": "a483e3ee",
   "metadata": {},
   "outputs": [],
   "source": [
    "display(Image(filename='static/default_test/snapshots/matrix_20241108_170646.png'))"
   ]
  },
  {
   "cell_type": "markdown",
   "id": "af09bd3b",
   "metadata": {},
   "source": [
    "### Cambiamento: 2024-11-08 17:06:47\n",
    "- **PID**: leader_pid\n",
    "- **Color**: color\n",
    "- **Image Path**: `static/default_test/snapshots/matrix_20241108_170647.png`"
   ]
  },
  {
   "cell_type": "code",
   "execution_count": null,
   "id": "43d11d6a",
   "metadata": {},
   "outputs": [],
   "source": [
    "display(Image(filename='static/default_test/snapshots/matrix_20241108_170647.png'))"
   ]
  },
  {
   "cell_type": "markdown",
   "id": "2b2a9230",
   "metadata": {},
   "source": [
    "### Cambiamento: 2024-11-08 17:06:48\n",
    "- **PID**: leader_pid\n",
    "- **Color**: color\n",
    "- **Image Path**: `static/default_test/snapshots/matrix_20241108_170648.png`"
   ]
  },
  {
   "cell_type": "code",
   "execution_count": null,
   "id": "29cb7c76",
   "metadata": {},
   "outputs": [],
   "source": [
    "display(Image(filename='static/default_test/snapshots/matrix_20241108_170648.png'))"
   ]
  },
  {
   "cell_type": "markdown",
   "id": "e71900a2",
   "metadata": {},
   "source": [
    "### Cambiamento: 2024-11-08 17:11:48\n",
    "- **PID**: leader_pid\n",
    "- **Color**: color\n",
    "- **Image Path**: `static/default_test/snapshots/matrix_20241108_171148.png`"
   ]
  },
  {
   "cell_type": "code",
   "execution_count": null,
   "id": "bc42719d",
   "metadata": {},
   "outputs": [],
   "source": [
    "display(Image(filename='static/default_test/snapshots/matrix_20241108_171148.png'))"
   ]
  },
  {
   "cell_type": "markdown",
   "id": "c545b9fd",
   "metadata": {},
   "source": [
    "### Cambiamento: 2024-11-08 17:11:54\n",
    "- **PID**: leader_pid\n",
    "- **Color**: color\n",
    "- **Image Path**: `static/default_test/snapshots/matrix_20241108_171154.png`"
   ]
  },
  {
   "cell_type": "code",
   "execution_count": null,
   "id": "557f179c",
   "metadata": {},
   "outputs": [],
   "source": [
    "display(Image(filename='static/default_test/snapshots/matrix_20241108_171154.png'))"
   ]
  },
  {
   "cell_type": "markdown",
   "id": "c5d57bd9",
   "metadata": {},
   "source": [
    "### Cambiamento: 2024-11-08 17:11:54\n",
    "- **PID**: leader_pid\n",
    "- **Color**: color\n",
    "- **Image Path**: `static/default_test/snapshots/matrix_20241108_171154.png`"
   ]
  },
  {
   "cell_type": "code",
   "execution_count": null,
   "id": "ea66e739",
   "metadata": {},
   "outputs": [],
   "source": [
    "display(Image(filename='static/default_test/snapshots/matrix_20241108_171154.png'))"
   ]
  },
  {
   "cell_type": "markdown",
   "id": "80e1c746",
   "metadata": {},
   "source": [
    "### Cambiamento: 2024-11-08 17:12:08\n",
    "- **PID**: leader_pid\n",
    "- **Color**: color\n",
    "- **Image Path**: `static/default_test/snapshots/matrix_20241108_171208.png`"
   ]
  },
  {
   "cell_type": "code",
   "execution_count": null,
   "id": "ad46a3e1",
   "metadata": {},
   "outputs": [],
   "source": [
    "display(Image(filename='static/default_test/snapshots/matrix_20241108_171208.png'))"
   ]
  },
  {
   "cell_type": "markdown",
   "id": "78f24af2",
   "metadata": {},
   "source": [
    "### Cambiamento: 2024-11-08 17:12:20\n",
    "- **PID**: leader_pid\n",
    "- **Color**: color\n",
    "- **Image Path**: `static/default_test/snapshots/matrix_20241108_171219.png`"
   ]
  },
  {
   "cell_type": "code",
   "execution_count": null,
   "id": "66538ece",
   "metadata": {},
   "outputs": [],
   "source": [
    "display(Image(filename='static/default_test/snapshots/matrix_20241108_171219.png'))"
   ]
  },
  {
   "cell_type": "markdown",
   "id": "e8483347",
   "metadata": {},
   "source": [
    "### Cambiamento: 2024-11-08 17:12:24\n",
    "- **PID**: leader_pid\n",
    "- **Color**: color\n",
    "- **Image Path**: `static/default_test/snapshots/matrix_20241108_171224.png`"
   ]
  },
  {
   "cell_type": "code",
   "execution_count": null,
   "id": "f8c02632",
   "metadata": {},
   "outputs": [],
   "source": [
    "display(Image(filename='static/default_test/snapshots/matrix_20241108_171224.png'))"
   ]
  },
  {
   "cell_type": "markdown",
   "id": "4d88a316",
   "metadata": {},
   "source": [
    "### Cambiamento: 2024-11-08 17:12:31\n",
    "- **PID**: leader_pid\n",
    "- **Color**: color\n",
    "- **Image Path**: `static/default_test/snapshots/matrix_20241108_171231.png`"
   ]
  },
  {
   "cell_type": "code",
   "execution_count": null,
   "id": "f6d81c65",
   "metadata": {},
   "outputs": [],
   "source": [
    "display(Image(filename='static/default_test/snapshots/matrix_20241108_171231.png'))"
   ]
  },
  {
   "cell_type": "markdown",
   "id": "6494ef2d",
   "metadata": {},
   "source": [
    "### Cambiamento: 2024-11-08 17:12:35\n",
    "- **PID**: leader_pid\n",
    "- **Color**: color\n",
    "- **Image Path**: `static/default_test/snapshots/matrix_20241108_171234.png`"
   ]
  },
  {
   "cell_type": "code",
   "execution_count": null,
   "id": "96cee92b",
   "metadata": {},
   "outputs": [],
   "source": [
    "display(Image(filename='static/default_test/snapshots/matrix_20241108_171234.png'))"
   ]
  },
  {
   "cell_type": "markdown",
   "id": "175216bb",
   "metadata": {},
   "source": [
    "### Cambiamento: 2024-11-08 17:12:46\n",
    "- **PID**: leader_pid\n",
    "- **Color**: color\n",
    "- **Image Path**: `static/default_test/snapshots/matrix_20241108_171246.png`"
   ]
  },
  {
   "cell_type": "code",
   "execution_count": null,
   "id": "898862a3",
   "metadata": {},
   "outputs": [],
   "source": [
    "display(Image(filename='static/default_test/snapshots/matrix_20241108_171246.png'))"
   ]
  },
  {
   "cell_type": "markdown",
   "id": "dc79813b",
   "metadata": {},
   "source": [
    "### Cambiamento: 2024-11-08 17:12:53\n",
    "- **PID**: leader_pid\n",
    "- **Color**: color\n",
    "- **Image Path**: `static/default_test/snapshots/matrix_20241108_171253.png`"
   ]
  },
  {
   "cell_type": "code",
   "execution_count": null,
   "id": "9601efa6",
   "metadata": {},
   "outputs": [],
   "source": [
    "display(Image(filename='static/default_test/snapshots/matrix_20241108_171253.png'))"
   ]
  },
  {
   "cell_type": "markdown",
   "id": "366d9ffb",
   "metadata": {},
   "source": [
    "### Cambiamento: 2024-11-08 17:12:59\n",
    "- **PID**: leader_pid\n",
    "- **Color**: color\n",
    "- **Image Path**: `static/default_test/snapshots/matrix_20241108_171259.png`"
   ]
  },
  {
   "cell_type": "code",
   "execution_count": null,
   "id": "1ae680aa",
   "metadata": {},
   "outputs": [],
   "source": [
    "display(Image(filename='static/default_test/snapshots/matrix_20241108_171259.png'))"
   ]
  },
  {
   "cell_type": "markdown",
   "id": "6d38a87d",
   "metadata": {},
   "source": [
    "### Cambiamento: 2024-11-08 17:13:04\n",
    "- **PID**: leader_pid\n",
    "- **Color**: color\n",
    "- **Image Path**: `static/default_test/snapshots/matrix_20241108_171304.png`"
   ]
  },
  {
   "cell_type": "code",
   "execution_count": null,
   "id": "eeaf6813",
   "metadata": {},
   "outputs": [],
   "source": [
    "display(Image(filename='static/default_test/snapshots/matrix_20241108_171304.png'))"
   ]
  },
  {
   "cell_type": "markdown",
   "id": "9d2186d4",
   "metadata": {},
   "source": [
    "### Cambiamento: 2024-11-08 17:13:10\n",
    "- **PID**: leader_pid\n",
    "- **Color**: color\n",
    "- **Image Path**: `static/default_test/snapshots/matrix_20241108_171310.png`"
   ]
  },
  {
   "cell_type": "code",
   "execution_count": null,
   "id": "b305f000",
   "metadata": {},
   "outputs": [],
   "source": [
    "display(Image(filename='static/default_test/snapshots/matrix_20241108_171310.png'))"
   ]
  },
  {
   "cell_type": "markdown",
   "id": "73c497b8",
   "metadata": {},
   "source": [
    "### Cambiamento: 2024-11-08 17:13:10\n",
    "- **PID**: leader_pid\n",
    "- **Color**: color\n",
    "- **Image Path**: `static/default_test/snapshots/matrix_20241108_171310.png`"
   ]
  },
  {
   "cell_type": "code",
   "execution_count": null,
   "id": "d7e6f549",
   "metadata": {},
   "outputs": [],
   "source": [
    "display(Image(filename='static/default_test/snapshots/matrix_20241108_171310.png'))"
   ]
  },
  {
   "cell_type": "markdown",
   "id": "04a317e8",
   "metadata": {},
   "source": [
    "### Cambiamento: 2024-11-08 17:13:13\n",
    "- **PID**: leader_pid\n",
    "- **Color**: color\n",
    "- **Image Path**: `static/default_test/snapshots/matrix_20241108_171313.png`"
   ]
  },
  {
   "cell_type": "code",
   "execution_count": null,
   "id": "e38fabf1",
   "metadata": {},
   "outputs": [],
   "source": [
    "display(Image(filename='static/default_test/snapshots/matrix_20241108_171313.png'))"
   ]
  },
  {
   "cell_type": "markdown",
   "id": "22b1d834",
   "metadata": {},
   "source": [
    "### Cambiamento: 2024-11-08 17:13:14\n",
    "- **PID**: leader_pid\n",
    "- **Color**: color\n",
    "- **Image Path**: `static/default_test/snapshots/matrix_20241108_171314.png`"
   ]
  },
  {
   "cell_type": "code",
   "execution_count": null,
   "id": "837fa9da",
   "metadata": {},
   "outputs": [],
   "source": [
    "display(Image(filename='static/default_test/snapshots/matrix_20241108_171314.png'))"
   ]
  },
  {
   "cell_type": "markdown",
   "id": "d0dbc1b5",
   "metadata": {},
   "source": [
    "### Cambiamento: 2024-11-08 17:13:15\n",
    "- **PID**: leader_pid\n",
    "- **Color**: color\n",
    "- **Image Path**: `static/default_test/snapshots/matrix_20241108_171314.png`"
   ]
  },
  {
   "cell_type": "code",
   "execution_count": null,
   "id": "3e12d6e2",
   "metadata": {},
   "outputs": [],
   "source": [
    "display(Image(filename='static/default_test/snapshots/matrix_20241108_171314.png'))"
   ]
  },
  {
   "cell_type": "markdown",
   "id": "64357a58",
   "metadata": {},
   "source": [
    "### Cambiamento: 2024-11-08 17:13:15\n",
    "- **PID**: leader_pid\n",
    "- **Color**: color\n",
    "- **Image Path**: `static/default_test/snapshots/matrix_20241108_171315.png`"
   ]
  },
  {
   "cell_type": "code",
   "execution_count": null,
   "id": "a14cad92",
   "metadata": {},
   "outputs": [],
   "source": [
    "display(Image(filename='static/default_test/snapshots/matrix_20241108_171315.png'))"
   ]
  },
  {
   "cell_type": "markdown",
   "id": "1e130cf7",
   "metadata": {},
   "source": [
    "### Cambiamento: 2024-11-08 17:13:16\n",
    "- **PID**: leader_pid\n",
    "- **Color**: color\n",
    "- **Image Path**: `static/default_test/snapshots/matrix_20241108_171315.png`"
   ]
  },
  {
   "cell_type": "code",
   "execution_count": null,
   "id": "c0225f10",
   "metadata": {},
   "outputs": [],
   "source": [
    "display(Image(filename='static/default_test/snapshots/matrix_20241108_171315.png'))"
   ]
  },
  {
   "cell_type": "markdown",
   "id": "0097cc40",
   "metadata": {},
   "source": [
    "### Cambiamento: 2024-11-08 17:13:17\n",
    "- **PID**: leader_pid\n",
    "- **Color**: color\n",
    "- **Image Path**: `static/default_test/snapshots/matrix_20241108_171317.png`"
   ]
  },
  {
   "cell_type": "code",
   "execution_count": null,
   "id": "1de9c088",
   "metadata": {},
   "outputs": [],
   "source": [
    "display(Image(filename='static/default_test/snapshots/matrix_20241108_171317.png'))"
   ]
  },
  {
   "cell_type": "markdown",
   "id": "c52ecf25",
   "metadata": {},
   "source": [
    "### Cambiamento: 2024-11-08 17:13:18\n",
    "- **PID**: leader_pid\n",
    "- **Color**: color\n",
    "- **Image Path**: `static/default_test/snapshots/matrix_20241108_171317.png`"
   ]
  },
  {
   "cell_type": "code",
   "execution_count": null,
   "id": "db4c05a9",
   "metadata": {},
   "outputs": [],
   "source": [
    "display(Image(filename='static/default_test/snapshots/matrix_20241108_171317.png'))"
   ]
  },
  {
   "cell_type": "markdown",
   "id": "857bd94a",
   "metadata": {},
   "source": [
    "### Cambiamento: 2024-11-08 17:13:19\n",
    "- **PID**: leader_pid\n",
    "- **Color**: color\n",
    "- **Image Path**: `static/default_test/snapshots/matrix_20241108_171319.png`"
   ]
  },
  {
   "cell_type": "code",
   "execution_count": null,
   "id": "44e17fbb",
   "metadata": {},
   "outputs": [],
   "source": [
    "display(Image(filename='static/default_test/snapshots/matrix_20241108_171319.png'))"
   ]
  },
  {
   "cell_type": "markdown",
   "id": "3d2ae68c",
   "metadata": {},
   "source": [
    "### Cambiamento: 2024-11-08 17:13:21\n",
    "- **PID**: leader_pid\n",
    "- **Color**: color\n",
    "- **Image Path**: `static/default_test/snapshots/matrix_20241108_171321.png`"
   ]
  },
  {
   "cell_type": "code",
   "execution_count": null,
   "id": "2b2edbcf",
   "metadata": {},
   "outputs": [],
   "source": [
    "display(Image(filename='static/default_test/snapshots/matrix_20241108_171321.png'))"
   ]
  },
  {
   "cell_type": "markdown",
   "id": "7f834d3a",
   "metadata": {},
   "source": [
    "### Cambiamento: 2024-11-08 17:13:22\n",
    "- **PID**: leader_pid\n",
    "- **Color**: color\n",
    "- **Image Path**: `static/default_test/snapshots/matrix_20241108_171322.png`"
   ]
  },
  {
   "cell_type": "code",
   "execution_count": null,
   "id": "a7675f01",
   "metadata": {},
   "outputs": [],
   "source": [
    "display(Image(filename='static/default_test/snapshots/matrix_20241108_171322.png'))"
   ]
  },
  {
   "cell_type": "markdown",
   "id": "eafe7321",
   "metadata": {},
   "source": [
    "### Cambiamento: 2024-11-08 17:13:28\n",
    "- **PID**: leader_pid\n",
    "- **Color**: color\n",
    "- **Image Path**: `static/default_test/snapshots/matrix_20241108_171328.png`"
   ]
  },
  {
   "cell_type": "code",
   "execution_count": null,
   "id": "3f34fe2e",
   "metadata": {},
   "outputs": [],
   "source": [
    "display(Image(filename='static/default_test/snapshots/matrix_20241108_171328.png'))"
   ]
  },
  {
   "cell_type": "markdown",
   "id": "22e80634",
   "metadata": {},
   "source": [
    "### Cambiamento: 2024-11-08 17:13:29\n",
    "- **PID**: leader_pid\n",
    "- **Color**: color\n",
    "- **Image Path**: `static/default_test/snapshots/matrix_20241108_171328.png`"
   ]
  },
  {
   "cell_type": "code",
   "execution_count": null,
   "id": "f2497e66",
   "metadata": {},
   "outputs": [],
   "source": [
    "display(Image(filename='static/default_test/snapshots/matrix_20241108_171328.png'))"
   ]
  },
  {
   "cell_type": "markdown",
   "id": "49a92436",
   "metadata": {},
   "source": [
    "### Cambiamento: 2024-11-08 17:13:30\n",
    "- **PID**: leader_pid\n",
    "- **Color**: color\n",
    "- **Image Path**: `static/default_test/snapshots/matrix_20241108_171330.png`"
   ]
  },
  {
   "cell_type": "code",
   "execution_count": null,
   "id": "9338a809",
   "metadata": {},
   "outputs": [],
   "source": [
    "display(Image(filename='static/default_test/snapshots/matrix_20241108_171330.png'))"
   ]
  },
  {
   "cell_type": "markdown",
   "id": "d5453fdb",
   "metadata": {},
   "source": [
    "### Cambiamento: 2024-11-08 17:13:31\n",
    "- **PID**: leader_pid\n",
    "- **Color**: color\n",
    "- **Image Path**: `static/default_test/snapshots/matrix_20241108_171330.png`"
   ]
  },
  {
   "cell_type": "code",
   "execution_count": null,
   "id": "2000bf8e",
   "metadata": {},
   "outputs": [],
   "source": [
    "display(Image(filename='static/default_test/snapshots/matrix_20241108_171330.png'))"
   ]
  },
  {
   "cell_type": "markdown",
   "id": "0931caf0",
   "metadata": {},
   "source": [
    "### Cambiamento: 2024-11-08 17:13:37\n",
    "- **PID**: leader_pid\n",
    "- **Color**: color\n",
    "- **Image Path**: `static/default_test/snapshots/matrix_20241108_171337.png`"
   ]
  },
  {
   "cell_type": "code",
   "execution_count": null,
   "id": "86fa70f6",
   "metadata": {},
   "outputs": [],
   "source": [
    "display(Image(filename='static/default_test/snapshots/matrix_20241108_171337.png'))"
   ]
  },
  {
   "cell_type": "markdown",
   "id": "35c4db8c",
   "metadata": {},
   "source": [
    "### Cambiamento: 2024-11-08 17:13:42\n",
    "- **PID**: leader_pid\n",
    "- **Color**: color\n",
    "- **Image Path**: `static/default_test/snapshots/matrix_20241108_171342.png`"
   ]
  },
  {
   "cell_type": "code",
   "execution_count": null,
   "id": "fa926553",
   "metadata": {},
   "outputs": [],
   "source": [
    "display(Image(filename='static/default_test/snapshots/matrix_20241108_171342.png'))"
   ]
  },
  {
   "cell_type": "markdown",
   "id": "31e11746",
   "metadata": {},
   "source": [
    "### Cambiamento: 2024-11-08 17:13:47\n",
    "- **PID**: leader_pid\n",
    "- **Color**: color\n",
    "- **Image Path**: `static/default_test/snapshots/matrix_20241108_171347.png`"
   ]
  },
  {
   "cell_type": "code",
   "execution_count": null,
   "id": "1dc111c6",
   "metadata": {},
   "outputs": [],
   "source": [
    "display(Image(filename='static/default_test/snapshots/matrix_20241108_171347.png'))"
   ]
  },
  {
   "cell_type": "markdown",
   "id": "a3de40d4",
   "metadata": {},
   "source": [
    "### Cambiamento: 2024-11-08 17:23:03\n",
    "- **PID**: leader_pid\n",
    "- **Color**: color\n",
    "- **Image Path**: `static/default_test/snapshots/matrix_20241108_172302.png`"
   ]
  },
  {
   "cell_type": "code",
   "execution_count": null,
   "id": "ad217025",
   "metadata": {},
   "outputs": [],
   "source": [
    "display(Image(filename='static/default_test/snapshots/matrix_20241108_172302.png'))"
   ]
  },
  {
   "cell_type": "markdown",
   "id": "08f7e026",
   "metadata": {},
   "source": [
    "### Cambiamento: 2024-11-08 17:23:06\n",
    "- **PID**: leader_pid\n",
    "- **Color**: color\n",
    "- **Image Path**: `static/default_test/snapshots/matrix_20241108_172306.png`"
   ]
  },
  {
   "cell_type": "code",
   "execution_count": null,
   "id": "0d204f7b",
   "metadata": {},
   "outputs": [],
   "source": [
    "display(Image(filename='static/default_test/snapshots/matrix_20241108_172306.png'))"
   ]
  },
  {
   "cell_type": "markdown",
   "id": "21c5b1ae",
   "metadata": {},
   "source": [
    "### Cambiamento: 2024-11-08 17:23:09\n",
    "- **PID**: leader_pid\n",
    "- **Color**: color\n",
    "- **Image Path**: `static/default_test/snapshots/matrix_20241108_172308.png`"
   ]
  },
  {
   "cell_type": "code",
   "execution_count": null,
   "id": "d1c8de97",
   "metadata": {},
   "outputs": [],
   "source": [
    "display(Image(filename='static/default_test/snapshots/matrix_20241108_172308.png'))"
   ]
  },
  {
   "cell_type": "markdown",
   "id": "fa85a416",
   "metadata": {},
   "source": [
    "### Cambiamento: 2024-11-08 17:23:09\n",
    "- **PID**: leader_pid\n",
    "- **Color**: color\n",
    "- **Image Path**: `static/default_test/snapshots/matrix_20241108_172309.png`"
   ]
  },
  {
   "cell_type": "code",
   "execution_count": null,
   "id": "b90ffb7e",
   "metadata": {},
   "outputs": [],
   "source": [
    "display(Image(filename='static/default_test/snapshots/matrix_20241108_172309.png'))"
   ]
  },
  {
   "cell_type": "markdown",
   "id": "d944cb54",
   "metadata": {},
   "source": [
    "### Cambiamento: 2024-11-08 17:23:10\n",
    "- **PID**: leader_pid\n",
    "- **Color**: color\n",
    "- **Image Path**: `static/default_test/snapshots/matrix_20241108_172309.png`"
   ]
  },
  {
   "cell_type": "code",
   "execution_count": null,
   "id": "99205444",
   "metadata": {},
   "outputs": [],
   "source": [
    "display(Image(filename='static/default_test/snapshots/matrix_20241108_172309.png'))"
   ]
  },
  {
   "cell_type": "markdown",
   "id": "c36bb6f2",
   "metadata": {},
   "source": [
    "### Cambiamento: 2024-11-08 17:23:11\n",
    "- **PID**: leader_pid\n",
    "- **Color**: color\n",
    "- **Image Path**: `static/default_test/snapshots/matrix_20241108_172310.png`"
   ]
  },
  {
   "cell_type": "code",
   "execution_count": null,
   "id": "eeea7f4d",
   "metadata": {},
   "outputs": [],
   "source": [
    "display(Image(filename='static/default_test/snapshots/matrix_20241108_172310.png'))"
   ]
  },
  {
   "cell_type": "markdown",
   "id": "f96ebd4c",
   "metadata": {},
   "source": [
    "### Cambiamento: 2024-11-08 17:23:12\n",
    "- **PID**: leader_pid\n",
    "- **Color**: color\n",
    "- **Image Path**: `static/default_test/snapshots/matrix_20241108_172311.png`"
   ]
  },
  {
   "cell_type": "code",
   "execution_count": null,
   "id": "dad225b7",
   "metadata": {},
   "outputs": [],
   "source": [
    "display(Image(filename='static/default_test/snapshots/matrix_20241108_172311.png'))"
   ]
  },
  {
   "cell_type": "markdown",
   "id": "9a651286",
   "metadata": {},
   "source": [
    "### Cambiamento: 2024-11-08 17:23:13\n",
    "- **PID**: leader_pid\n",
    "- **Color**: color\n",
    "- **Image Path**: `static/default_test/snapshots/matrix_20241108_172312.png`"
   ]
  },
  {
   "cell_type": "code",
   "execution_count": null,
   "id": "510a36e1",
   "metadata": {},
   "outputs": [],
   "source": [
    "display(Image(filename='static/default_test/snapshots/matrix_20241108_172312.png'))"
   ]
  },
  {
   "cell_type": "markdown",
   "id": "5118ac0b",
   "metadata": {},
   "source": [
    "### Cambiamento: 2024-11-08 17:23:14\n",
    "- **PID**: leader_pid\n",
    "- **Color**: color\n",
    "- **Image Path**: `static/default_test/snapshots/matrix_20241108_172313.png`"
   ]
  },
  {
   "cell_type": "code",
   "execution_count": null,
   "id": "30312e0d",
   "metadata": {},
   "outputs": [],
   "source": [
    "display(Image(filename='static/default_test/snapshots/matrix_20241108_172313.png'))"
   ]
  },
  {
   "cell_type": "markdown",
   "id": "052f90f3",
   "metadata": {},
   "source": [
    "### Cambiamento: 2024-11-08 17:23:17\n",
    "- **PID**: leader_pid\n",
    "- **Color**: color\n",
    "- **Image Path**: `static/default_test/snapshots/matrix_20241108_172316.png`"
   ]
  },
  {
   "cell_type": "code",
   "execution_count": null,
   "id": "b0b7d3bd",
   "metadata": {},
   "outputs": [],
   "source": [
    "display(Image(filename='static/default_test/snapshots/matrix_20241108_172316.png'))"
   ]
  },
  {
   "cell_type": "markdown",
   "id": "9e8283a7",
   "metadata": {},
   "source": [
    "### Cambiamento: 2024-11-08 17:23:17\n",
    "- **PID**: leader_pid\n",
    "- **Color**: color\n",
    "- **Image Path**: `static/default_test/snapshots/matrix_20241108_172317.png`"
   ]
  },
  {
   "cell_type": "code",
   "execution_count": null,
   "id": "28096cab",
   "metadata": {},
   "outputs": [],
   "source": [
    "display(Image(filename='static/default_test/snapshots/matrix_20241108_172317.png'))"
   ]
  },
  {
   "cell_type": "markdown",
   "id": "b09100d8",
   "metadata": {},
   "source": [
    "### Cambiamento: 2024-11-08 17:23:20\n",
    "- **PID**: leader_pid\n",
    "- **Color**: color\n",
    "- **Image Path**: `static/default_test/snapshots/matrix_20241108_172319.png`"
   ]
  },
  {
   "cell_type": "code",
   "execution_count": null,
   "id": "4356402e",
   "metadata": {},
   "outputs": [],
   "source": [
    "display(Image(filename='static/default_test/snapshots/matrix_20241108_172319.png'))"
   ]
  },
  {
   "cell_type": "markdown",
   "id": "66edfa4e",
   "metadata": {},
   "source": [
    "### Cambiamento: 2024-11-08 17:23:20\n",
    "- **PID**: leader_pid\n",
    "- **Color**: color\n",
    "- **Image Path**: `static/default_test/snapshots/matrix_20241108_172320.png`"
   ]
  },
  {
   "cell_type": "code",
   "execution_count": null,
   "id": "f7846699",
   "metadata": {},
   "outputs": [],
   "source": [
    "display(Image(filename='static/default_test/snapshots/matrix_20241108_172320.png'))"
   ]
  },
  {
   "cell_type": "markdown",
   "id": "8822c51f",
   "metadata": {},
   "source": [
    "### Cambiamento: 2024-11-08 17:23:24\n",
    "- **PID**: leader_pid\n",
    "- **Color**: color\n",
    "- **Image Path**: `static/default_test/snapshots/matrix_20241108_172323.png`"
   ]
  },
  {
   "cell_type": "code",
   "execution_count": null,
   "id": "4a74865e",
   "metadata": {},
   "outputs": [],
   "source": [
    "display(Image(filename='static/default_test/snapshots/matrix_20241108_172323.png'))"
   ]
  },
  {
   "cell_type": "markdown",
   "id": "00085474",
   "metadata": {},
   "source": [
    "### Cambiamento: 2024-11-08 17:23:25\n",
    "- **PID**: leader_pid\n",
    "- **Color**: color\n",
    "- **Image Path**: `static/default_test/snapshots/matrix_20241108_172324.png`"
   ]
  },
  {
   "cell_type": "code",
   "execution_count": null,
   "id": "7f8b467c",
   "metadata": {},
   "outputs": [],
   "source": [
    "display(Image(filename='static/default_test/snapshots/matrix_20241108_172324.png'))"
   ]
  },
  {
   "cell_type": "markdown",
   "id": "ad026063",
   "metadata": {},
   "source": [
    "### Cambiamento: 2024-11-08 17:27:44\n",
    "- **PID**: leader_pid\n",
    "- **Color**: color\n",
    "- **Image Path**: `static/default_test/snapshots/matrix_20241108_172741.png`"
   ]
  },
  {
   "cell_type": "code",
   "execution_count": null,
   "id": "198d77ca",
   "metadata": {},
   "outputs": [],
   "source": [
    "display(Image(filename='static/default_test/snapshots/matrix_20241108_172741.png'))"
   ]
  },
  {
   "cell_type": "markdown",
   "id": "58843895",
   "metadata": {},
   "source": [
    "### Cambiamento: 2024-11-08 17:27:51\n",
    "- **PID**: leader_pid\n",
    "- **Color**: color\n",
    "- **Image Path**: `static/default_test/snapshots/matrix_20241108_172750.png`"
   ]
  },
  {
   "cell_type": "code",
   "execution_count": null,
   "id": "88fa77d4",
   "metadata": {},
   "outputs": [],
   "source": [
    "display(Image(filename='static/default_test/snapshots/matrix_20241108_172750.png'))"
   ]
  },
  {
   "cell_type": "markdown",
   "id": "b676526b",
   "metadata": {},
   "source": [
    "### Cambiamento: 2024-11-08 17:27:51\n",
    "- **PID**: leader_pid\n",
    "- **Color**: color\n",
    "- **Image Path**: `static/default_test/snapshots/matrix_20241108_172751.png`"
   ]
  },
  {
   "cell_type": "code",
   "execution_count": null,
   "id": "643f8571",
   "metadata": {},
   "outputs": [],
   "source": [
    "display(Image(filename='static/default_test/snapshots/matrix_20241108_172751.png'))"
   ]
  },
  {
   "cell_type": "markdown",
   "id": "e4177da0",
   "metadata": {},
   "source": [
    "### Cambiamento: 2024-11-08 17:27:53\n",
    "- **PID**: leader_pid\n",
    "- **Color**: color\n",
    "- **Image Path**: `static/default_test/snapshots/matrix_20241108_172752.png`"
   ]
  },
  {
   "cell_type": "code",
   "execution_count": null,
   "id": "edb75150",
   "metadata": {},
   "outputs": [],
   "source": [
    "display(Image(filename='static/default_test/snapshots/matrix_20241108_172752.png'))"
   ]
  },
  {
   "cell_type": "markdown",
   "id": "52d75c56",
   "metadata": {},
   "source": [
    "### Cambiamento: 2024-11-08 17:27:53\n",
    "- **PID**: leader_pid\n",
    "- **Color**: color\n",
    "- **Image Path**: `static/default_test/snapshots/matrix_20241108_172753.png`"
   ]
  },
  {
   "cell_type": "code",
   "execution_count": null,
   "id": "ce1f0f5d",
   "metadata": {},
   "outputs": [],
   "source": [
    "display(Image(filename='static/default_test/snapshots/matrix_20241108_172753.png'))"
   ]
  },
  {
   "cell_type": "markdown",
   "id": "bf749cb8",
   "metadata": {},
   "source": [
    "### Cambiamento: 2024-11-08 17:28:13\n",
    "- **PID**: leader_pid\n",
    "- **Color**: color\n",
    "- **Image Path**: `static/default_test/snapshots/matrix_20241108_172813.png`"
   ]
  },
  {
   "cell_type": "code",
   "execution_count": null,
   "id": "60928724",
   "metadata": {},
   "outputs": [],
   "source": [
    "display(Image(filename='static/default_test/snapshots/matrix_20241108_172813.png'))"
   ]
  },
  {
   "cell_type": "markdown",
   "id": "01107593",
   "metadata": {},
   "source": [
    "### Cambiamento: 2024-11-08 17:28:20\n",
    "- **PID**: leader_pid\n",
    "- **Color**: color\n",
    "- **Image Path**: `static/default_test/snapshots/matrix_20241108_172819.png`"
   ]
  },
  {
   "cell_type": "code",
   "execution_count": null,
   "id": "6447c170",
   "metadata": {},
   "outputs": [],
   "source": [
    "display(Image(filename='static/default_test/snapshots/matrix_20241108_172819.png'))"
   ]
  },
  {
   "cell_type": "markdown",
   "id": "855ad198",
   "metadata": {},
   "source": [
    "### Cambiamento: 2024-11-08 17:28:23\n",
    "- **PID**: leader_pid\n",
    "- **Color**: color\n",
    "- **Image Path**: `static/default_test/snapshots/matrix_20241108_172822.png`"
   ]
  },
  {
   "cell_type": "code",
   "execution_count": null,
   "id": "d5691f3c",
   "metadata": {},
   "outputs": [],
   "source": [
    "display(Image(filename='static/default_test/snapshots/matrix_20241108_172822.png'))"
   ]
  },
  {
   "cell_type": "markdown",
   "id": "a7418ac9",
   "metadata": {},
   "source": [
    "### Cambiamento: 2024-11-08 17:28:26\n",
    "- **PID**: leader_pid\n",
    "- **Color**: color\n",
    "- **Image Path**: `static/default_test/snapshots/matrix_20241108_172826.png`"
   ]
  },
  {
   "cell_type": "code",
   "execution_count": null,
   "id": "85102598",
   "metadata": {},
   "outputs": [],
   "source": [
    "display(Image(filename='static/default_test/snapshots/matrix_20241108_172826.png'))"
   ]
  },
  {
   "cell_type": "markdown",
   "id": "81171d2f",
   "metadata": {},
   "source": [
    "### Cambiamento: 2024-11-08 17:28:31\n",
    "- **PID**: leader_pid\n",
    "- **Color**: color\n",
    "- **Image Path**: `static/default_test/snapshots/matrix_20241108_172830.png`"
   ]
  },
  {
   "cell_type": "code",
   "execution_count": null,
   "id": "c37d20c1",
   "metadata": {},
   "outputs": [],
   "source": [
    "display(Image(filename='static/default_test/snapshots/matrix_20241108_172830.png'))"
   ]
  },
  {
   "cell_type": "markdown",
   "id": "b8e8e5a2",
   "metadata": {},
   "source": [
    "### Cambiamento: 2024-11-08 17:28:34\n",
    "- **PID**: leader_pid\n",
    "- **Color**: color\n",
    "- **Image Path**: `static/default_test/snapshots/matrix_20241108_172833.png`"
   ]
  },
  {
   "cell_type": "code",
   "execution_count": null,
   "id": "f1872c9d",
   "metadata": {},
   "outputs": [],
   "source": [
    "display(Image(filename='static/default_test/snapshots/matrix_20241108_172833.png'))"
   ]
  },
  {
   "cell_type": "markdown",
   "id": "a7f893d5",
   "metadata": {},
   "source": [
    "### Cambiamento: 2024-11-08 17:28:36\n",
    "- **PID**: leader_pid\n",
    "- **Color**: color\n",
    "- **Image Path**: `static/default_test/snapshots/matrix_20241108_172836.png`"
   ]
  },
  {
   "cell_type": "code",
   "execution_count": null,
   "id": "67cd3870",
   "metadata": {},
   "outputs": [],
   "source": [
    "display(Image(filename='static/default_test/snapshots/matrix_20241108_172836.png'))"
   ]
  },
  {
   "cell_type": "markdown",
   "id": "2c1e4c6e",
   "metadata": {},
   "source": [
    "### Cambiamento: 2024-11-08 17:28:39\n",
    "- **PID**: leader_pid\n",
    "- **Color**: color\n",
    "- **Image Path**: `static/default_test/snapshots/matrix_20241108_172839.png`"
   ]
  },
  {
   "cell_type": "code",
   "execution_count": null,
   "id": "b93711da",
   "metadata": {},
   "outputs": [],
   "source": [
    "display(Image(filename='static/default_test/snapshots/matrix_20241108_172839.png'))"
   ]
  },
  {
   "cell_type": "markdown",
   "id": "a95fb7a6",
   "metadata": {},
   "source": [
    "### Cambiamento: 2024-11-08 17:28:42\n",
    "- **PID**: leader_pid\n",
    "- **Color**: color\n",
    "- **Image Path**: `static/default_test/snapshots/matrix_20241108_172842.png`"
   ]
  },
  {
   "cell_type": "code",
   "execution_count": null,
   "id": "4b14991f",
   "metadata": {},
   "outputs": [],
   "source": [
    "display(Image(filename='static/default_test/snapshots/matrix_20241108_172842.png'))"
   ]
  },
  {
   "cell_type": "markdown",
   "id": "32b187f3",
   "metadata": {},
   "source": [
    "### Cambiamento: 2024-11-08 17:28:44\n",
    "- **PID**: leader_pid\n",
    "- **Color**: color\n",
    "- **Image Path**: `static/default_test/snapshots/matrix_20241108_172844.png`"
   ]
  },
  {
   "cell_type": "code",
   "execution_count": null,
   "id": "bbd9f150",
   "metadata": {},
   "outputs": [],
   "source": [
    "display(Image(filename='static/default_test/snapshots/matrix_20241108_172844.png'))"
   ]
  },
  {
   "cell_type": "markdown",
   "id": "6ca290c4",
   "metadata": {},
   "source": [
    "### Cambiamento: 2024-11-08 17:28:48\n",
    "- **PID**: leader_pid\n",
    "- **Color**: color\n",
    "- **Image Path**: `static/default_test/snapshots/matrix_20241108_172848.png`"
   ]
  },
  {
   "cell_type": "code",
   "execution_count": null,
   "id": "13b046d6",
   "metadata": {},
   "outputs": [],
   "source": [
    "display(Image(filename='static/default_test/snapshots/matrix_20241108_172848.png'))"
   ]
  },
  {
   "cell_type": "markdown",
   "id": "b685103b",
   "metadata": {},
   "source": [
    "### Cambiamento: 2024-11-08 17:28:51\n",
    "- **PID**: leader_pid\n",
    "- **Color**: color\n",
    "- **Image Path**: `static/default_test/snapshots/matrix_20241108_172850.png`"
   ]
  },
  {
   "cell_type": "code",
   "execution_count": null,
   "id": "388b11ef",
   "metadata": {},
   "outputs": [],
   "source": [
    "display(Image(filename='static/default_test/snapshots/matrix_20241108_172850.png'))"
   ]
  },
  {
   "cell_type": "markdown",
   "id": "758312c4",
   "metadata": {},
   "source": [
    "### Cambiamento: 2024-11-08 17:28:56\n",
    "- **PID**: leader_pid\n",
    "- **Color**: color\n",
    "- **Image Path**: `static/default_test/snapshots/matrix_20241108_172856.png`"
   ]
  },
  {
   "cell_type": "code",
   "execution_count": null,
   "id": "7f07c19e",
   "metadata": {},
   "outputs": [],
   "source": [
    "display(Image(filename='static/default_test/snapshots/matrix_20241108_172856.png'))"
   ]
  },
  {
   "cell_type": "markdown",
   "id": "d83cc499",
   "metadata": {},
   "source": [
    "### Cambiamento: 2024-11-08 17:28:59\n",
    "- **PID**: leader_pid\n",
    "- **Color**: color\n",
    "- **Image Path**: `static/default_test/snapshots/matrix_20241108_172858.png`"
   ]
  },
  {
   "cell_type": "code",
   "execution_count": null,
   "id": "260fc19a",
   "metadata": {},
   "outputs": [],
   "source": [
    "display(Image(filename='static/default_test/snapshots/matrix_20241108_172858.png'))"
   ]
  },
  {
   "cell_type": "markdown",
   "id": "200b010f",
   "metadata": {},
   "source": [
    "### Cambiamento: 2024-11-08 17:29:01\n",
    "- **PID**: leader_pid\n",
    "- **Color**: color\n",
    "- **Image Path**: `static/default_test/snapshots/matrix_20241108_172900.png`"
   ]
  },
  {
   "cell_type": "code",
   "execution_count": null,
   "id": "bd42645c",
   "metadata": {},
   "outputs": [],
   "source": [
    "display(Image(filename='static/default_test/snapshots/matrix_20241108_172900.png'))"
   ]
  },
  {
   "cell_type": "markdown",
   "id": "78d862bd",
   "metadata": {},
   "source": [
    "### Cambiamento: 2024-11-08 17:29:07\n",
    "- **PID**: leader_pid\n",
    "- **Color**: color\n",
    "- **Image Path**: `static/default_test/snapshots/matrix_20241108_172907.png`"
   ]
  },
  {
   "cell_type": "code",
   "execution_count": null,
   "id": "3779e2cb",
   "metadata": {},
   "outputs": [],
   "source": [
    "display(Image(filename='static/default_test/snapshots/matrix_20241108_172907.png'))"
   ]
  },
  {
   "cell_type": "markdown",
   "id": "538bb593",
   "metadata": {},
   "source": [
    "### Cambiamento: 2024-11-08 17:29:07\n",
    "- **PID**: leader_pid\n",
    "- **Color**: color\n",
    "- **Image Path**: `static/default_test/snapshots/matrix_20241108_172907.png`"
   ]
  },
  {
   "cell_type": "code",
   "execution_count": null,
   "id": "7b41ffff",
   "metadata": {},
   "outputs": [],
   "source": [
    "display(Image(filename='static/default_test/snapshots/matrix_20241108_172907.png'))"
   ]
  },
  {
   "cell_type": "markdown",
   "id": "0050495a",
   "metadata": {},
   "source": [
    "### Cambiamento: 2024-11-08 17:29:09\n",
    "- **PID**: leader_pid\n",
    "- **Color**: color\n",
    "- **Image Path**: `static/default_test/snapshots/matrix_20241108_172909.png`"
   ]
  },
  {
   "cell_type": "code",
   "execution_count": null,
   "id": "92f774c9",
   "metadata": {},
   "outputs": [],
   "source": [
    "display(Image(filename='static/default_test/snapshots/matrix_20241108_172909.png'))"
   ]
  },
  {
   "cell_type": "markdown",
   "id": "f0cc14af",
   "metadata": {},
   "source": [
    "### Cambiamento: 2024-11-08 17:29:09\n",
    "- **PID**: leader_pid\n",
    "- **Color**: color\n",
    "- **Image Path**: `static/default_test/snapshots/matrix_20241108_172909.png`"
   ]
  },
  {
   "cell_type": "code",
   "execution_count": null,
   "id": "cd3b1348",
   "metadata": {},
   "outputs": [],
   "source": [
    "display(Image(filename='static/default_test/snapshots/matrix_20241108_172909.png'))"
   ]
  },
  {
   "cell_type": "markdown",
   "id": "3a5d6f2f",
   "metadata": {},
   "source": [
    "### Cambiamento: 2024-11-08 17:29:31\n",
    "- **PID**: leader_pid\n",
    "- **Color**: color\n",
    "- **Image Path**: `static/default_test/snapshots/matrix_20241108_172930.png`"
   ]
  },
  {
   "cell_type": "code",
   "execution_count": null,
   "id": "aab95a8f",
   "metadata": {},
   "outputs": [],
   "source": [
    "display(Image(filename='static/default_test/snapshots/matrix_20241108_172930.png'))"
   ]
  },
  {
   "cell_type": "markdown",
   "id": "2cdcf660",
   "metadata": {},
   "source": [
    "### Cambiamento: 2024-11-08 17:29:58\n",
    "- **PID**: leader_pid\n",
    "- **Color**: color\n",
    "- **Image Path**: `static/default_test/snapshots/matrix_20241108_172958.png`"
   ]
  },
  {
   "cell_type": "code",
   "execution_count": null,
   "id": "d8106983",
   "metadata": {},
   "outputs": [],
   "source": [
    "display(Image(filename='static/default_test/snapshots/matrix_20241108_172958.png'))"
   ]
  },
  {
   "cell_type": "markdown",
   "id": "230be0cf",
   "metadata": {},
   "source": [
    "### Cambiamento: 2024-11-08 17:30:22\n",
    "- **PID**: leader_pid\n",
    "- **Color**: color\n",
    "- **Image Path**: `static/default_test/snapshots/matrix_20241108_173021.png`"
   ]
  },
  {
   "cell_type": "code",
   "execution_count": null,
   "id": "847650a1",
   "metadata": {},
   "outputs": [],
   "source": [
    "display(Image(filename='static/default_test/snapshots/matrix_20241108_173021.png'))"
   ]
  },
  {
   "cell_type": "markdown",
   "id": "3e2346b4",
   "metadata": {},
   "source": [
    "### Cambiamento: 2024-11-08 17:30:23\n",
    "- **PID**: leader_pid\n",
    "- **Color**: color\n",
    "- **Image Path**: `static/default_test/snapshots/matrix_20241108_173022.png`"
   ]
  },
  {
   "cell_type": "code",
   "execution_count": null,
   "id": "4c4052c9",
   "metadata": {},
   "outputs": [],
   "source": [
    "display(Image(filename='static/default_test/snapshots/matrix_20241108_173022.png'))"
   ]
  },
  {
   "cell_type": "markdown",
   "id": "cbd09522",
   "metadata": {},
   "source": [
    "### Cambiamento: 2024-11-08 17:30:24\n",
    "- **PID**: leader_pid\n",
    "- **Color**: color\n",
    "- **Image Path**: `static/default_test/snapshots/matrix_20241108_173023.png`"
   ]
  },
  {
   "cell_type": "code",
   "execution_count": null,
   "id": "250b6c7d",
   "metadata": {},
   "outputs": [],
   "source": [
    "display(Image(filename='static/default_test/snapshots/matrix_20241108_173023.png'))"
   ]
  },
  {
   "cell_type": "markdown",
   "id": "68598de9",
   "metadata": {},
   "source": [
    "### Cambiamento: 2024-11-08 17:30:25\n",
    "- **PID**: leader_pid\n",
    "- **Color**: color\n",
    "- **Image Path**: `static/default_test/snapshots/matrix_20241108_173024.png`"
   ]
  },
  {
   "cell_type": "code",
   "execution_count": null,
   "id": "18fd192c",
   "metadata": {},
   "outputs": [],
   "source": [
    "display(Image(filename='static/default_test/snapshots/matrix_20241108_173024.png'))"
   ]
  },
  {
   "cell_type": "markdown",
   "id": "6d0853c6",
   "metadata": {},
   "source": [
    "### Cambiamento: 2024-11-08 17:30:25\n",
    "- **PID**: leader_pid\n",
    "- **Color**: color\n",
    "- **Image Path**: `static/default_test/snapshots/matrix_20241108_173025.png`"
   ]
  },
  {
   "cell_type": "code",
   "execution_count": null,
   "id": "77084694",
   "metadata": {},
   "outputs": [],
   "source": [
    "display(Image(filename='static/default_test/snapshots/matrix_20241108_173025.png'))"
   ]
  },
  {
   "cell_type": "markdown",
   "id": "0fff1924",
   "metadata": {},
   "source": [
    "### Cambiamento: 2024-11-08 17:30:27\n",
    "- **PID**: leader_pid\n",
    "- **Color**: color\n",
    "- **Image Path**: `static/default_test/snapshots/matrix_20241108_173026.png`"
   ]
  },
  {
   "cell_type": "code",
   "execution_count": null,
   "id": "2af77f9e",
   "metadata": {},
   "outputs": [],
   "source": [
    "display(Image(filename='static/default_test/snapshots/matrix_20241108_173026.png'))"
   ]
  },
  {
   "cell_type": "markdown",
   "id": "161f42de",
   "metadata": {},
   "source": [
    "### Cambiamento: 2024-11-08 17:30:29\n",
    "- **PID**: leader_pid\n",
    "- **Color**: color\n",
    "- **Image Path**: `static/default_test/snapshots/matrix_20241108_173028.png`"
   ]
  },
  {
   "cell_type": "code",
   "execution_count": null,
   "id": "0443a6c7",
   "metadata": {},
   "outputs": [],
   "source": [
    "display(Image(filename='static/default_test/snapshots/matrix_20241108_173028.png'))"
   ]
  },
  {
   "cell_type": "markdown",
   "id": "70b8e9a2",
   "metadata": {},
   "source": [
    "### Cambiamento: 2024-11-08 17:30:29\n",
    "- **PID**: leader_pid\n",
    "- **Color**: color\n",
    "- **Image Path**: `static/default_test/snapshots/matrix_20241108_173029.png`"
   ]
  },
  {
   "cell_type": "code",
   "execution_count": null,
   "id": "8b37217b",
   "metadata": {},
   "outputs": [],
   "source": [
    "display(Image(filename='static/default_test/snapshots/matrix_20241108_173029.png'))"
   ]
  },
  {
   "cell_type": "markdown",
   "id": "9940b15d",
   "metadata": {},
   "source": [
    "### Cambiamento: 2024-11-08 17:30:31\n",
    "- **PID**: leader_pid\n",
    "- **Color**: color\n",
    "- **Image Path**: `static/default_test/snapshots/matrix_20241108_173031.png`"
   ]
  },
  {
   "cell_type": "code",
   "execution_count": null,
   "id": "00313d87",
   "metadata": {},
   "outputs": [],
   "source": [
    "display(Image(filename='static/default_test/snapshots/matrix_20241108_173031.png'))"
   ]
  },
  {
   "cell_type": "markdown",
   "id": "a6957289",
   "metadata": {},
   "source": [
    "### Cambiamento: 2024-11-08 17:30:32\n",
    "- **PID**: leader_pid\n",
    "- **Color**: color\n",
    "- **Image Path**: `static/default_test/snapshots/matrix_20241108_173031.png`"
   ]
  },
  {
   "cell_type": "code",
   "execution_count": null,
   "id": "6b989663",
   "metadata": {},
   "outputs": [],
   "source": [
    "display(Image(filename='static/default_test/snapshots/matrix_20241108_173031.png'))"
   ]
  },
  {
   "cell_type": "markdown",
   "id": "50060013",
   "metadata": {},
   "source": [
    "### Cambiamento: 2024-11-08 17:30:33\n",
    "- **PID**: leader_pid\n",
    "- **Color**: color\n",
    "- **Image Path**: `static/default_test/snapshots/matrix_20241108_173032.png`"
   ]
  },
  {
   "cell_type": "code",
   "execution_count": null,
   "id": "959228bb",
   "metadata": {},
   "outputs": [],
   "source": [
    "display(Image(filename='static/default_test/snapshots/matrix_20241108_173032.png'))"
   ]
  },
  {
   "cell_type": "markdown",
   "id": "cab4ada7",
   "metadata": {},
   "source": [
    "### Cambiamento: 2024-11-08 17:30:34\n",
    "- **PID**: leader_pid\n",
    "- **Color**: color\n",
    "- **Image Path**: `static/default_test/snapshots/matrix_20241108_173033.png`"
   ]
  },
  {
   "cell_type": "code",
   "execution_count": null,
   "id": "6fb49779",
   "metadata": {},
   "outputs": [],
   "source": [
    "display(Image(filename='static/default_test/snapshots/matrix_20241108_173033.png'))"
   ]
  },
  {
   "cell_type": "markdown",
   "id": "659f607d",
   "metadata": {},
   "source": [
    "### Cambiamento: 2024-11-08 17:30:35\n",
    "- **PID**: leader_pid\n",
    "- **Color**: color\n",
    "- **Image Path**: `static/default_test/snapshots/matrix_20241108_173034.png`"
   ]
  },
  {
   "cell_type": "code",
   "execution_count": null,
   "id": "b7fcd660",
   "metadata": {},
   "outputs": [],
   "source": [
    "display(Image(filename='static/default_test/snapshots/matrix_20241108_173034.png'))"
   ]
  }
 ],
 "metadata": {},
 "nbformat": 4,
 "nbformat_minor": 5
}
