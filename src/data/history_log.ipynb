{
 "cells": [
  {
   "cell_type": "code",
   "execution_count": null,
   "id": "d35ccfac",
   "metadata": {},
   "outputs": [],
   "source": [
    "from IPython.display import display, Image"
   ]
  },
  {
   "cell_type": "markdown",
   "id": "0d835b40",
   "metadata": {},
   "source": [
    "### Cambiamento: 2024-11-07 11:07:37\n",
    "- **PID**: leader_pid\n",
    "- **Color**: color\n",
    "- **Image Path**: `static/default_test/snapshots/matrix_20241107_110737.png`"
   ]
  },
  {
   "cell_type": "code",
   "execution_count": null,
   "id": "5090c46e",
   "metadata": {},
   "outputs": [],
   "source": [
    "display(Image(filename='static/default_test/snapshots/matrix_20241107_110737.png'))"
   ]
  },
  {
   "cell_type": "markdown",
   "id": "4d7c9c97",
   "metadata": {},
   "source": [
    "### Cambiamento: 2024-11-07 11:07:53\n",
    "- **PID**: leader_pid\n",
    "- **Color**: color\n",
    "- **Image Path**: `static/default_test/snapshots/matrix_20241107_110752.png`"
   ]
  },
  {
   "cell_type": "code",
   "execution_count": null,
   "id": "7cc21c01",
   "metadata": {},
   "outputs": [],
   "source": [
    "display(Image(filename='static/default_test/snapshots/matrix_20241107_110752.png'))"
   ]
  },
  {
   "cell_type": "markdown",
   "id": "4696f0a9",
   "metadata": {},
   "source": [
    "### Cambiamento: 2024-11-07 11:08:13\n",
    "- **PID**: leader_pid\n",
    "- **Color**: color\n",
    "- **Image Path**: `static/default_test/snapshots/matrix_20241107_110812.png`"
   ]
  },
  {
   "cell_type": "code",
   "execution_count": null,
   "id": "5525f30b",
   "metadata": {},
   "outputs": [],
   "source": [
    "display(Image(filename='static/default_test/snapshots/matrix_20241107_110812.png'))"
   ]
  },
  {
   "cell_type": "markdown",
   "id": "021ab3bf",
   "metadata": {},
   "source": [
    "### Cambiamento: 2024-11-07 11:08:23\n",
    "- **PID**: leader_pid\n",
    "- **Color**: color\n",
    "- **Image Path**: `static/default_test/snapshots/matrix_20241107_110822.png`"
   ]
  },
  {
   "cell_type": "code",
   "execution_count": null,
   "id": "69f211b9",
   "metadata": {},
   "outputs": [],
   "source": [
    "display(Image(filename='static/default_test/snapshots/matrix_20241107_110822.png'))"
   ]
  },
  {
   "cell_type": "markdown",
   "id": "dbe59245",
   "metadata": {},
   "source": [
    "### Cambiamento: 2024-11-07 11:08:33\n",
    "- **PID**: leader_pid\n",
    "- **Color**: color\n",
    "- **Image Path**: `static/default_test/snapshots/matrix_20241107_110832.png`"
   ]
  },
  {
   "cell_type": "code",
   "execution_count": null,
   "id": "ef09603c",
   "metadata": {},
   "outputs": [],
   "source": [
    "display(Image(filename='static/default_test/snapshots/matrix_20241107_110832.png'))"
   ]
  },
  {
   "cell_type": "markdown",
   "id": "84925131",
   "metadata": {},
   "source": [
    "### Cambiamento: 2024-11-07 11:08:43\n",
    "- **PID**: leader_pid\n",
    "- **Color**: color\n",
    "- **Image Path**: `static/default_test/snapshots/matrix_20241107_110842.png`"
   ]
  },
  {
   "cell_type": "code",
   "execution_count": null,
   "id": "822c02d2",
   "metadata": {},
   "outputs": [],
   "source": [
    "display(Image(filename='static/default_test/snapshots/matrix_20241107_110842.png'))"
   ]
  },
  {
   "cell_type": "markdown",
   "id": "b5430c26",
   "metadata": {},
   "source": [
    "### Cambiamento: 2024-11-07 11:08:53\n",
    "- **PID**: leader_pid\n",
    "- **Color**: color\n",
    "- **Image Path**: `static/default_test/snapshots/matrix_20241107_110852.png`"
   ]
  },
  {
   "cell_type": "code",
   "execution_count": null,
   "id": "554643f4",
   "metadata": {},
   "outputs": [],
   "source": [
    "display(Image(filename='static/default_test/snapshots/matrix_20241107_110852.png'))"
   ]
  }
 ],
 "metadata": {},
 "nbformat": 4,
 "nbformat_minor": 5
}
