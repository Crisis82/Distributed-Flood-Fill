{
 "cells": [
  {
   "cell_type": "code",
   "execution_count": null,
   "id": "b8d4a354",
   "metadata": {},
   "outputs": [],
   "source": [
    "from IPython.display import display, Image"
   ]
  },
  {
   "cell_type": "markdown",
   "id": "7bf61885",
   "metadata": {},
   "source": [
    "### Cambiamento: 2024-11-09 18:36:18\n",
    "- **PID**: leader_pid\n",
    "- **Color**: color\n",
    "- **Image Path**: `static/default_test/snapshots/matrix_20241109_183618.png`"
   ]
  },
  {
   "cell_type": "code",
   "execution_count": null,
   "id": "c306df4e",
   "metadata": {},
   "outputs": [],
   "source": [
    "display(Image(filename='static/default_test/snapshots/matrix_20241109_183618.png'))"
   ]
  },
  {
   "cell_type": "markdown",
   "id": "32fed24a",
   "metadata": {},
   "source": [
    "### Cambiamento: 2024-11-09 18:37:22\n",
    "- **PID**: leader_pid\n",
    "- **Color**: color\n",
    "- **Image Path**: `static/default_test/snapshots/matrix_20241109_183721.png`"
   ]
  },
  {
   "cell_type": "code",
   "execution_count": null,
   "id": "814454b8",
   "metadata": {},
   "outputs": [],
   "source": [
    "display(Image(filename='static/default_test/snapshots/matrix_20241109_183721.png'))"
   ]
  }
 ],
 "metadata": {},
 "nbformat": 4,
 "nbformat_minor": 5
}
